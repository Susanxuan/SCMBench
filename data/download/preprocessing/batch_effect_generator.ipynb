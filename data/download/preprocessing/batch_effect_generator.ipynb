{
 "cells": [
  {
   "cell_type": "code",
   "execution_count": 1,
   "metadata": {},
   "outputs": [],
   "source": [
    "import anndata as ad\n",
    "import scanpy as sc\n",
    "import numpy as np\n",
    "import pandas as pd"
   ]
  },
  {
   "cell_type": "code",
   "execution_count": 62,
   "metadata": {},
   "outputs": [],
   "source": [
    "refer_adata_atac=sc.read_h5ad('/mnt/nas/user/yixuan/Multiomics-benchmark-main/data/download/simulated_var_cell_effect/0910_grn_1139_simulated_num_cell_10000_num_batch_5_num_gene_5000-noised-effect-80-ATAC.h5ad')\n",
    "refer_adata_rna=sc.read_h5ad('/mnt/nas/user/yixuan/Multiomics-benchmark-main/data/download/simulated_var_cell_effect/0910_grn_1139_simulated_num_cell_10000_num_batch_5_num_gene_5000-noised-effect-80-RNA.h5ad')"
   ]
  },
  {
   "cell_type": "code",
   "execution_count": 65,
   "metadata": {},
   "outputs": [
    {
     "data": {
      "text/html": [
       "<div>\n",
       "<style scoped>\n",
       "    .dataframe tbody tr th:only-of-type {\n",
       "        vertical-align: middle;\n",
       "    }\n",
       "\n",
       "    .dataframe tbody tr th {\n",
       "        vertical-align: top;\n",
       "    }\n",
       "\n",
       "    .dataframe thead th {\n",
       "        text-align: right;\n",
       "    }\n",
       "</style>\n",
       "<table border=\"1\" class=\"dataframe\">\n",
       "  <thead>\n",
       "    <tr style=\"text-align: right;\">\n",
       "      <th></th>\n",
       "      <th>cell_type</th>\n",
       "      <th>batch</th>\n",
       "    </tr>\n",
       "    <tr>\n",
       "      <th>cells</th>\n",
       "      <th></th>\n",
       "      <th></th>\n",
       "    </tr>\n",
       "  </thead>\n",
       "  <tbody>\n",
       "    <tr>\n",
       "      <th>cell1</th>\n",
       "      <td>1</td>\n",
       "      <td>1</td>\n",
       "    </tr>\n",
       "    <tr>\n",
       "      <th>cell2</th>\n",
       "      <td>1</td>\n",
       "      <td>4</td>\n",
       "    </tr>\n",
       "    <tr>\n",
       "      <th>cell3</th>\n",
       "      <td>1</td>\n",
       "      <td>1</td>\n",
       "    </tr>\n",
       "    <tr>\n",
       "      <th>cell4</th>\n",
       "      <td>1</td>\n",
       "      <td>2</td>\n",
       "    </tr>\n",
       "    <tr>\n",
       "      <th>cell5</th>\n",
       "      <td>1</td>\n",
       "      <td>5</td>\n",
       "    </tr>\n",
       "    <tr>\n",
       "      <th>...</th>\n",
       "      <td>...</td>\n",
       "      <td>...</td>\n",
       "    </tr>\n",
       "    <tr>\n",
       "      <th>cell9996</th>\n",
       "      <td>5</td>\n",
       "      <td>5</td>\n",
       "    </tr>\n",
       "    <tr>\n",
       "      <th>cell9997</th>\n",
       "      <td>5</td>\n",
       "      <td>5</td>\n",
       "    </tr>\n",
       "    <tr>\n",
       "      <th>cell9998</th>\n",
       "      <td>5</td>\n",
       "      <td>1</td>\n",
       "    </tr>\n",
       "    <tr>\n",
       "      <th>cell9999</th>\n",
       "      <td>5</td>\n",
       "      <td>5</td>\n",
       "    </tr>\n",
       "    <tr>\n",
       "      <th>cell10000</th>\n",
       "      <td>5</td>\n",
       "      <td>3</td>\n",
       "    </tr>\n",
       "  </tbody>\n",
       "</table>\n",
       "<p>10000 rows × 2 columns</p>\n",
       "</div>"
      ],
      "text/plain": [
       "           cell_type  batch\n",
       "cells                      \n",
       "cell1              1      1\n",
       "cell2              1      4\n",
       "cell3              1      1\n",
       "cell4              1      2\n",
       "cell5              1      5\n",
       "...              ...    ...\n",
       "cell9996           5      5\n",
       "cell9997           5      5\n",
       "cell9998           5      1\n",
       "cell9999           5      5\n",
       "cell10000          5      3\n",
       "\n",
       "[10000 rows x 2 columns]"
      ]
     },
     "execution_count": 65,
     "metadata": {},
     "output_type": "execute_result"
    }
   ],
   "source": [
    "refer_adata_atac.obs[['cell_type','batch']]"
   ]
  },
  {
   "cell_type": "code",
   "execution_count": 63,
   "metadata": {},
   "outputs": [
    {
     "name": "stdout",
     "output_type": "stream",
     "text": [
      "AnnData object with n_obs × n_vars = 10000 × 14630\n",
      "    obs: 'cell_type', 'batch', 'domain', 'protocol', 'dataset'\n",
      "    var: 'n_counts'\n",
      "       cell_type  batch      domain        protocol  \\\n",
      "cells                                                 \n",
      "cell1          1      1  scATAC-seq  Simulated ATAC   \n",
      "cell2          1      4  scATAC-seq  Simulated ATAC   \n",
      "cell3          1      1  scATAC-seq  Simulated ATAC   \n",
      "cell4          1      2  scATAC-seq  Simulated ATAC   \n",
      "cell5          1      5  scATAC-seq  Simulated ATAC   \n",
      "\n",
      "                                                 dataset  \n",
      "cells                                                     \n",
      "cell1  0910_grn_1139_simulated_num_cell_10000_num_bat...  \n",
      "cell2  0910_grn_1139_simulated_num_cell_10000_num_bat...  \n",
      "cell3  0910_grn_1139_simulated_num_cell_10000_num_bat...  \n",
      "cell4  0910_grn_1139_simulated_num_cell_10000_num_bat...  \n",
      "cell5  0910_grn_1139_simulated_num_cell_10000_num_bat...  \n",
      "           n_counts\n",
      "peaks              \n",
      "1      1.305486e+27\n",
      "2      5.811437e+23\n",
      "3      5.548732e+16\n",
      "4      1.225705e+25\n",
      "5      2.018000e+03\n"
     ]
    }
   ],
   "source": [
    "print(refer_adata_atac)\n",
    "print(refer_adata_atac.obs.head())\n",
    "print(refer_adata_atac.var.head())"
   ]
  },
  {
   "cell_type": "code",
   "execution_count": 12,
   "metadata": {},
   "outputs": [
    {
     "name": "stdout",
     "output_type": "stream",
     "text": [
      "AnnData object with n_obs × n_vars = 10000 × 4842\n",
      "    obs: 'cell_type', 'batch', 'domain', 'protocol', 'dataset'\n",
      "    var: 'n_counts', 'highly_variable', 'highly_variable_rank', 'means', 'variances', 'variances_norm'\n",
      "    uns: 'hvg'\n",
      "       cell_type  batch     domain       protocol  \\\n",
      "cell1          1      1  scRNA-seq  Simulated RNA   \n",
      "cell2          1      4  scRNA-seq  Simulated RNA   \n",
      "cell3          1      1  scRNA-seq  Simulated RNA   \n",
      "cell4          1      2  scRNA-seq  Simulated RNA   \n",
      "cell5          1      5  scRNA-seq  Simulated RNA   \n",
      "\n",
      "                                                 dataset  \n",
      "cell1  0910_grn_1139_simulated_num_cell_10000_num_bat...  \n",
      "cell2  0910_grn_1139_simulated_num_cell_10000_num_bat...  \n",
      "cell3  0910_grn_1139_simulated_num_cell_10000_num_bat...  \n",
      "cell4  0910_grn_1139_simulated_num_cell_10000_num_bat...  \n",
      "cell5  0910_grn_1139_simulated_num_cell_10000_num_bat...  \n",
      "       n_counts  highly_variable  highly_variable_rank         means  \\\n",
      "1  4.418376e+23            False                   NaN  4.418376e+19   \n",
      "2  3.479382e+20            False                   NaN  3.479383e+16   \n",
      "4  1.448126e+24            False                   NaN  1.448126e+20   \n",
      "5  4.145921e+22            False                   NaN  4.145922e+18   \n",
      "6  7.453014e+24            False                   NaN  7.453015e+20   \n",
      "\n",
      "      variances  variances_norm  \n",
      "1           inf             NaN  \n",
      "2  4.794065e+34             NaN  \n",
      "4           inf             NaN  \n",
      "5           inf             NaN  \n",
      "6           inf             NaN  \n"
     ]
    }
   ],
   "source": [
    "print(refer_adata_rna)\n",
    "print(refer_adata_rna.obs.head())\n",
    "print(refer_adata_rna.var.head())"
   ]
  },
  {
   "cell_type": "code",
   "execution_count": 44,
   "metadata": {},
   "outputs": [
    {
     "ename": "FileNotFoundError",
     "evalue": "[Errno 2] No such file or directory: '/mnt/nas/user/yixuan/Multiomics-benchmark-main/data/download/seurat_10x/real_2_batch/activity_small.csv'",
     "output_type": "error",
     "traceback": [
      "\u001b[0;31m---------------------------------------------------------------------------\u001b[0m",
      "\u001b[0;31mFileNotFoundError\u001b[0m                         Traceback (most recent call last)",
      "\u001b[1;32m/mnt/nas/user/yixuan/Multiomics-benchmark-main/data/download/batch_effect_generator.ipynb 单元格 5\u001b[0m line \u001b[0;36m<cell line: 1>\u001b[0;34m()\u001b[0m\n\u001b[0;32m----> <a href='vscode-notebook-cell://ssh-remote%2Bproj151/mnt/nas/user/yixuan/Multiomics-benchmark-main/data/download/batch_effect_generator.ipynb#X25sdnNjb2RlLXJlbW90ZQ%3D%3D?line=0'>1</a>\u001b[0m batch_4_atac_activity\u001b[39m=\u001b[39mpd\u001b[39m.\u001b[39;49mread_csv(\u001b[39m'\u001b[39;49m\u001b[39m/mnt/nas/user/yixuan/Multiomics-benchmark-main/data/download/seurat_10x/real_2_batch/activity_small.csv\u001b[39;49m\u001b[39m'\u001b[39;49m,index_col\u001b[39m=\u001b[39;49m\u001b[39m0\u001b[39;49m)\n",
      "File \u001b[0;32m/mnt/nas/user/yixuan/miniconda3/envs/SCMBench/lib/python3.8/site-packages/pandas/util/_decorators.py:311\u001b[0m, in \u001b[0;36mdeprecate_nonkeyword_arguments.<locals>.decorate.<locals>.wrapper\u001b[0;34m(*args, **kwargs)\u001b[0m\n\u001b[1;32m    305\u001b[0m \u001b[39mif\u001b[39;00m \u001b[39mlen\u001b[39m(args) \u001b[39m>\u001b[39m num_allow_args:\n\u001b[1;32m    306\u001b[0m     warnings\u001b[39m.\u001b[39mwarn(\n\u001b[1;32m    307\u001b[0m         msg\u001b[39m.\u001b[39mformat(arguments\u001b[39m=\u001b[39marguments),\n\u001b[1;32m    308\u001b[0m         \u001b[39mFutureWarning\u001b[39;00m,\n\u001b[1;32m    309\u001b[0m         stacklevel\u001b[39m=\u001b[39mstacklevel,\n\u001b[1;32m    310\u001b[0m     )\n\u001b[0;32m--> 311\u001b[0m \u001b[39mreturn\u001b[39;00m func(\u001b[39m*\u001b[39;49margs, \u001b[39m*\u001b[39;49m\u001b[39m*\u001b[39;49mkwargs)\n",
      "File \u001b[0;32m/mnt/nas/user/yixuan/miniconda3/envs/SCMBench/lib/python3.8/site-packages/pandas/io/parsers/readers.py:680\u001b[0m, in \u001b[0;36mread_csv\u001b[0;34m(filepath_or_buffer, sep, delimiter, header, names, index_col, usecols, squeeze, prefix, mangle_dupe_cols, dtype, engine, converters, true_values, false_values, skipinitialspace, skiprows, skipfooter, nrows, na_values, keep_default_na, na_filter, verbose, skip_blank_lines, parse_dates, infer_datetime_format, keep_date_col, date_parser, dayfirst, cache_dates, iterator, chunksize, compression, thousands, decimal, lineterminator, quotechar, quoting, doublequote, escapechar, comment, encoding, encoding_errors, dialect, error_bad_lines, warn_bad_lines, on_bad_lines, delim_whitespace, low_memory, memory_map, float_precision, storage_options)\u001b[0m\n\u001b[1;32m    665\u001b[0m kwds_defaults \u001b[39m=\u001b[39m _refine_defaults_read(\n\u001b[1;32m    666\u001b[0m     dialect,\n\u001b[1;32m    667\u001b[0m     delimiter,\n\u001b[0;32m   (...)\u001b[0m\n\u001b[1;32m    676\u001b[0m     defaults\u001b[39m=\u001b[39m{\u001b[39m\"\u001b[39m\u001b[39mdelimiter\u001b[39m\u001b[39m\"\u001b[39m: \u001b[39m\"\u001b[39m\u001b[39m,\u001b[39m\u001b[39m\"\u001b[39m},\n\u001b[1;32m    677\u001b[0m )\n\u001b[1;32m    678\u001b[0m kwds\u001b[39m.\u001b[39mupdate(kwds_defaults)\n\u001b[0;32m--> 680\u001b[0m \u001b[39mreturn\u001b[39;00m _read(filepath_or_buffer, kwds)\n",
      "File \u001b[0;32m/mnt/nas/user/yixuan/miniconda3/envs/SCMBench/lib/python3.8/site-packages/pandas/io/parsers/readers.py:575\u001b[0m, in \u001b[0;36m_read\u001b[0;34m(filepath_or_buffer, kwds)\u001b[0m\n\u001b[1;32m    572\u001b[0m _validate_names(kwds\u001b[39m.\u001b[39mget(\u001b[39m\"\u001b[39m\u001b[39mnames\u001b[39m\u001b[39m\"\u001b[39m, \u001b[39mNone\u001b[39;00m))\n\u001b[1;32m    574\u001b[0m \u001b[39m# Create the parser.\u001b[39;00m\n\u001b[0;32m--> 575\u001b[0m parser \u001b[39m=\u001b[39m TextFileReader(filepath_or_buffer, \u001b[39m*\u001b[39;49m\u001b[39m*\u001b[39;49mkwds)\n\u001b[1;32m    577\u001b[0m \u001b[39mif\u001b[39;00m chunksize \u001b[39mor\u001b[39;00m iterator:\n\u001b[1;32m    578\u001b[0m     \u001b[39mreturn\u001b[39;00m parser\n",
      "File \u001b[0;32m/mnt/nas/user/yixuan/miniconda3/envs/SCMBench/lib/python3.8/site-packages/pandas/io/parsers/readers.py:934\u001b[0m, in \u001b[0;36mTextFileReader.__init__\u001b[0;34m(self, f, engine, **kwds)\u001b[0m\n\u001b[1;32m    931\u001b[0m     \u001b[39mself\u001b[39m\u001b[39m.\u001b[39moptions[\u001b[39m\"\u001b[39m\u001b[39mhas_index_names\u001b[39m\u001b[39m\"\u001b[39m] \u001b[39m=\u001b[39m kwds[\u001b[39m\"\u001b[39m\u001b[39mhas_index_names\u001b[39m\u001b[39m\"\u001b[39m]\n\u001b[1;32m    933\u001b[0m \u001b[39mself\u001b[39m\u001b[39m.\u001b[39mhandles: IOHandles \u001b[39m|\u001b[39m \u001b[39mNone\u001b[39;00m \u001b[39m=\u001b[39m \u001b[39mNone\u001b[39;00m\n\u001b[0;32m--> 934\u001b[0m \u001b[39mself\u001b[39m\u001b[39m.\u001b[39m_engine \u001b[39m=\u001b[39m \u001b[39mself\u001b[39;49m\u001b[39m.\u001b[39;49m_make_engine(f, \u001b[39mself\u001b[39;49m\u001b[39m.\u001b[39;49mengine)\n",
      "File \u001b[0;32m/mnt/nas/user/yixuan/miniconda3/envs/SCMBench/lib/python3.8/site-packages/pandas/io/parsers/readers.py:1218\u001b[0m, in \u001b[0;36mTextFileReader._make_engine\u001b[0;34m(self, f, engine)\u001b[0m\n\u001b[1;32m   1214\u001b[0m     mode \u001b[39m=\u001b[39m \u001b[39m\"\u001b[39m\u001b[39mrb\u001b[39m\u001b[39m\"\u001b[39m\n\u001b[1;32m   1215\u001b[0m \u001b[39m# error: No overload variant of \"get_handle\" matches argument types\u001b[39;00m\n\u001b[1;32m   1216\u001b[0m \u001b[39m# \"Union[str, PathLike[str], ReadCsvBuffer[bytes], ReadCsvBuffer[str]]\"\u001b[39;00m\n\u001b[1;32m   1217\u001b[0m \u001b[39m# , \"str\", \"bool\", \"Any\", \"Any\", \"Any\", \"Any\", \"Any\"\u001b[39;00m\n\u001b[0;32m-> 1218\u001b[0m \u001b[39mself\u001b[39m\u001b[39m.\u001b[39mhandles \u001b[39m=\u001b[39m get_handle(  \u001b[39m# type: ignore[call-overload]\u001b[39;49;00m\n\u001b[1;32m   1219\u001b[0m     f,\n\u001b[1;32m   1220\u001b[0m     mode,\n\u001b[1;32m   1221\u001b[0m     encoding\u001b[39m=\u001b[39;49m\u001b[39mself\u001b[39;49m\u001b[39m.\u001b[39;49moptions\u001b[39m.\u001b[39;49mget(\u001b[39m\"\u001b[39;49m\u001b[39mencoding\u001b[39;49m\u001b[39m\"\u001b[39;49m, \u001b[39mNone\u001b[39;49;00m),\n\u001b[1;32m   1222\u001b[0m     compression\u001b[39m=\u001b[39;49m\u001b[39mself\u001b[39;49m\u001b[39m.\u001b[39;49moptions\u001b[39m.\u001b[39;49mget(\u001b[39m\"\u001b[39;49m\u001b[39mcompression\u001b[39;49m\u001b[39m\"\u001b[39;49m, \u001b[39mNone\u001b[39;49;00m),\n\u001b[1;32m   1223\u001b[0m     memory_map\u001b[39m=\u001b[39;49m\u001b[39mself\u001b[39;49m\u001b[39m.\u001b[39;49moptions\u001b[39m.\u001b[39;49mget(\u001b[39m\"\u001b[39;49m\u001b[39mmemory_map\u001b[39;49m\u001b[39m\"\u001b[39;49m, \u001b[39mFalse\u001b[39;49;00m),\n\u001b[1;32m   1224\u001b[0m     is_text\u001b[39m=\u001b[39;49mis_text,\n\u001b[1;32m   1225\u001b[0m     errors\u001b[39m=\u001b[39;49m\u001b[39mself\u001b[39;49m\u001b[39m.\u001b[39;49moptions\u001b[39m.\u001b[39;49mget(\u001b[39m\"\u001b[39;49m\u001b[39mencoding_errors\u001b[39;49m\u001b[39m\"\u001b[39;49m, \u001b[39m\"\u001b[39;49m\u001b[39mstrict\u001b[39;49m\u001b[39m\"\u001b[39;49m),\n\u001b[1;32m   1226\u001b[0m     storage_options\u001b[39m=\u001b[39;49m\u001b[39mself\u001b[39;49m\u001b[39m.\u001b[39;49moptions\u001b[39m.\u001b[39;49mget(\u001b[39m\"\u001b[39;49m\u001b[39mstorage_options\u001b[39;49m\u001b[39m\"\u001b[39;49m, \u001b[39mNone\u001b[39;49;00m),\n\u001b[1;32m   1227\u001b[0m )\n\u001b[1;32m   1228\u001b[0m \u001b[39massert\u001b[39;00m \u001b[39mself\u001b[39m\u001b[39m.\u001b[39mhandles \u001b[39mis\u001b[39;00m \u001b[39mnot\u001b[39;00m \u001b[39mNone\u001b[39;00m\n\u001b[1;32m   1229\u001b[0m f \u001b[39m=\u001b[39m \u001b[39mself\u001b[39m\u001b[39m.\u001b[39mhandles\u001b[39m.\u001b[39mhandle\n",
      "File \u001b[0;32m/mnt/nas/user/yixuan/miniconda3/envs/SCMBench/lib/python3.8/site-packages/pandas/io/common.py:786\u001b[0m, in \u001b[0;36mget_handle\u001b[0;34m(path_or_buf, mode, encoding, compression, memory_map, is_text, errors, storage_options)\u001b[0m\n\u001b[1;32m    781\u001b[0m \u001b[39melif\u001b[39;00m \u001b[39misinstance\u001b[39m(handle, \u001b[39mstr\u001b[39m):\n\u001b[1;32m    782\u001b[0m     \u001b[39m# Check whether the filename is to be opened in binary mode.\u001b[39;00m\n\u001b[1;32m    783\u001b[0m     \u001b[39m# Binary mode does not support 'encoding' and 'newline'.\u001b[39;00m\n\u001b[1;32m    784\u001b[0m     \u001b[39mif\u001b[39;00m ioargs\u001b[39m.\u001b[39mencoding \u001b[39mand\u001b[39;00m \u001b[39m\"\u001b[39m\u001b[39mb\u001b[39m\u001b[39m\"\u001b[39m \u001b[39mnot\u001b[39;00m \u001b[39min\u001b[39;00m ioargs\u001b[39m.\u001b[39mmode:\n\u001b[1;32m    785\u001b[0m         \u001b[39m# Encoding\u001b[39;00m\n\u001b[0;32m--> 786\u001b[0m         handle \u001b[39m=\u001b[39m \u001b[39mopen\u001b[39;49m(\n\u001b[1;32m    787\u001b[0m             handle,\n\u001b[1;32m    788\u001b[0m             ioargs\u001b[39m.\u001b[39;49mmode,\n\u001b[1;32m    789\u001b[0m             encoding\u001b[39m=\u001b[39;49mioargs\u001b[39m.\u001b[39;49mencoding,\n\u001b[1;32m    790\u001b[0m             errors\u001b[39m=\u001b[39;49merrors,\n\u001b[1;32m    791\u001b[0m             newline\u001b[39m=\u001b[39;49m\u001b[39m\"\u001b[39;49m\u001b[39m\"\u001b[39;49m,\n\u001b[1;32m    792\u001b[0m         )\n\u001b[1;32m    793\u001b[0m     \u001b[39melse\u001b[39;00m:\n\u001b[1;32m    794\u001b[0m         \u001b[39m# Binary mode\u001b[39;00m\n\u001b[1;32m    795\u001b[0m         handle \u001b[39m=\u001b[39m \u001b[39mopen\u001b[39m(handle, ioargs\u001b[39m.\u001b[39mmode)\n",
      "\u001b[0;31mFileNotFoundError\u001b[0m: [Errno 2] No such file or directory: '/mnt/nas/user/yixuan/Multiomics-benchmark-main/data/download/seurat_10x/real_2_batch/activity_small.csv'"
     ]
    }
   ],
   "source": [
    "batch_4_atac_activity=pd.read_csv('/mnt/nas/user/yixuan/Multiomics-benchmark-main/data/download/seurat_10x/real_2_batch/activity_small.csv',index_col=0)"
   ]
  },
  {
   "cell_type": "code",
   "execution_count": null,
   "metadata": {},
   "outputs": [
    {
     "data": {
      "text/html": [
       "<div>\n",
       "<style scoped>\n",
       "    .dataframe tbody tr th:only-of-type {\n",
       "        vertical-align: middle;\n",
       "    }\n",
       "\n",
       "    .dataframe tbody tr th {\n",
       "        vertical-align: top;\n",
       "    }\n",
       "\n",
       "    .dataframe thead th {\n",
       "        text-align: right;\n",
       "    }\n",
       "</style>\n",
       "<table border=\"1\" class=\"dataframe\">\n",
       "  <thead>\n",
       "    <tr style=\"text-align: right;\">\n",
       "      <th></th>\n",
       "      <th>LOXL3</th>\n",
       "      <th>SDC1</th>\n",
       "      <th>MSANTD3</th>\n",
       "      <th>EPN2</th>\n",
       "      <th>PLSCR1</th>\n",
       "      <th>LRCH3</th>\n",
       "      <th>STK32B</th>\n",
       "      <th>PSMB1</th>\n",
       "      <th>NCBP1</th>\n",
       "      <th>OSTN</th>\n",
       "      <th>...</th>\n",
       "      <th>MN1</th>\n",
       "      <th>RAC2</th>\n",
       "      <th>TRNAU1AP</th>\n",
       "      <th>ZNF521</th>\n",
       "      <th>STAP1</th>\n",
       "      <th>AKR1A1</th>\n",
       "      <th>CAST</th>\n",
       "      <th>INVS</th>\n",
       "      <th>ZNF311</th>\n",
       "      <th>ERGIC3</th>\n",
       "    </tr>\n",
       "    <tr>\n",
       "      <th>cells</th>\n",
       "      <th></th>\n",
       "      <th></th>\n",
       "      <th></th>\n",
       "      <th></th>\n",
       "      <th></th>\n",
       "      <th></th>\n",
       "      <th></th>\n",
       "      <th></th>\n",
       "      <th></th>\n",
       "      <th></th>\n",
       "      <th></th>\n",
       "      <th></th>\n",
       "      <th></th>\n",
       "      <th></th>\n",
       "      <th></th>\n",
       "      <th></th>\n",
       "      <th></th>\n",
       "      <th></th>\n",
       "      <th></th>\n",
       "      <th></th>\n",
       "      <th></th>\n",
       "    </tr>\n",
       "  </thead>\n",
       "  <tbody>\n",
       "    <tr>\n",
       "      <th>GGTTGCATCCAGGTCA-4-s2d1</th>\n",
       "      <td>0.485722</td>\n",
       "      <td>0.0</td>\n",
       "      <td>0.000000</td>\n",
       "      <td>0.000000</td>\n",
       "      <td>0.000000</td>\n",
       "      <td>0.000000</td>\n",
       "      <td>0.485722</td>\n",
       "      <td>0.000000</td>\n",
       "      <td>0.485722</td>\n",
       "      <td>0.0</td>\n",
       "      <td>...</td>\n",
       "      <td>0.0</td>\n",
       "      <td>0.485722</td>\n",
       "      <td>0.485722</td>\n",
       "      <td>0.0</td>\n",
       "      <td>0.0</td>\n",
       "      <td>0.000000</td>\n",
       "      <td>0.000000</td>\n",
       "      <td>1.253160</td>\n",
       "      <td>0.0</td>\n",
       "      <td>0.000000</td>\n",
       "    </tr>\n",
       "    <tr>\n",
       "      <th>ACACGGACATCGTTCT-12-s4d9</th>\n",
       "      <td>0.000000</td>\n",
       "      <td>0.0</td>\n",
       "      <td>0.000000</td>\n",
       "      <td>0.000000</td>\n",
       "      <td>0.520810</td>\n",
       "      <td>0.520810</td>\n",
       "      <td>0.000000</td>\n",
       "      <td>0.000000</td>\n",
       "      <td>0.520810</td>\n",
       "      <td>0.0</td>\n",
       "      <td>...</td>\n",
       "      <td>0.0</td>\n",
       "      <td>1.115197</td>\n",
       "      <td>0.000000</td>\n",
       "      <td>0.0</td>\n",
       "      <td>0.0</td>\n",
       "      <td>0.000000</td>\n",
       "      <td>0.861530</td>\n",
       "      <td>0.861530</td>\n",
       "      <td>0.0</td>\n",
       "      <td>0.000000</td>\n",
       "    </tr>\n",
       "    <tr>\n",
       "      <th>TGTTGCACAATTGACT-2-s1d2</th>\n",
       "      <td>0.000000</td>\n",
       "      <td>0.0</td>\n",
       "      <td>0.000000</td>\n",
       "      <td>0.000000</td>\n",
       "      <td>0.588767</td>\n",
       "      <td>0.588767</td>\n",
       "      <td>1.225331</td>\n",
       "      <td>0.956868</td>\n",
       "      <td>1.225331</td>\n",
       "      <td>0.0</td>\n",
       "      <td>...</td>\n",
       "      <td>0.0</td>\n",
       "      <td>0.588767</td>\n",
       "      <td>0.588767</td>\n",
       "      <td>0.0</td>\n",
       "      <td>0.0</td>\n",
       "      <td>0.000000</td>\n",
       "      <td>1.759682</td>\n",
       "      <td>1.225331</td>\n",
       "      <td>0.0</td>\n",
       "      <td>0.000000</td>\n",
       "    </tr>\n",
       "    <tr>\n",
       "      <th>GTTACTCGTTGTTGCT-s2d4</th>\n",
       "      <td>0.000000</td>\n",
       "      <td>0.0</td>\n",
       "      <td>0.000000</td>\n",
       "      <td>0.000000</td>\n",
       "      <td>0.000000</td>\n",
       "      <td>0.000000</td>\n",
       "      <td>0.000000</td>\n",
       "      <td>0.000000</td>\n",
       "      <td>0.000000</td>\n",
       "      <td>0.0</td>\n",
       "      <td>...</td>\n",
       "      <td>0.0</td>\n",
       "      <td>0.000000</td>\n",
       "      <td>0.000000</td>\n",
       "      <td>0.0</td>\n",
       "      <td>0.0</td>\n",
       "      <td>0.000000</td>\n",
       "      <td>0.000000</td>\n",
       "      <td>0.000000</td>\n",
       "      <td>0.0</td>\n",
       "      <td>0.000000</td>\n",
       "    </tr>\n",
       "    <tr>\n",
       "      <th>CCGCCAACACCTGGTG-12-s3d7</th>\n",
       "      <td>1.326763</td>\n",
       "      <td>0.0</td>\n",
       "      <td>0.868953</td>\n",
       "      <td>1.639625</td>\n",
       "      <td>0.868953</td>\n",
       "      <td>0.868953</td>\n",
       "      <td>0.868953</td>\n",
       "      <td>0.000000</td>\n",
       "      <td>1.326763</td>\n",
       "      <td>0.0</td>\n",
       "      <td>...</td>\n",
       "      <td>0.0</td>\n",
       "      <td>2.491162</td>\n",
       "      <td>1.639625</td>\n",
       "      <td>0.0</td>\n",
       "      <td>0.0</td>\n",
       "      <td>0.868953</td>\n",
       "      <td>0.000000</td>\n",
       "      <td>1.639625</td>\n",
       "      <td>0.0</td>\n",
       "      <td>0.868953</td>\n",
       "    </tr>\n",
       "  </tbody>\n",
       "</table>\n",
       "<p>5 rows × 12900 columns</p>\n",
       "</div>"
      ],
      "text/plain": [
       "                             LOXL3  SDC1   MSANTD3      EPN2    PLSCR1  \\\n",
       "cells                                                                    \n",
       "GGTTGCATCCAGGTCA-4-s2d1   0.485722   0.0  0.000000  0.000000  0.000000   \n",
       "ACACGGACATCGTTCT-12-s4d9  0.000000   0.0  0.000000  0.000000  0.520810   \n",
       "TGTTGCACAATTGACT-2-s1d2   0.000000   0.0  0.000000  0.000000  0.588767   \n",
       "GTTACTCGTTGTTGCT-s2d4     0.000000   0.0  0.000000  0.000000  0.000000   \n",
       "CCGCCAACACCTGGTG-12-s3d7  1.326763   0.0  0.868953  1.639625  0.868953   \n",
       "\n",
       "                             LRCH3    STK32B     PSMB1     NCBP1  OSTN  ...  \\\n",
       "cells                                                                   ...   \n",
       "GGTTGCATCCAGGTCA-4-s2d1   0.000000  0.485722  0.000000  0.485722   0.0  ...   \n",
       "ACACGGACATCGTTCT-12-s4d9  0.520810  0.000000  0.000000  0.520810   0.0  ...   \n",
       "TGTTGCACAATTGACT-2-s1d2   0.588767  1.225331  0.956868  1.225331   0.0  ...   \n",
       "GTTACTCGTTGTTGCT-s2d4     0.000000  0.000000  0.000000  0.000000   0.0  ...   \n",
       "CCGCCAACACCTGGTG-12-s3d7  0.868953  0.868953  0.000000  1.326763   0.0  ...   \n",
       "\n",
       "                          MN1      RAC2  TRNAU1AP  ZNF521  STAP1    AKR1A1  \\\n",
       "cells                                                                        \n",
       "GGTTGCATCCAGGTCA-4-s2d1   0.0  0.485722  0.485722     0.0    0.0  0.000000   \n",
       "ACACGGACATCGTTCT-12-s4d9  0.0  1.115197  0.000000     0.0    0.0  0.000000   \n",
       "TGTTGCACAATTGACT-2-s1d2   0.0  0.588767  0.588767     0.0    0.0  0.000000   \n",
       "GTTACTCGTTGTTGCT-s2d4     0.0  0.000000  0.000000     0.0    0.0  0.000000   \n",
       "CCGCCAACACCTGGTG-12-s3d7  0.0  2.491162  1.639625     0.0    0.0  0.868953   \n",
       "\n",
       "                              CAST      INVS  ZNF311    ERGIC3  \n",
       "cells                                                           \n",
       "GGTTGCATCCAGGTCA-4-s2d1   0.000000  1.253160     0.0  0.000000  \n",
       "ACACGGACATCGTTCT-12-s4d9  0.861530  0.861530     0.0  0.000000  \n",
       "TGTTGCACAATTGACT-2-s1d2   1.759682  1.225331     0.0  0.000000  \n",
       "GTTACTCGTTGTTGCT-s2d4     0.000000  0.000000     0.0  0.000000  \n",
       "CCGCCAACACCTGGTG-12-s3d7  0.000000  1.639625     0.0  0.868953  \n",
       "\n",
       "[5 rows x 12900 columns]"
      ]
     },
     "execution_count": 5,
     "metadata": {},
     "output_type": "execute_result"
    }
   ],
   "source": [
    "batch_4_atac_activity.set_index([\"cells\"], inplace=True)\n",
    "batch_4_atac_activity.head()"
   ]
  },
  {
   "cell_type": "code",
   "execution_count": null,
   "metadata": {},
   "outputs": [],
   "source": [
    "# rand_save=pd.read_csv('/mnt/nas/user/yixuan/Multiomics-benchmark-main/data/download/seurat_10x/real_2_batch/L4.csv')\n",
    "# inter_gene_save=pd.read_csv('/mnt/nas/user/yixuan/Multiomics-benchmark-main/data/download/seurat_10x/real_2_batch/inter_gene.csv')\n",
    "# batch_4_atac=batch_4_atac_activity[inter_gene_save['0'].values.tolist()]\n",
    "# batch_4_atac.iloc(rand_save['0'].values.tolist())\n",
    "# batch_4_atac=batch_4_atac_activity[rand_save['0'].values.tolist()]\n",
    "# batch_4_atac=batch_4_atac_activity[rand_save['0'],:]\n",
    "# batch_4_atac_activity.reset_index(inplace=True)"
   ]
  },
  {
   "cell_type": "code",
   "execution_count": null,
   "metadata": {},
   "outputs": [],
   "source": [
    "batch_1_atac=sc.read_h5ad('/mnt/nas/user/yixuan/Multiomics-benchmark-main/data/download/seurat_10x/10x-Multiome-Pbmc10k-ATAC.h5ad')\n",
    "batch_4_atac_origin=sc.read_h5ad('/mnt/nas/user/yixuan/Multiomics-benchmark-main/data/download/nips_challenge_multiome_paired/multiome-ATAC.h5ad')\n",
    "batch_1_atac_origin=sc.read_h5ad('/mnt/nas/user/yixuan/Multiomics-benchmark-main/data/download/10x-Multiome-Pbmc10k/10x-Multiome-Pbmc10k-ATAC.h5ad')"
   ]
  },
  {
   "cell_type": "code",
   "execution_count": 45,
   "metadata": {},
   "outputs": [
    {
     "name": "stdout",
     "output_type": "stream",
     "text": [
      "20162 19039\n",
      "12900\n"
     ]
    }
   ],
   "source": [
    "genes_1=list(batch_1_atac.var.index)\n",
    "# genes_2=list(batch_2_rna.var.index)\n",
    "# genes_3=list(batch_3_rna.var.index)\n",
    "genes_4=list(batch_4_atac_origin.uns['ATAC_gene_activity_var_names'])\n",
    "print(len(genes_1),len(genes_4))\n",
    "# genes=list(set(genes_1).intersection(genes_2,genes_3))\n",
    "# print(len(genes))\n",
    "inter_gene=list(set(genes_1).intersection(genes_4))\n",
    "print(len(inter_gene))"
   ]
  },
  {
   "cell_type": "code",
   "execution_count": 47,
   "metadata": {},
   "outputs": [],
   "source": [
    "rand_save_L1=pd.read_csv('/mnt/nas/user/yixuan/Multiomics-benchmark-main/data/download/seurat_10x/nips_10x/L1.csv',index_col=0)\n",
    "rand_save_L4=pd.read_csv('/mnt/nas/user/yixuan/Multiomics-benchmark-main/data/download/seurat_10x/nips_10x/L4.csv',index_col=0)"
   ]
  },
  {
   "cell_type": "code",
   "execution_count": 48,
   "metadata": {},
   "outputs": [
    {
     "data": {
      "text/plain": [
       "array([False, False, False, ...,  True,  True,  True])"
      ]
     },
     "execution_count": 48,
     "metadata": {},
     "output_type": "execute_result"
    }
   ],
   "source": [
    "batch_1_atac.var.index.isin(inter_gene)"
   ]
  },
  {
   "cell_type": "code",
   "execution_count": 53,
   "metadata": {},
   "outputs": [],
   "source": [
    "L1=rand_save_L1['0'].values.tolist()\n",
    "rna_1=batch_1_atac[L1][:,batch_1_atac[L1].var.index.isin(inter_gene)]"
   ]
  },
  {
   "cell_type": "code",
   "execution_count": 54,
   "metadata": {},
   "outputs": [],
   "source": [
    "L4=rand_save_L4['0'].values.tolist()\n",
    "rna_4=batch_4_atac_origin[L4][:,batch_4_atac_origin[L4].var.index.isin(inter_gene)]"
   ]
  },
  {
   "cell_type": "code",
   "execution_count": 55,
   "metadata": {},
   "outputs": [
    {
     "data": {
      "text/plain": [
       "<2000x12900 sparse matrix of type '<class 'numpy.float32'>'\n",
       "\twith 8038413 stored elements in Compressed Sparse Column format>"
      ]
     },
     "execution_count": 55,
     "metadata": {},
     "output_type": "execute_result"
    }
   ],
   "source": [
    "rna_1.X"
   ]
  },
  {
   "cell_type": "code",
   "execution_count": 56,
   "metadata": {},
   "outputs": [],
   "source": [
    "from scipy.sparse import csc_matrix\n",
    "rna_4_X=csc_matrix(batch_4_atac_activity.values).astype(np.float32)"
   ]
  },
  {
   "cell_type": "code",
   "execution_count": 57,
   "metadata": {},
   "outputs": [
    {
     "data": {
      "text/plain": [
       "<2000x12900 sparse matrix of type '<class 'numpy.float32'>'\n",
       "\twith 8899494 stored elements in Compressed Sparse Column format>"
      ]
     },
     "execution_count": 57,
     "metadata": {},
     "output_type": "execute_result"
    }
   ],
   "source": [
    "rna_4_X"
   ]
  },
  {
   "cell_type": "code",
   "execution_count": 58,
   "metadata": {},
   "outputs": [],
   "source": [
    "from scipy.sparse import hstack,vstack\n",
    "\n",
    "combined_X=vstack((rna_1.X,rna_4_X))"
   ]
  },
  {
   "cell_type": "code",
   "execution_count": 66,
   "metadata": {},
   "outputs": [
    {
     "name": "stderr",
     "output_type": "stream",
     "text": [
      "/tmp/ipykernel_31875/399615577.py:2: SettingWithCopyWarning: \n",
      "A value is trying to be set on a copy of a slice from a DataFrame.\n",
      "Try using .loc[row_indexer,col_indexer] = value instead\n",
      "\n",
      "See the caveats in the documentation: https://pandas.pydata.org/pandas-docs/stable/user_guide/indexing.html#returning-a-view-versus-a-copy\n",
      "  rna_1_obs['batch']=1\n",
      "/tmp/ipykernel_31875/399615577.py:5: SettingWithCopyWarning: \n",
      "A value is trying to be set on a copy of a slice from a DataFrame.\n",
      "Try using .loc[row_indexer,col_indexer] = value instead\n",
      "\n",
      "See the caveats in the documentation: https://pandas.pydata.org/pandas-docs/stable/user_guide/indexing.html#returning-a-view-versus-a-copy\n",
      "  rna_4_obs['batch']=1\n",
      "/tmp/ipykernel_31875/399615577.py:6: SettingWithCopyWarning: \n",
      "A value is trying to be set on a copy of a slice from a DataFrame.\n",
      "Try using .loc[row_indexer,col_indexer] = value instead\n",
      "\n",
      "See the caveats in the documentation: https://pandas.pydata.org/pandas-docs/stable/user_guide/indexing.html#returning-a-view-versus-a-copy\n",
      "  rna_4_obs['dataset']='nips_paired'\n"
     ]
    }
   ],
   "source": [
    "rna_1_obs=rna_1.obs[['domain','protocol','dataset','cell_type']]\n",
    "rna_1_obs['batch']=1\n",
    "\n",
    "rna_4_obs=rna_4.obs[['domain','protocol','cell_type']]\n",
    "rna_4_obs['batch']=1\n",
    "rna_4_obs['dataset']='nips_paired'\n",
    "combined_var=pd.DataFrame(rna_1.var.index,index=list(rna_1.var.index))\n",
    "combined_obs=pd.concat([rna_1_obs,rna_4_obs])"
   ]
  },
  {
   "cell_type": "code",
   "execution_count": 67,
   "metadata": {},
   "outputs": [
    {
     "data": {
      "text/html": [
       "<div>\n",
       "<style scoped>\n",
       "    .dataframe tbody tr th:only-of-type {\n",
       "        vertical-align: middle;\n",
       "    }\n",
       "\n",
       "    .dataframe tbody tr th {\n",
       "        vertical-align: top;\n",
       "    }\n",
       "\n",
       "    .dataframe thead th {\n",
       "        text-align: right;\n",
       "    }\n",
       "</style>\n",
       "<table border=\"1\" class=\"dataframe\">\n",
       "  <thead>\n",
       "    <tr style=\"text-align: right;\">\n",
       "      <th></th>\n",
       "      <th>genes</th>\n",
       "    </tr>\n",
       "  </thead>\n",
       "  <tbody>\n",
       "    <tr>\n",
       "      <th>SAMD11</th>\n",
       "      <td>SAMD11</td>\n",
       "    </tr>\n",
       "    <tr>\n",
       "      <th>NOC2L</th>\n",
       "      <td>NOC2L</td>\n",
       "    </tr>\n",
       "    <tr>\n",
       "      <th>KLHL17</th>\n",
       "      <td>KLHL17</td>\n",
       "    </tr>\n",
       "    <tr>\n",
       "      <th>PLEKHN1</th>\n",
       "      <td>PLEKHN1</td>\n",
       "    </tr>\n",
       "    <tr>\n",
       "      <th>PERM1</th>\n",
       "      <td>PERM1</td>\n",
       "    </tr>\n",
       "    <tr>\n",
       "      <th>...</th>\n",
       "      <td>...</td>\n",
       "    </tr>\n",
       "    <tr>\n",
       "      <th>RAB39B</th>\n",
       "      <td>RAB39B</td>\n",
       "    </tr>\n",
       "    <tr>\n",
       "      <th>CLIC2</th>\n",
       "      <td>CLIC2</td>\n",
       "    </tr>\n",
       "    <tr>\n",
       "      <th>TMLHE</th>\n",
       "      <td>TMLHE</td>\n",
       "    </tr>\n",
       "    <tr>\n",
       "      <th>SPRY3</th>\n",
       "      <td>SPRY3</td>\n",
       "    </tr>\n",
       "    <tr>\n",
       "      <th>VAMP7</th>\n",
       "      <td>VAMP7</td>\n",
       "    </tr>\n",
       "  </tbody>\n",
       "</table>\n",
       "<p>12900 rows × 1 columns</p>\n",
       "</div>"
      ],
      "text/plain": [
       "           genes\n",
       "SAMD11    SAMD11\n",
       "NOC2L      NOC2L\n",
       "KLHL17    KLHL17\n",
       "PLEKHN1  PLEKHN1\n",
       "PERM1      PERM1\n",
       "...          ...\n",
       "RAB39B    RAB39B\n",
       "CLIC2      CLIC2\n",
       "TMLHE      TMLHE\n",
       "SPRY3      SPRY3\n",
       "VAMP7      VAMP7\n",
       "\n",
       "[12900 rows x 1 columns]"
      ]
     },
     "execution_count": 67,
     "metadata": {},
     "output_type": "execute_result"
    }
   ],
   "source": [
    "combined_var.rename(columns={0:'genes'},inplace=True)\n",
    "combined_var"
   ]
  },
  {
   "cell_type": "code",
   "execution_count": 68,
   "metadata": {},
   "outputs": [],
   "source": [
    "adata_atac = ad.AnnData(X=combined_X,obs=combined_obs,var=combined_var)\n",
    "adata_atac\n",
    "adata_atac.write_h5ad('/mnt/nas/user/yixuan/Multiomics-benchmark-main/data/download/seurat_10x/nips_10x/nips_10x_ATAC.h5ad')"
   ]
  },
  {
   "cell_type": "code",
   "execution_count": 3,
   "metadata": {},
   "outputs": [],
   "source": [
    "temp=ad.read_h5ad('/mnt/nas/user/yixuan/Multiomics-benchmark-main/data/download/seurat_10x/nips_10x/nips_10x-ATAC.h5ad')"
   ]
  },
  {
   "cell_type": "code",
   "execution_count": 4,
   "metadata": {},
   "outputs": [
    {
     "data": {
      "text/plain": [
       "<4000x12900 sparse matrix of type '<class 'numpy.float32'>'\n",
       "\twith 16937907 stored elements in Compressed Sparse Column format>"
      ]
     },
     "execution_count": 4,
     "metadata": {},
     "output_type": "execute_result"
    }
   ],
   "source": [
    "temp.X.todense()"
   ]
  },
  {
   "cell_type": "code",
   "execution_count": 5,
   "metadata": {},
   "outputs": [],
   "source": [
    "adata_atac = ad.AnnData(X=temp.X.todense(),obs=temp.obs,var=temp.var)\n",
    "adata_atac\n",
    "adata_atac.write_h5ad('/mnt/nas/user/yixuan/Multiomics-benchmark-main/data/download/seurat_10x/nips_10x/nips_10x-ATAC_dense.h5ad')"
   ]
  },
  {
   "cell_type": "code",
   "execution_count": 6,
   "metadata": {},
   "outputs": [],
   "source": [
    "temp=ad.read_h5ad('/mnt/nas/user/yixuan/Multiomics-benchmark-main/data/download/seurat_10x/nips_10x/nips_10x-RNA.h5ad')\n",
    "adata_rna = ad.AnnData(X=temp.X.todense(),obs=temp.obs,var=temp.var)\n",
    "adata_rna\n",
    "adata_rna.write_h5ad('/mnt/nas/user/yixuan/Multiomics-benchmark-main/data/download/seurat_10x/nips_10x/nips_10x-RNA_dense.h5ad')"
   ]
  },
  {
   "cell_type": "code",
   "execution_count": null,
   "metadata": {},
   "outputs": [],
   "source": []
  }
 ],
 "metadata": {
  "kernelspec": {
   "display_name": "Python 3",
   "language": "python",
   "name": "python3"
  },
  "language_info": {
   "codemirror_mode": {
    "name": "ipython",
    "version": 3
   },
   "file_extension": ".py",
   "mimetype": "text/x-python",
   "name": "python",
   "nbconvert_exporter": "python",
   "pygments_lexer": "ipython3",
   "version": "3.8.13"
  },
  "orig_nbformat": 4
 },
 "nbformat": 4,
 "nbformat_minor": 2
}
