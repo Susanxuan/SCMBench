{
 "cells": [
  {
   "cell_type": "code",
   "execution_count": 21,
   "metadata": {},
   "outputs": [],
   "source": [
    "import anndata as ad\n",
    "import scanpy as sc\n",
    "import numpy as np\n",
    "import pandas as pd"
   ]
  },
  {
   "cell_type": "code",
   "execution_count": 22,
   "metadata": {},
   "outputs": [],
   "source": [
    "# muto_atac=sc.read_h5ad('/mnt/nas/user/yixuan/Multiomics-benchmark-main/data/download/Muto-2021/Muto-2021-ATAC.h5ad')\n",
    "# muto_rna=sc.read_h5ad('/mnt/nas/user/yixuan/Multiomics-benchmark-main/data/download/Muto-2021/Muto-2021-RNA.h5ad')\n",
    "ma_atac=sc.read_h5ad('/mnt/nas/user/yixuan/Multiomics-benchmark-main/data/download/Ma-2020/Ma-2020-ATAC.h5ad')\n",
    "ma_rna=sc.read_h5ad('/mnt/nas/user/yixuan/Multiomics-benchmark-main/data/download/Ma-2020/Ma-2020-RNA.h5ad')"
   ]
  },
  {
   "cell_type": "code",
   "execution_count": 26,
   "metadata": {},
   "outputs": [
    {
     "name": "stdout",
     "output_type": "stream",
     "text": [
      "(5692, 5)\n",
      "(10709, 5)\n",
      "(9903, 5)\n",
      "(5927, 5)\n",
      "400\n"
     ]
    }
   ],
   "source": [
    "import random\n",
    "selected=[]\n",
    "for batch in ['53','54','55','56']:\n",
    "    batch_list=ma_rna[ma_rna.obs['batch']==batch].obs.index.tolist()\n",
    "    selected.extend(random.sample(batch_list, 100))\n",
    "    print(ma_rna[ma_rna.obs['batch']==batch].obs.shape)\n",
    "print(len(selected))"
   ]
  },
  {
   "cell_type": "code",
   "execution_count": 25,
   "metadata": {},
   "outputs": [],
   "source": [
    "ma_atac_small=ma_atac[ma_atac.obs.index.isin(selected)]\n",
    "ma_atac_small.write_h5ad('/mnt/nas/user/yixuan/Multiomics-benchmark-main/data/download/Ma-2020-small-400/Ma-2020-small-400-ATAC.h5ad')\n",
    "ma_rna_small=ma_rna[ma_rna.obs.index.isin(selected)]\n",
    "ma_rna_small.write_h5ad('/mnt/nas/user/yixuan/Multiomics-benchmark-main/data/download/Ma-2020-small-400/Ma-2020-small-400-RNA.h5ad')"
   ]
  },
  {
   "cell_type": "code",
   "execution_count": 18,
   "metadata": {},
   "outputs": [
    {
     "data": {
      "text/plain": [
       "View of AnnData object with n_obs × n_vars = 10000 × 340341\n",
       "    obs: 'domain', 'protocol', 'dataset', 'cell_type', 'batch'\n",
       "    var: 'chrom', 'chromStart', 'chromEnd', 'genome', 'n_counts'"
      ]
     },
     "execution_count": 18,
     "metadata": {},
     "output_type": "execute_result"
    }
   ],
   "source": [
    "ma_atac_small=ma_atac[ma_atac.obs.index.isin(selected)]\n",
    "ma_atac_small"
   ]
  },
  {
   "cell_type": "code",
   "execution_count": 3,
   "metadata": {},
   "outputs": [
    {
     "data": {
      "text/html": [
       "<div>\n",
       "<style scoped>\n",
       "    .dataframe tbody tr th:only-of-type {\n",
       "        vertical-align: middle;\n",
       "    }\n",
       "\n",
       "    .dataframe tbody tr th {\n",
       "        vertical-align: top;\n",
       "    }\n",
       "\n",
       "    .dataframe thead th {\n",
       "        text-align: right;\n",
       "    }\n",
       "</style>\n",
       "<table border=\"1\" class=\"dataframe\">\n",
       "  <thead>\n",
       "    <tr style=\"text-align: right;\">\n",
       "      <th></th>\n",
       "      <th>domain</th>\n",
       "      <th>protocol</th>\n",
       "      <th>dataset</th>\n",
       "      <th>cell_type</th>\n",
       "      <th>batch</th>\n",
       "    </tr>\n",
       "    <tr>\n",
       "      <th>cells</th>\n",
       "      <th></th>\n",
       "      <th></th>\n",
       "      <th></th>\n",
       "      <th></th>\n",
       "      <th></th>\n",
       "    </tr>\n",
       "  </thead>\n",
       "  <tbody>\n",
       "    <tr>\n",
       "      <th>R1.01.R2.01.R3.06.P1.55</th>\n",
       "      <td>scATAC-seq</td>\n",
       "      <td>SHARE-seq</td>\n",
       "      <td>Ma-2020-ATAC</td>\n",
       "      <td>Dermal Fibroblast</td>\n",
       "      <td>55</td>\n",
       "    </tr>\n",
       "    <tr>\n",
       "      <th>R1.01.R2.03.R3.68.P1.55</th>\n",
       "      <td>scATAC-seq</td>\n",
       "      <td>SHARE-seq</td>\n",
       "      <td>Ma-2020-ATAC</td>\n",
       "      <td>Dermal Fibroblast</td>\n",
       "      <td>55</td>\n",
       "    </tr>\n",
       "    <tr>\n",
       "      <th>R1.01.R2.05.R3.15.P1.53</th>\n",
       "      <td>scATAC-seq</td>\n",
       "      <td>SHARE-seq</td>\n",
       "      <td>Ma-2020-ATAC</td>\n",
       "      <td>Dermal Fibroblast</td>\n",
       "      <td>53</td>\n",
       "    </tr>\n",
       "    <tr>\n",
       "      <th>R1.01.R2.05.R3.40.P1.55</th>\n",
       "      <td>scATAC-seq</td>\n",
       "      <td>SHARE-seq</td>\n",
       "      <td>Ma-2020-ATAC</td>\n",
       "      <td>Dermal Fibroblast</td>\n",
       "      <td>55</td>\n",
       "    </tr>\n",
       "    <tr>\n",
       "      <th>R1.01.R2.05.R3.49.P1.55</th>\n",
       "      <td>scATAC-seq</td>\n",
       "      <td>SHARE-seq</td>\n",
       "      <td>Ma-2020-ATAC</td>\n",
       "      <td>Dermal Fibroblast</td>\n",
       "      <td>55</td>\n",
       "    </tr>\n",
       "    <tr>\n",
       "      <th>...</th>\n",
       "      <td>...</td>\n",
       "      <td>...</td>\n",
       "      <td>...</td>\n",
       "      <td>...</td>\n",
       "      <td>...</td>\n",
       "    </tr>\n",
       "    <tr>\n",
       "      <th>R1.92.R2.79.R3.05.P1.56</th>\n",
       "      <td>scATAC-seq</td>\n",
       "      <td>SHARE-seq</td>\n",
       "      <td>Ma-2020-ATAC</td>\n",
       "      <td>Melanocyte</td>\n",
       "      <td>56</td>\n",
       "    </tr>\n",
       "    <tr>\n",
       "      <th>R1.93.R2.20.R3.18.P1.53</th>\n",
       "      <td>scATAC-seq</td>\n",
       "      <td>SHARE-seq</td>\n",
       "      <td>Ma-2020-ATAC</td>\n",
       "      <td>Melanocyte</td>\n",
       "      <td>53</td>\n",
       "    </tr>\n",
       "    <tr>\n",
       "      <th>R1.93.R2.80.R3.62.P1.55</th>\n",
       "      <td>scATAC-seq</td>\n",
       "      <td>SHARE-seq</td>\n",
       "      <td>Ma-2020-ATAC</td>\n",
       "      <td>Melanocyte</td>\n",
       "      <td>55</td>\n",
       "    </tr>\n",
       "    <tr>\n",
       "      <th>R1.93.R2.91.R3.82.P1.56</th>\n",
       "      <td>scATAC-seq</td>\n",
       "      <td>SHARE-seq</td>\n",
       "      <td>Ma-2020-ATAC</td>\n",
       "      <td>Melanocyte</td>\n",
       "      <td>56</td>\n",
       "    </tr>\n",
       "    <tr>\n",
       "      <th>R1.94.R2.75.R3.40.P1.55</th>\n",
       "      <td>scATAC-seq</td>\n",
       "      <td>SHARE-seq</td>\n",
       "      <td>Ma-2020-ATAC</td>\n",
       "      <td>Melanocyte</td>\n",
       "      <td>55</td>\n",
       "    </tr>\n",
       "  </tbody>\n",
       "</table>\n",
       "<p>32231 rows × 5 columns</p>\n",
       "</div>"
      ],
      "text/plain": [
       "                             domain   protocol       dataset  \\\n",
       "cells                                                          \n",
       "R1.01.R2.01.R3.06.P1.55  scATAC-seq  SHARE-seq  Ma-2020-ATAC   \n",
       "R1.01.R2.03.R3.68.P1.55  scATAC-seq  SHARE-seq  Ma-2020-ATAC   \n",
       "R1.01.R2.05.R3.15.P1.53  scATAC-seq  SHARE-seq  Ma-2020-ATAC   \n",
       "R1.01.R2.05.R3.40.P1.55  scATAC-seq  SHARE-seq  Ma-2020-ATAC   \n",
       "R1.01.R2.05.R3.49.P1.55  scATAC-seq  SHARE-seq  Ma-2020-ATAC   \n",
       "...                             ...        ...           ...   \n",
       "R1.92.R2.79.R3.05.P1.56  scATAC-seq  SHARE-seq  Ma-2020-ATAC   \n",
       "R1.93.R2.20.R3.18.P1.53  scATAC-seq  SHARE-seq  Ma-2020-ATAC   \n",
       "R1.93.R2.80.R3.62.P1.55  scATAC-seq  SHARE-seq  Ma-2020-ATAC   \n",
       "R1.93.R2.91.R3.82.P1.56  scATAC-seq  SHARE-seq  Ma-2020-ATAC   \n",
       "R1.94.R2.75.R3.40.P1.55  scATAC-seq  SHARE-seq  Ma-2020-ATAC   \n",
       "\n",
       "                                 cell_type batch  \n",
       "cells                                             \n",
       "R1.01.R2.01.R3.06.P1.55  Dermal Fibroblast    55  \n",
       "R1.01.R2.03.R3.68.P1.55  Dermal Fibroblast    55  \n",
       "R1.01.R2.05.R3.15.P1.53  Dermal Fibroblast    53  \n",
       "R1.01.R2.05.R3.40.P1.55  Dermal Fibroblast    55  \n",
       "R1.01.R2.05.R3.49.P1.55  Dermal Fibroblast    55  \n",
       "...                                    ...   ...  \n",
       "R1.92.R2.79.R3.05.P1.56         Melanocyte    56  \n",
       "R1.93.R2.20.R3.18.P1.53         Melanocyte    53  \n",
       "R1.93.R2.80.R3.62.P1.55         Melanocyte    55  \n",
       "R1.93.R2.91.R3.82.P1.56         Melanocyte    56  \n",
       "R1.94.R2.75.R3.40.P1.55         Melanocyte    55  \n",
       "\n",
       "[32231 rows x 5 columns]"
      ]
     },
     "execution_count": 3,
     "metadata": {},
     "output_type": "execute_result"
    }
   ],
   "source": [
    "ma_atac.obs"
   ]
  },
  {
   "cell_type": "code",
   "execution_count": 10,
   "metadata": {},
   "outputs": [],
   "source": [
    "batch_1_atac=sc.read_h5ad('/mnt/nas/user/yixuan/Multiomics-benchmark-main/data/download/seurat_10x/10x-Multiome-Pbmc10k-ATAC.h5ad')\n",
    "batch_1_rna=sc.read_h5ad('/mnt/nas/user/yixuan/Multiomics-benchmark-main/data/download/10x-Multiome-Pbmc10k/10x-Multiome-Pbmc10k-RNA.h5ad')"
   ]
  },
  {
   "cell_type": "code",
   "execution_count": 16,
   "metadata": {},
   "outputs": [
    {
     "name": "stdout",
     "output_type": "stream",
     "text": [
      "AnnData object with n_obs × n_vars = 24205 × 99019\n",
      "    obs: 'assay_ontology_term_id', 'development_stage_ontology_term_id', 'donor_uuid', 'ethnicity_ontology_term_id', 'library_uuid', 'organism_ontology_term_id', 'sample_preservation_method', 'sample_uuid', 'suspension_type', 'suspension_uuid', 'tissue_ontology_term_id', 'is_primary_data', 'author_cell_type', 'cell_type_category', 'cell_type_ontology_term_id', 'author_cluster', 'disease_ontology_term_id', 'reported_diseases', 'sex_ontology_term_id', 'nCount_RNA', 'nFeature_RNA', 'cell_type', 'assay', 'disease', 'organism', 'sex', 'tissue', 'ethnicity', 'development_stage', 'domain', 'protocol', 'dataset', 'batch'\n",
      "    var: 'chrom', 'chromStart', 'chromEnd', 'genome', 'n_counts'\n",
      "    uns: 'X_normalization', 'default_embedding', 'layer_descriptions', 'schema_version', 'title'\n",
      "    obsm: 'X_umap'\n",
      "AnnData object with n_obs × n_vars = 19985 × 27146\n",
      "    obs: 'assay_ontology_term_id', 'development_stage_ontology_term_id', 'donor_uuid', 'ethnicity_ontology_term_id', 'library_uuid', 'mapped_reference_annotation', 'organism_ontology_term_id', 'sample_preservation_method', 'sample_uuid', 'suspension_type', 'suspension_uuid', 'tissue_ontology_term_id', 'is_primary_data', 'author_cell_type', 'cell_type_category', 'cell_type_ontology_term_id', 'author_cluster', 'disease_ontology_term_id', 'reported_diseases', 'sex_ontology_term_id', 'percent.mt', 'percent.rpl', 'percent.rps', 'nCount_SCT', 'nFeature_SCT', 'cell_type', 'assay', 'disease', 'organism', 'sex', 'tissue', 'ethnicity', 'development_stage', 'domain', 'protocol', 'dataset', 'batch'\n",
      "    var: 'gene_ids', 'feature_types', 'genome', 'chrom', 'chromStart', 'chromEnd', 'name', 'score', 'strand', 'thickStart', 'thickEnd', 'itemRgb', 'blockCount', 'blockSizes', 'blockStarts', 'gene_type', 'gene_name', 'hgnc_id', 'havana_gene', 'tag', 'n_counts', 'highly_variable', 'highly_variable_rank', 'means', 'variances', 'variances_norm', 'highly_variable_nbatches'\n",
      "    uns: 'X_normalization', 'default_embedding', 'hvg', 'layer_descriptions', 'schema_version', 'title'\n",
      "    obsm: 'X_umap'\n",
      "AnnData object with n_obs × n_vars = 32231 × 340341\n",
      "    obs: 'domain', 'protocol', 'dataset', 'cell_type', 'batch'\n",
      "    var: 'chrom', 'chromStart', 'chromEnd', 'genome', 'n_counts'\n",
      "AnnData object with n_obs × n_vars = 32231 × 21478\n",
      "    obs: 'domain', 'protocol', 'dataset', 'cell_type', 'batch'\n",
      "    var: 'chrom', 'chromStart', 'chromEnd', 'name', 'score', 'strand', 'thickStart', 'thickEnd', 'itemRgb', 'blockCount', 'blockSizes', 'blockStarts', 'gene_id', 'gene_type', 'mgi_id', 'havana_gene', 'tag', 'genome', 'n_counts', 'highly_variable', 'highly_variable_rank', 'means', 'variances', 'variances_norm'\n",
      "    uns: 'hvg'\n"
     ]
    }
   ],
   "source": [
    "print(muto_atac)\n",
    "print(muto_rna)\n",
    "print(ma_atac)\n",
    "print(ma_rna)"
   ]
  },
  {
   "cell_type": "code",
   "execution_count": 15,
   "metadata": {},
   "outputs": [
    {
     "data": {
      "text/plain": [
       "cells\n",
       "AAACCTGAGGGTCTCC-1    e0def004-9e30-4a3b-9a65-007110f3a1f2\n",
       "AAACCTGAGTGTTAGA-1    e0def004-9e30-4a3b-9a65-007110f3a1f2\n",
       "AAACCTGCAAGCGCTC-1    e0def004-9e30-4a3b-9a65-007110f3a1f2\n",
       "AAACCTGCACCAGATT-1    e0def004-9e30-4a3b-9a65-007110f3a1f2\n",
       "AAACCTGCAGTCAGAG-1    e0def004-9e30-4a3b-9a65-007110f3a1f2\n",
       "                                      ...                 \n",
       "TTTGTCAGTTAAGACA-5    8213a3f7-2437-4e8a-b836-caec33df901d\n",
       "TTTGTCAGTTCCGGCA-5    8213a3f7-2437-4e8a-b836-caec33df901d\n",
       "TTTGTCATCACAACGT-5    8213a3f7-2437-4e8a-b836-caec33df901d\n",
       "TTTGTCATCACGCGGT-5    8213a3f7-2437-4e8a-b836-caec33df901d\n",
       "TTTGTCATCCTGCTTG-5    8213a3f7-2437-4e8a-b836-caec33df901d\n",
       "Name: batch, Length: 19985, dtype: category\n",
       "Categories (5, object): ['8c570254-4bef-48d8-bd79-c812f60835a5', '5028f75a-8c09-4155-a232-ad7dbfa6042e', '8213a3f7-2437-4e8a-b836-caec33df901d', 'e0def004-9e30-4a3b-9a65-007110f3a1f2', 'f6c0f811-2fb8-4989-b796-37c14b055517']"
      ]
     },
     "execution_count": 15,
     "metadata": {},
     "output_type": "execute_result"
    }
   ],
   "source": [
    "muto_rna.obs['batch']"
   ]
  },
  {
   "cell_type": "code",
   "execution_count": 17,
   "metadata": {},
   "outputs": [
    {
     "data": {
      "text/plain": [
       "cells\n",
       "R1.01.R2.01.R3.06.P1.55    55\n",
       "R1.01.R2.03.R3.68.P1.55    55\n",
       "R1.01.R2.05.R3.15.P1.53    53\n",
       "R1.01.R2.05.R3.40.P1.55    55\n",
       "R1.01.R2.05.R3.49.P1.55    55\n",
       "                           ..\n",
       "R1.92.R2.79.R3.05.P1.56    56\n",
       "R1.93.R2.20.R3.18.P1.53    53\n",
       "R1.93.R2.80.R3.62.P1.55    55\n",
       "R1.93.R2.91.R3.82.P1.56    56\n",
       "R1.94.R2.75.R3.40.P1.55    55\n",
       "Name: batch, Length: 32231, dtype: category\n",
       "Categories (4, object): ['53', '54', '55', '56']"
      ]
     },
     "execution_count": 17,
     "metadata": {},
     "output_type": "execute_result"
    }
   ],
   "source": [
    "ma_rna.obs['batch']"
   ]
  },
  {
   "cell_type": "code",
   "execution_count": 3,
   "metadata": {},
   "outputs": [],
   "source": [
    "batch_4_atac=sc.read_h5ad('/mnt/nas/user/yixuan/Multiomics-benchmark-main/data/download/nips_challenge_multiome_paired/multiome-ATAC.h5ad')"
   ]
  },
  {
   "cell_type": "code",
   "execution_count": null,
   "metadata": {},
   "outputs": [
    {
     "data": {
      "text/plain": [
       "array(['OR4F5', 'OR4F29', 'OR4F16', ..., 'DAZ4', 'BPY2C', 'CDY1'],\n",
       "      dtype=object)"
      ]
     },
     "execution_count": 9,
     "metadata": {},
     "output_type": "execute_result"
    }
   ],
   "source": [
    "batch_4_atac.uns['ATAC_gene_activity_var_names']"
   ]
  },
  {
   "cell_type": "code",
   "execution_count": null,
   "metadata": {},
   "outputs": [
    {
     "data": {
      "text/plain": [
       "<9631x20162 sparse matrix of type '<class 'numpy.float32'>'\n",
       "\twith 51328299 stored elements in Compressed Sparse Column format>"
      ]
     },
     "execution_count": 4,
     "metadata": {},
     "output_type": "execute_result"
    }
   ],
   "source": [
    "batch_1_atac.X"
   ]
  },
  {
   "cell_type": "code",
   "execution_count": 20,
   "metadata": {},
   "outputs": [
    {
     "data": {
      "text/plain": [
       "cells\n",
       "AAACAGCCAATCCCTT-1      CD4 TCM\n",
       "AAACAGCCAATGCGCT-1    CD4 Naive\n",
       "AAACAGCCACCAACCG-1    CD8 Naive\n",
       "AAACAGCCAGGATAAC-1    CD4 Naive\n",
       "AAACAGCCAGTTTACG-1      CD4 TCM\n",
       "                        ...    \n",
       "TTTGTTGGTGACATGC-1    CD8 Naive\n",
       "TTTGTTGGTGTTAAAC-1    CD8 Naive\n",
       "TTTGTTGGTTAGGATT-1           NK\n",
       "TTTGTTGGTTGGTTAG-1      CD4 TCM\n",
       "TTTGTTGGTTTGCAGA-1    CD8 TEM_1\n",
       "Name: cell_type, Length: 9631, dtype: category\n",
       "Categories (19, object): ['CD4 Naive', 'CD4 TCM', 'CD4 TEM', 'CD8 Naive', ..., 'Treg', 'cDC', 'gdT', 'pDC']"
      ]
     },
     "execution_count": 20,
     "metadata": {},
     "output_type": "execute_result"
    }
   ],
   "source": [
    "batch_1_atac_origin=sc.read_h5ad('/mnt/nas/user/yixuan/Multiomics-benchmark-main/data/download/10x-Multiome-Pbmc10k/10x-Multiome-Pbmc10k-ATAC.h5ad')\n",
    "batch_1_atac_origin.obs['cell_type']"
   ]
  },
  {
   "cell_type": "code",
   "execution_count": null,
   "metadata": {},
   "outputs": [
    {
     "data": {
      "text/plain": [
       "<9631x107194 sparse matrix of type '<class 'numpy.float32'>'\n",
       "\twith 71252543 stored elements in Compressed Sparse Row format>"
      ]
     },
     "execution_count": 6,
     "metadata": {},
     "output_type": "execute_result"
    }
   ],
   "source": [
    "batch_1_atac_origin.X"
   ]
  },
  {
   "cell_type": "code",
   "execution_count": 2,
   "metadata": {},
   "outputs": [],
   "source": [
    "batch_1_rna=sc.read_h5ad('/mnt/nas/user/yixuan/Multiomics-benchmark-main/data/download/10x-Multiome-Pbmc10k/10x-Multiome-Pbmc10k-RNA.h5ad')\n",
    "batch_4_rna=sc.read_h5ad('/mnt/nas/user/yixuan/Multiomics-benchmark-main/data/download/nips_challenge_multiome_paired/multiome-RNA.h5ad')"
   ]
  },
  {
   "cell_type": "code",
   "execution_count": 3,
   "metadata": {},
   "outputs": [
    {
     "name": "stdout",
     "output_type": "stream",
     "text": [
      "AnnData object with n_obs × n_vars = 9631 × 29095\n",
      "    obs: 'domain', 'protocol', 'dataset', 'orig.ident', 'nCount_RNA', 'nFeature_RNA', 'percent.mt', 'nCount_ATAC', 'nFeature_ATAC', 'nCount_SCT', 'nFeature_SCT', 'SCT.weight', 'ATAC.weight', 'wsnn_res.0.8', 'seurat_clusters', 'sub.cluster', 'cell_type'\n",
      "    var: 'gene_ids', 'feature_types', 'genome', 'chrom', 'chromStart', 'chromEnd', 'name', 'score', 'strand', 'thickStart', 'thickEnd', 'itemRgb', 'blockCount', 'blockSizes', 'blockStarts', 'gene_type', 'gene_name', 'hgnc_id', 'havana_gene', 'tag', 'n_counts', 'highly_variable', 'highly_variable_rank', 'means', 'variances', 'variances_norm'\n",
      "    uns: 'hvg'\n",
      "AnnData object with n_obs × n_vars = 69249 × 13403\n",
      "    obs: 'GEX_pct_counts_mt', 'GEX_n_counts', 'GEX_n_genes', 'GEX_size_factors', 'GEX_phase', 'ATAC_nCount_peaks', 'ATAC_atac_fragments', 'ATAC_reads_in_peaks_frac', 'ATAC_blacklist_fraction', 'ATAC_nucleosome_signal', 'cell_type', 'batch', 'ATAC_pseudotime_order', 'GEX_pseudotime_order', 'Samplename', 'Site', 'DonorNumber', 'Modality', 'VendorLot', 'DonorID', 'DonorAge', 'DonorBMI', 'DonorBloodType', 'DonorRace', 'Ethnicity', 'DonorGender', 'QCMeds', 'DonorSmoker', 'domain', 'protocol', 'dataset'\n",
      "    var: 'feature_types', 'gene_id', 'chrom', 'chromStart', 'chromEnd', 'name', 'score', 'strand', 'thickStart', 'thickEnd', 'itemRgb', 'blockCount', 'blockSizes', 'blockStarts', 'gene_type', 'gene_name', 'tag', 'hgnc_id', 'havana_gene', 'artif_dupl', 'n_counts', 'highly_variable', 'highly_variable_rank', 'means', 'variances', 'variances_norm'\n",
      "    uns: 'ATAC_gene_activity_var_names', 'dataset_id', 'genome', 'hvg', 'organism'\n",
      "    obsm: 'ATAC_lsi_full', 'ATAC_lsi_red', 'ATAC_umap', 'GEX_X_pca', 'GEX_X_umap'\n",
      "    layers: 'counts'\n"
     ]
    }
   ],
   "source": [
    "print(batch_1_rna)\n",
    "print(batch_4_rna)"
   ]
  },
  {
   "cell_type": "code",
   "execution_count": 4,
   "metadata": {},
   "outputs": [
    {
     "name": "stdout",
     "output_type": "stream",
     "text": [
      "29095 13403\n",
      "13397\n"
     ]
    }
   ],
   "source": [
    "\n",
    "genes_1=list(batch_1_rna.var.index)\n",
    "genes_4=list(batch_4_rna.var.index)\n",
    "# genes_1=list(batch_1_atac.var.index)\n",
    "# genes_4=list(batch_4_atac.uns['ATAC_gene_activity_var_names'])\n",
    "print(len(genes_1),len(genes_4))\n",
    "# genes=list(set(genes_1).intersection(genes_2,genes_3))\n",
    "# print(len(genes))\n",
    "inter_gene=list(set(genes_1).intersection(genes_4))\n",
    "print(len(inter_gene))"
   ]
  },
  {
   "cell_type": "code",
   "execution_count": 5,
   "metadata": {},
   "outputs": [
    {
     "name": "stderr",
     "output_type": "stream",
     "text": [
      "\n",
      "KeyboardInterrupt\n",
      "\n"
     ]
    }
   ],
   "source": [
    "inter_gene\n",
    "inter_gene_save=pd.DataFrame(inter_gene)\n",
    "inter_gene_save.to_csv('/mnt/nas/user/yixuan/Multiomics-benchmark-main/data/download/seurat_10x/real_2_batch/inter_gene.csv')"
   ]
  },
  {
   "cell_type": "code",
   "execution_count": 31,
   "metadata": {},
   "outputs": [],
   "source": [
    "import random\n",
    "random.seed(0) \n",
    "L1 = random.sample(range(1, 9631), 2000)\n",
    "L4 = random.sample(range(1, 69249), 2000)"
   ]
  },
  {
   "cell_type": "code",
   "execution_count": 64,
   "metadata": {},
   "outputs": [],
   "source": [
    "rand_save=pd.DataFrame(L1)\n",
    "rand_save.to_csv('/mnt/nas/user/yixuan/Multiomics-benchmark-main/data/download/seurat_10x/real_2_batch/L1.csv')"
   ]
  },
  {
   "cell_type": "code",
   "execution_count": 60,
   "metadata": {},
   "outputs": [],
   "source": [
    "rand_save=pd.DataFrame(L4)\n",
    "rand_save.to_csv('/mnt/nas/user/yixuan/Multiomics-benchmark-main/data/download/seurat_10x/real_2_batch/L4.csv')"
   ]
  },
  {
   "cell_type": "code",
   "execution_count": 6,
   "metadata": {},
   "outputs": [],
   "source": [
    "rand_save_L1=pd.read_csv('/mnt/nas/user/yixuan/Multiomics-benchmark-main/data/download/seurat_10x/nips_10x/L1.csv',index_col=0)\n",
    "rand_save_L4=pd.read_csv('/mnt/nas/user/yixuan/Multiomics-benchmark-main/data/download/seurat_10x/nips_10x/L4.csv',index_col=0)\n",
    "L1=rand_save_L1['0'].values.tolist()\n",
    "L4=rand_save_L4['0'].values.tolist()"
   ]
  },
  {
   "cell_type": "code",
   "execution_count": 7,
   "metadata": {},
   "outputs": [],
   "source": [
    "rna_1=batch_1_rna[L1][:,batch_1_rna[L1].var.index.isin(inter_gene)]\n",
    "rna_4=batch_4_rna[L4][:,batch_4_rna[L4].var.index.isin(inter_gene)]"
   ]
  },
  {
   "cell_type": "code",
   "execution_count": 8,
   "metadata": {},
   "outputs": [
    {
     "data": {
      "text/plain": [
       "View of AnnData object with n_obs × n_vars = 2000 × 13397\n",
       "    obs: 'domain', 'protocol', 'dataset', 'orig.ident', 'nCount_RNA', 'nFeature_RNA', 'percent.mt', 'nCount_ATAC', 'nFeature_ATAC', 'nCount_SCT', 'nFeature_SCT', 'SCT.weight', 'ATAC.weight', 'wsnn_res.0.8', 'seurat_clusters', 'sub.cluster', 'cell_type'\n",
       "    var: 'gene_ids', 'feature_types', 'genome', 'chrom', 'chromStart', 'chromEnd', 'name', 'score', 'strand', 'thickStart', 'thickEnd', 'itemRgb', 'blockCount', 'blockSizes', 'blockStarts', 'gene_type', 'gene_name', 'hgnc_id', 'havana_gene', 'tag', 'n_counts', 'highly_variable', 'highly_variable_rank', 'means', 'variances', 'variances_norm'\n",
       "    uns: 'hvg'"
      ]
     },
     "execution_count": 8,
     "metadata": {},
     "output_type": "execute_result"
    }
   ],
   "source": [
    "rna_1"
   ]
  },
  {
   "cell_type": "code",
   "execution_count": 9,
   "metadata": {},
   "outputs": [
    {
     "data": {
      "text/plain": [
       "View of AnnData object with n_obs × n_vars = 2000 × 13397\n",
       "    obs: 'GEX_pct_counts_mt', 'GEX_n_counts', 'GEX_n_genes', 'GEX_size_factors', 'GEX_phase', 'ATAC_nCount_peaks', 'ATAC_atac_fragments', 'ATAC_reads_in_peaks_frac', 'ATAC_blacklist_fraction', 'ATAC_nucleosome_signal', 'cell_type', 'batch', 'ATAC_pseudotime_order', 'GEX_pseudotime_order', 'Samplename', 'Site', 'DonorNumber', 'Modality', 'VendorLot', 'DonorID', 'DonorAge', 'DonorBMI', 'DonorBloodType', 'DonorRace', 'Ethnicity', 'DonorGender', 'QCMeds', 'DonorSmoker', 'domain', 'protocol', 'dataset'\n",
       "    var: 'feature_types', 'gene_id', 'chrom', 'chromStart', 'chromEnd', 'name', 'score', 'strand', 'thickStart', 'thickEnd', 'itemRgb', 'blockCount', 'blockSizes', 'blockStarts', 'gene_type', 'gene_name', 'tag', 'hgnc_id', 'havana_gene', 'artif_dupl', 'n_counts', 'highly_variable', 'highly_variable_rank', 'means', 'variances', 'variances_norm'\n",
       "    uns: 'ATAC_gene_activity_var_names', 'dataset_id', 'genome', 'hvg', 'organism'\n",
       "    obsm: 'ATAC_lsi_full', 'ATAC_lsi_red', 'ATAC_umap', 'GEX_X_pca', 'GEX_X_umap'\n",
       "    layers: 'counts'"
      ]
     },
     "execution_count": 9,
     "metadata": {},
     "output_type": "execute_result"
    }
   ],
   "source": [
    "rna_4"
   ]
  },
  {
   "cell_type": "code",
   "execution_count": 10,
   "metadata": {},
   "outputs": [],
   "source": [
    "from scipy.sparse import hstack,vstack\n",
    "\n",
    "combined_X=vstack((rna_1.X,rna_4.X))\n"
   ]
  },
  {
   "cell_type": "code",
   "execution_count": 11,
   "metadata": {},
   "outputs": [
    {
     "data": {
      "text/plain": [
       "<4000x13397 sparse matrix of type '<class 'numpy.float32'>'\n",
       "\twith 5953069 stored elements in Compressed Sparse Row format>"
      ]
     },
     "execution_count": 11,
     "metadata": {},
     "output_type": "execute_result"
    }
   ],
   "source": [
    "combined_X"
   ]
  },
  {
   "cell_type": "code",
   "execution_count": 23,
   "metadata": {},
   "outputs": [
    {
     "data": {
      "text/plain": [
       "cells\n",
       "GGTTGCATCCAGGTCA-4-s2d1         CD4+ T naive\n",
       "ACACGGACATCGTTCT-12-s4d9                  NK\n",
       "TGTTGCACAATTGACT-2-s1d2           CD14+ Mono\n",
       "GTTACTCGTTGTTGCT-s2d4           Erythroblast\n",
       "CCGCCAACACCTGGTG-12-s3d7              CD8+ T\n",
       "                                  ...       \n",
       "GCCACTAAGTAAGGGC-s2d4           Erythroblast\n",
       "CCTTGTTCATTGTCCT-s2d4             Lymph prog\n",
       "CTTCTAAGTACAATGT-13-s4d1    CD4+ T activated\n",
       "ACTTTGTTCTCCATAT-3-s1d3         CD4+ T naive\n",
       "GAAGGAACATTTGCTC-10-s3d3     Proerythroblast\n",
       "Name: cell_type, Length: 2000, dtype: category\n",
       "Categories (22, object): ['B1 B', 'CD4+ T activated', 'CD4+ T naive', 'CD8+ T', ..., 'Proerythroblast', 'Transitional B', 'cDC2', 'pDC']"
      ]
     },
     "execution_count": 23,
     "metadata": {},
     "output_type": "execute_result"
    }
   ],
   "source": [
    "rna_4.obs['cell_type']"
   ]
  },
  {
   "cell_type": "code",
   "execution_count": 29,
   "metadata": {},
   "outputs": [
    {
     "name": "stderr",
     "output_type": "stream",
     "text": [
      "/tmp/ipykernel_49657/594422962.py:2: SettingWithCopyWarning: \n",
      "A value is trying to be set on a copy of a slice from a DataFrame.\n",
      "Try using .loc[row_indexer,col_indexer] = value instead\n",
      "\n",
      "See the caveats in the documentation: https://pandas.pydata.org/pandas-docs/stable/user_guide/indexing.html#returning-a-view-versus-a-copy\n",
      "  rna_1_obs['batch']=1\n",
      "/tmp/ipykernel_49657/594422962.py:4: SettingWithCopyWarning: \n",
      "A value is trying to be set on a copy of a slice from a DataFrame.\n",
      "Try using .loc[row_indexer,col_indexer] = value instead\n",
      "\n",
      "See the caveats in the documentation: https://pandas.pydata.org/pandas-docs/stable/user_guide/indexing.html#returning-a-view-versus-a-copy\n",
      "  rna_4_obs['batch']=2\n",
      "/tmp/ipykernel_49657/594422962.py:5: SettingWithCopyWarning: \n",
      "A value is trying to be set on a copy of a slice from a DataFrame.\n",
      "Try using .loc[row_indexer,col_indexer] = value instead\n",
      "\n",
      "See the caveats in the documentation: https://pandas.pydata.org/pandas-docs/stable/user_guide/indexing.html#returning-a-view-versus-a-copy\n",
      "  rna_4_obs['dataset']='nips_paired'\n"
     ]
    }
   ],
   "source": [
    "rna_1_obs=rna_1.obs[['domain','protocol','dataset','cell_type']]\n",
    "rna_1_obs['batch']=1\n",
    "rna_4_obs=rna_4.obs[['domain','protocol','cell_type']]\n",
    "rna_4_obs['batch']=2\n",
    "rna_4_obs['dataset']='nips_paired'\n",
    "combined_var=pd.DataFrame(rna_1.var.index,index=list(rna_1.var.index))\n",
    "combined_obs=pd.concat([rna_1_obs,rna_4_obs])"
   ]
  },
  {
   "cell_type": "code",
   "execution_count": 30,
   "metadata": {},
   "outputs": [],
   "source": [
    "combined_var['combined_var']=rna_1.var['highly_variable']"
   ]
  },
  {
   "cell_type": "code",
   "execution_count": 31,
   "metadata": {},
   "outputs": [],
   "source": [
    "adata_rna = ad.AnnData(X=combined_X,obs=combined_obs,var=combined_var)\n",
    "adata_rna\n",
    "adata_rna.write_h5ad('/mnt/nas/user/yixuan/Multiomics-benchmark-main/data/download/seurat_10x/nips_10x/nips_10x-RNA.h5ad')"
   ]
  },
  {
   "cell_type": "code",
   "execution_count": 26,
   "metadata": {},
   "outputs": [
    {
     "data": {
      "text/html": [
       "<div>\n",
       "<style scoped>\n",
       "    .dataframe tbody tr th:only-of-type {\n",
       "        vertical-align: middle;\n",
       "    }\n",
       "\n",
       "    .dataframe tbody tr th {\n",
       "        vertical-align: top;\n",
       "    }\n",
       "\n",
       "    .dataframe thead th {\n",
       "        text-align: right;\n",
       "    }\n",
       "</style>\n",
       "<table border=\"1\" class=\"dataframe\">\n",
       "  <thead>\n",
       "    <tr style=\"text-align: right;\">\n",
       "      <th></th>\n",
       "      <th>domain</th>\n",
       "      <th>protocol</th>\n",
       "      <th>dataset</th>\n",
       "      <th>cell_type</th>\n",
       "      <th>batch</th>\n",
       "    </tr>\n",
       "    <tr>\n",
       "      <th>cells</th>\n",
       "      <th></th>\n",
       "      <th></th>\n",
       "      <th></th>\n",
       "      <th></th>\n",
       "      <th></th>\n",
       "    </tr>\n",
       "  </thead>\n",
       "  <tbody>\n",
       "    <tr>\n",
       "      <th>GGGTTACGTGCATTTC-1</th>\n",
       "      <td>scRNA-seq</td>\n",
       "      <td>10x Multiome</td>\n",
       "      <td>10x-Multiome-Pbmc10k-RNA</td>\n",
       "      <td>CD4 Naive</td>\n",
       "      <td>1</td>\n",
       "    </tr>\n",
       "    <tr>\n",
       "      <th>GTCTAACAGGGACTAA-1</th>\n",
       "      <td>scRNA-seq</td>\n",
       "      <td>10x Multiome</td>\n",
       "      <td>10x-Multiome-Pbmc10k-RNA</td>\n",
       "      <td>CD14 Mono</td>\n",
       "      <td>1</td>\n",
       "    </tr>\n",
       "    <tr>\n",
       "      <th>ACAGGATCACATAGCC-1</th>\n",
       "      <td>scRNA-seq</td>\n",
       "      <td>10x Multiome</td>\n",
       "      <td>10x-Multiome-Pbmc10k-RNA</td>\n",
       "      <td>CD8 TEM_1</td>\n",
       "      <td>1</td>\n",
       "    </tr>\n",
       "    <tr>\n",
       "      <th>CTCAATAAGCTATATG-1</th>\n",
       "      <td>scRNA-seq</td>\n",
       "      <td>10x Multiome</td>\n",
       "      <td>10x-Multiome-Pbmc10k-RNA</td>\n",
       "      <td>CD8 TEM_2</td>\n",
       "      <td>1</td>\n",
       "    </tr>\n",
       "    <tr>\n",
       "      <th>TCTTAGTTCCGGCTAA-1</th>\n",
       "      <td>scRNA-seq</td>\n",
       "      <td>10x Multiome</td>\n",
       "      <td>10x-Multiome-Pbmc10k-RNA</td>\n",
       "      <td>CD4 Naive</td>\n",
       "      <td>1</td>\n",
       "    </tr>\n",
       "    <tr>\n",
       "      <th>...</th>\n",
       "      <td>...</td>\n",
       "      <td>...</td>\n",
       "      <td>...</td>\n",
       "      <td>...</td>\n",
       "      <td>...</td>\n",
       "    </tr>\n",
       "    <tr>\n",
       "      <th>GCCACTAAGTAAGGGC-s2d4</th>\n",
       "      <td>scRNA-seq</td>\n",
       "      <td>multiome</td>\n",
       "      <td>nips_paired</td>\n",
       "      <td>Erythroblast</td>\n",
       "      <td>2</td>\n",
       "    </tr>\n",
       "    <tr>\n",
       "      <th>CCTTGTTCATTGTCCT-s2d4</th>\n",
       "      <td>scRNA-seq</td>\n",
       "      <td>multiome</td>\n",
       "      <td>nips_paired</td>\n",
       "      <td>Lymph prog</td>\n",
       "      <td>2</td>\n",
       "    </tr>\n",
       "    <tr>\n",
       "      <th>CTTCTAAGTACAATGT-13-s4d1</th>\n",
       "      <td>scRNA-seq</td>\n",
       "      <td>multiome</td>\n",
       "      <td>nips_paired</td>\n",
       "      <td>CD4+ T activated</td>\n",
       "      <td>2</td>\n",
       "    </tr>\n",
       "    <tr>\n",
       "      <th>ACTTTGTTCTCCATAT-3-s1d3</th>\n",
       "      <td>scRNA-seq</td>\n",
       "      <td>multiome</td>\n",
       "      <td>nips_paired</td>\n",
       "      <td>CD4+ T naive</td>\n",
       "      <td>2</td>\n",
       "    </tr>\n",
       "    <tr>\n",
       "      <th>GAAGGAACATTTGCTC-10-s3d3</th>\n",
       "      <td>scRNA-seq</td>\n",
       "      <td>multiome</td>\n",
       "      <td>nips_paired</td>\n",
       "      <td>Proerythroblast</td>\n",
       "      <td>2</td>\n",
       "    </tr>\n",
       "  </tbody>\n",
       "</table>\n",
       "<p>4000 rows × 5 columns</p>\n",
       "</div>"
      ],
      "text/plain": [
       "                             domain      protocol                   dataset  \\\n",
       "cells                                                                         \n",
       "GGGTTACGTGCATTTC-1        scRNA-seq  10x Multiome  10x-Multiome-Pbmc10k-RNA   \n",
       "GTCTAACAGGGACTAA-1        scRNA-seq  10x Multiome  10x-Multiome-Pbmc10k-RNA   \n",
       "ACAGGATCACATAGCC-1        scRNA-seq  10x Multiome  10x-Multiome-Pbmc10k-RNA   \n",
       "CTCAATAAGCTATATG-1        scRNA-seq  10x Multiome  10x-Multiome-Pbmc10k-RNA   \n",
       "TCTTAGTTCCGGCTAA-1        scRNA-seq  10x Multiome  10x-Multiome-Pbmc10k-RNA   \n",
       "...                             ...           ...                       ...   \n",
       "GCCACTAAGTAAGGGC-s2d4     scRNA-seq      multiome               nips_paired   \n",
       "CCTTGTTCATTGTCCT-s2d4     scRNA-seq      multiome               nips_paired   \n",
       "CTTCTAAGTACAATGT-13-s4d1  scRNA-seq      multiome               nips_paired   \n",
       "ACTTTGTTCTCCATAT-3-s1d3   scRNA-seq      multiome               nips_paired   \n",
       "GAAGGAACATTTGCTC-10-s3d3  scRNA-seq      multiome               nips_paired   \n",
       "\n",
       "                                 cell_type  batch  \n",
       "cells                                              \n",
       "GGGTTACGTGCATTTC-1               CD4 Naive      1  \n",
       "GTCTAACAGGGACTAA-1               CD14 Mono      1  \n",
       "ACAGGATCACATAGCC-1               CD8 TEM_1      1  \n",
       "CTCAATAAGCTATATG-1               CD8 TEM_2      1  \n",
       "TCTTAGTTCCGGCTAA-1               CD4 Naive      1  \n",
       "...                                    ...    ...  \n",
       "GCCACTAAGTAAGGGC-s2d4         Erythroblast      2  \n",
       "CCTTGTTCATTGTCCT-s2d4           Lymph prog      2  \n",
       "CTTCTAAGTACAATGT-13-s4d1  CD4+ T activated      2  \n",
       "ACTTTGTTCTCCATAT-3-s1d3       CD4+ T naive      2  \n",
       "GAAGGAACATTTGCTC-10-s3d3   Proerythroblast      2  \n",
       "\n",
       "[4000 rows x 5 columns]"
      ]
     },
     "execution_count": 26,
     "metadata": {},
     "output_type": "execute_result"
    }
   ],
   "source": [
    "adata_rna.obs"
   ]
  },
  {
   "cell_type": "code",
   "execution_count": 17,
   "metadata": {},
   "outputs": [],
   "source": [
    "temp=ad.read_h5ad('/mnt/nas/user/yixuan/Multiomics-benchmark-main/data/download/seurat_10x/nips_10x/nips_10x_RNA.h5ad')"
   ]
  },
  {
   "cell_type": "code",
   "execution_count": 19,
   "metadata": {},
   "outputs": [
    {
     "data": {
      "text/plain": [
       "cells\n",
       "GGGTTACGTGCATTTC-1          1\n",
       "GTCTAACAGGGACTAA-1          1\n",
       "ACAGGATCACATAGCC-1          1\n",
       "CTCAATAAGCTATATG-1          1\n",
       "TCTTAGTTCCGGCTAA-1          1\n",
       "                           ..\n",
       "GCCACTAAGTAAGGGC-s2d4       1\n",
       "CCTTGTTCATTGTCCT-s2d4       1\n",
       "CTTCTAAGTACAATGT-13-s4d1    1\n",
       "ACTTTGTTCTCCATAT-3-s1d3     1\n",
       "GAAGGAACATTTGCTC-10-s3d3    1\n",
       "Name: cell_type, Length: 4000, dtype: int64"
      ]
     },
     "execution_count": 19,
     "metadata": {},
     "output_type": "execute_result"
    }
   ],
   "source": [
    "temp.obs['cell_type']"
   ]
  },
  {
   "cell_type": "code",
   "execution_count": null,
   "metadata": {},
   "outputs": [],
   "source": []
  }
 ],
 "metadata": {
  "kernelspec": {
   "display_name": "Python 3",
   "language": "python",
   "name": "python3"
  },
  "language_info": {
   "codemirror_mode": {
    "name": "ipython",
    "version": 3
   },
   "file_extension": ".py",
   "mimetype": "text/x-python",
   "name": "python",
   "nbconvert_exporter": "python",
   "pygments_lexer": "ipython3",
   "version": "3.8.13"
  },
  "orig_nbformat": 4
 },
 "nbformat": 4,
 "nbformat_minor": 2
}
