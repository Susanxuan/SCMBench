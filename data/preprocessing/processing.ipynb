{
 "cells": [
  {
   "cell_type": "markdown",
   "metadata": {},
   "source": [
    "# Preprocessing of the benchmarking datasets"
   ]
  },
  {
   "cell_type": "code",
   "execution_count": 1,
   "metadata": {},
   "outputs": [],
   "source": [
    "import anndata as ad\n",
    "import scanpy as sc\n",
    "import numpy as np\n",
    "import pandas as pd\n",
    "import os"
   ]
  },
  {
   "cell_type": "code",
   "execution_count": 2,
   "metadata": {},
   "outputs": [
    {
     "name": "stdout",
     "output_type": "stream",
     "text": [
      "/data2/yixuan/SCMBench/data\n"
     ]
    }
   ],
   "source": [
    "print(os.path.abspath(os.path.join(os.getcwd(), '..')))"
   ]
  },
  {
   "cell_type": "markdown",
   "metadata": {},
   "source": [
    "## Feature selection"
   ]
  },
  {
   "cell_type": "code",
   "execution_count": 3,
   "metadata": {},
   "outputs": [
    {
     "name": "stdout",
     "output_type": "stream",
     "text": [
      "10x-Multiome-Pbmc10k\n",
      "atac: AnnData object with n_obs × n_vars = 9631 × 107194\n",
      "    obs: 'domain', 'protocol', 'dataset', 'orig.ident', 'nCount_RNA', 'nFeature_RNA', 'percent.mt', 'nCount_ATAC', 'nFeature_ATAC', 'nCount_SCT', 'nFeature_SCT', 'SCT.weight', 'ATAC.weight', 'wsnn_res.0.8', 'seurat_clusters', 'sub.cluster', 'cell_type'\n",
      "    var: 'feature_types', 'genome', 'chrom', 'chromStart', 'chromEnd', 'n_counts'\n",
      "rna: AnnData object with n_obs × n_vars = 9631 × 29095\n",
      "    obs: 'domain', 'protocol', 'dataset', 'orig.ident', 'nCount_RNA', 'nFeature_RNA', 'percent.mt', 'nCount_ATAC', 'nFeature_ATAC', 'nCount_SCT', 'nFeature_SCT', 'SCT.weight', 'ATAC.weight', 'wsnn_res.0.8', 'seurat_clusters', 'sub.cluster', 'cell_type'\n",
      "    var: 'gene_ids', 'feature_types', 'genome', 'chrom', 'chromStart', 'chromEnd', 'name', 'score', 'strand', 'thickStart', 'thickEnd', 'itemRgb', 'blockCount', 'blockSizes', 'blockStarts', 'gene_type', 'gene_name', 'hgnc_id', 'havana_gene', 'tag', 'n_counts', 'highly_variable', 'highly_variable_rank', 'means', 'variances', 'variances_norm'\n",
      "    uns: 'hvg'\n",
      "Chen-2019\n",
      "atac: AnnData object with n_obs × n_vars = 9190 × 241757\n",
      "    obs: 'domain', 'protocol', 'dataset', 'cell_type'\n",
      "    var: 'chrom', 'chromStart', 'chromEnd', 'genome', 'n_counts'\n",
      "rna: AnnData object with n_obs × n_vars = 9190 × 28930\n",
      "    obs: 'domain', 'protocol', 'dataset', 'cell_type'\n",
      "    var: 'chrom', 'chromStart', 'chromEnd', 'name', 'score', 'strand', 'thickStart', 'thickEnd', 'itemRgb', 'blockCount', 'blockSizes', 'blockStarts', 'gene_id', 'gene_type', 'mgi_id', 'havana_gene', 'tag', 'genome', 'n_counts', 'highly_variable', 'highly_variable_rank', 'means', 'variances', 'variances_norm'\n",
      "    uns: 'hvg'\n",
      "Ma-2020\n",
      "atac: AnnData object with n_obs × n_vars = 32231 × 340341\n",
      "    obs: 'domain', 'protocol', 'dataset', 'cell_type', 'batch'\n",
      "    var: 'chrom', 'chromStart', 'chromEnd', 'genome', 'n_counts'\n",
      "rna: AnnData object with n_obs × n_vars = 32231 × 21478\n",
      "    obs: 'domain', 'protocol', 'dataset', 'cell_type', 'batch'\n",
      "    var: 'chrom', 'chromStart', 'chromEnd', 'name', 'score', 'strand', 'thickStart', 'thickEnd', 'itemRgb', 'blockCount', 'blockSizes', 'blockStarts', 'gene_id', 'gene_type', 'mgi_id', 'havana_gene', 'tag', 'genome', 'n_counts', 'highly_variable', 'highly_variable_rank', 'means', 'variances', 'variances_norm'\n",
      "    uns: 'hvg'\n",
      "Muto-2021\n",
      "atac: AnnData object with n_obs × n_vars = 24205 × 99019\n",
      "    obs: 'assay_ontology_term_id', 'development_stage_ontology_term_id', 'donor_uuid', 'ethnicity_ontology_term_id', 'library_uuid', 'organism_ontology_term_id', 'sample_preservation_method', 'sample_uuid', 'suspension_type', 'suspension_uuid', 'tissue_ontology_term_id', 'is_primary_data', 'author_cell_type', 'cell_type_category', 'cell_type_ontology_term_id', 'author_cluster', 'disease_ontology_term_id', 'reported_diseases', 'sex_ontology_term_id', 'nCount_RNA', 'nFeature_RNA', 'cell_type', 'assay', 'disease', 'organism', 'sex', 'tissue', 'ethnicity', 'development_stage', 'domain', 'protocol', 'dataset', 'batch'\n",
      "    var: 'chrom', 'chromStart', 'chromEnd', 'genome', 'n_counts'\n",
      "    uns: 'X_normalization', 'default_embedding', 'layer_descriptions', 'schema_version', 'title'\n",
      "    obsm: 'X_umap'\n",
      "rna: AnnData object with n_obs × n_vars = 19985 × 27146\n",
      "    obs: 'assay_ontology_term_id', 'development_stage_ontology_term_id', 'donor_uuid', 'ethnicity_ontology_term_id', 'library_uuid', 'mapped_reference_annotation', 'organism_ontology_term_id', 'sample_preservation_method', 'sample_uuid', 'suspension_type', 'suspension_uuid', 'tissue_ontology_term_id', 'is_primary_data', 'author_cell_type', 'cell_type_category', 'cell_type_ontology_term_id', 'author_cluster', 'disease_ontology_term_id', 'reported_diseases', 'sex_ontology_term_id', 'percent.mt', 'percent.rpl', 'percent.rps', 'nCount_SCT', 'nFeature_SCT', 'cell_type', 'assay', 'disease', 'organism', 'sex', 'tissue', 'ethnicity', 'development_stage', 'domain', 'protocol', 'dataset', 'batch'\n",
      "    var: 'gene_ids', 'feature_types', 'genome', 'chrom', 'chromStart', 'chromEnd', 'name', 'score', 'strand', 'thickStart', 'thickEnd', 'itemRgb', 'blockCount', 'blockSizes', 'blockStarts', 'gene_type', 'gene_name', 'hgnc_id', 'havana_gene', 'tag', 'n_counts', 'highly_variable', 'highly_variable_rank', 'means', 'variances', 'variances_norm', 'highly_variable_nbatches'\n",
      "    uns: 'X_normalization', 'default_embedding', 'hvg', 'layer_descriptions', 'schema_version', 'title'\n",
      "    obsm: 'X_umap'\n",
      "Yao-2021\n",
      "atac: AnnData object with n_obs × n_vars = 54844 × 148814\n",
      "    obs: 'sample', 'barcode', 'TN', 'UM', 'PP', 'UQ', 'CM', 'tsne_0', 'tsne_1', 'cluster', 'region', 'MajorCluster', 'SubCluster', 'domain', 'protocol', 'dataset', 'cell_type', 'batch'\n",
      "    var: 'chrom', 'chromStart', 'chromEnd', 'genome', 'n_counts'\n",
      "rna: AnnData object with n_obs × n_vars = 69727 × 27123\n",
      "    obs: 'x', 'cluster_label', 'subclass_label', 'class_label', 'cluster_color', 'size', 'aggr_num', 'umi.counts', 'gene.counts', 'library_id', 'tube_barcode', 'Seq_batch', 'Region', 'Lib_type', 'Gender', 'Donor', 'Amp_Name', 'Amp_Date', 'Amp_PCR_cyles', 'Lib_Name', 'Lib_Date', 'Replicate_Lib', 'Lib_PCR_cycles', 'Lib_PassFail', 'Cell_Capture', 'Lib_Cells', 'Mean_Reads_perCell', 'Median_Genes_perCell', 'Median_UMI_perCell', 'Saturation', 'Live_percent', 'Total_Cells', 'Live_Cells', 'method', 'exp_component_name', 'mapped_reads', 'unmapped_reads', 'nonconf_mapped_reads', 'total.reads', 'doublet.score', 'domain', 'protocol', 'dataset', 'cell_type'\n",
      "    var: 'gene_ids', 'feature_types', 'genome', 'chrom', 'chromStart', 'chromEnd', 'name', 'score', 'strand', 'thickStart', 'thickEnd', 'itemRgb', 'blockCount', 'blockSizes', 'blockStarts', 'gene_type', 'gene_name', 'mgi_id', 'havana_gene', 'tag', 'n_counts', 'highly_variable', 'highly_variable_rank', 'means', 'variances', 'variances_norm'\n",
      "    uns: 'hvg'\n"
     ]
    }
   ],
   "source": [
    "for data_name in ['10x-Multiome-Pbmc10k','Chen-2019','Ma-2020','Muto-2021','Yao-2021']:  \n",
    "    dir_path = os.path.abspath(os.path.join(os.getcwd(),'../download/'+data_name))  \n",
    "    atac=sc.read_h5ad(os.path.join(dir_path,data_name+'-ATAC.h5ad'))\n",
    "    rna=sc.read_h5ad(os.path.join(dir_path,data_name+'-RNA.h5ad'))\n",
    "    print(data_name)\n",
    "    print('atac:', atac)\n",
    "    print('rna:', rna)\n",
    "    sc.pp.highly_variable_genes(\n",
    "            atac,\n",
    "            flavor=\"seurat_v3\",\n",
    "            n_top_genes=80000,\n",
    "            subset=True,\n",
    "        )\n",
    "\n",
    "    sc.pp.highly_variable_genes(\n",
    "            rna,\n",
    "            flavor=\"seurat_v3\",\n",
    "            n_top_genes=8000,\n",
    "            subset=True,\n",
    "        )\n",
    "    atac.write_h5ad(os.path.join(dir_path,data_name+'-small-ATAC.h5ad'))\n",
    "    rna.write_h5ad(os.path.join(dir_path,data_name+'-small-RNA.h5ad'))"
   ]
  },
  {
   "cell_type": "markdown",
   "metadata": {},
   "source": [
    "## Batch split"
   ]
  },
  {
   "cell_type": "markdown",
   "metadata": {},
   "source": [
    "### Muto-2021"
   ]
  },
  {
   "cell_type": "code",
   "execution_count": 4,
   "metadata": {},
   "outputs": [
    {
     "name": "stdout",
     "output_type": "stream",
     "text": [
      "cells\n",
      "AAACCTGAGGGTCTCC-1    e0def004-9e30-4a3b-9a65-007110f3a1f2\n",
      "AAACCTGAGTGTTAGA-1    e0def004-9e30-4a3b-9a65-007110f3a1f2\n",
      "AAACCTGCAAGCGCTC-1    e0def004-9e30-4a3b-9a65-007110f3a1f2\n",
      "AAACCTGCACCAGATT-1    e0def004-9e30-4a3b-9a65-007110f3a1f2\n",
      "AAACCTGCAGTCAGAG-1    e0def004-9e30-4a3b-9a65-007110f3a1f2\n",
      "                                      ...                 \n",
      "TTTGTCAGTTAAGACA-5    8213a3f7-2437-4e8a-b836-caec33df901d\n",
      "TTTGTCAGTTCCGGCA-5    8213a3f7-2437-4e8a-b836-caec33df901d\n",
      "TTTGTCATCACAACGT-5    8213a3f7-2437-4e8a-b836-caec33df901d\n",
      "TTTGTCATCACGCGGT-5    8213a3f7-2437-4e8a-b836-caec33df901d\n",
      "TTTGTCATCCTGCTTG-5    8213a3f7-2437-4e8a-b836-caec33df901d\n",
      "Name: batch, Length: 19985, dtype: category\n",
      "Categories (5, object): ['8c570254-4bef-48d8-bd79-c812f60835a5', '5028f75a-8c09-4155-a232-ad7dbfa6042e', '8213a3f7-2437-4e8a-b836-caec33df901d', 'e0def004-9e30-4a3b-9a65-007110f3a1f2', 'f6c0f811-2fb8-4989-b796-37c14b055517']\n",
      "cells\n",
      "AAACGAAAGGTTGTTC-3    5028f75a-8c09-4155-a232-ad7dbfa6042e\n",
      "AAACGAACAAATTGAG-1    e0def004-9e30-4a3b-9a65-007110f3a1f2\n",
      "AAACGAACAGCTATAC-3    5028f75a-8c09-4155-a232-ad7dbfa6042e\n",
      "AAACGAAGTCCTTCAC-5    8213a3f7-2437-4e8a-b836-caec33df901d\n",
      "AAACGAAGTCTGGGAA-3    5028f75a-8c09-4155-a232-ad7dbfa6042e\n",
      "                                      ...                 \n",
      "TTCTAACAGTGTCACT-3    5028f75a-8c09-4155-a232-ad7dbfa6042e\n",
      "TTCTAACGTTCCTATT-5    8213a3f7-2437-4e8a-b836-caec33df901d\n",
      "TTGAGCACATTGTGAC-2    f6c0f811-2fb8-4989-b796-37c14b055517\n",
      "TTGCCCAAGACGACTG-2    f6c0f811-2fb8-4989-b796-37c14b055517\n",
      "TTGCGAAAGGAAGGTA-3    5028f75a-8c09-4155-a232-ad7dbfa6042e\n",
      "Name: batch, Length: 24205, dtype: category\n",
      "Categories (5, object): ['8c570254-4bef-48d8-bd79-c812f60835a5', '5028f75a-8c09-4155-a232-ad7dbfa6042e', '8213a3f7-2437-4e8a-b836-caec33df901d', 'e0def004-9e30-4a3b-9a65-007110f3a1f2', 'f6c0f811-2fb8-4989-b796-37c14b055517']\n"
     ]
    }
   ],
   "source": [
    "atac=sc.read_h5ad(os.path.abspath(os.path.join(os.getcwd(),'../download/Muto-2021/Muto-2021-ATAC.h5ad'))) \n",
    "rna=sc.read_h5ad(os.path.abspath(os.path.join(os.getcwd(),'../download/Muto-2021/Muto-2021-RNA.h5ad')))\n",
    "print(rna.obs['batch'])\n",
    "print(atac.obs['batch'])"
   ]
  },
  {
   "cell_type": "code",
   "execution_count": 5,
   "metadata": {},
   "outputs": [
    {
     "name": "stderr",
     "output_type": "stream",
     "text": [
      "/mnt/nas/user/yixuan/miniconda3/envs/py10_torch2/lib/python3.10/site-packages/scanpy/preprocessing/_highly_variable_genes.py:172: ImplicitModificationWarning: Trying to modify attribute `._uns` of view, initializing view as actual.\n",
      "  adata.uns[\"hvg\"] = {\"flavor\": flavor}\n",
      "/mnt/nas/user/yixuan/miniconda3/envs/py10_torch2/lib/python3.10/site-packages/scanpy/preprocessing/_highly_variable_genes.py:172: ImplicitModificationWarning: Trying to modify attribute `._uns` of view, initializing view as actual.\n",
      "  adata.uns[\"hvg\"] = {\"flavor\": flavor}\n",
      "/mnt/nas/user/yixuan/miniconda3/envs/py10_torch2/lib/python3.10/site-packages/scanpy/preprocessing/_highly_variable_genes.py:172: ImplicitModificationWarning: Trying to modify attribute `._uns` of view, initializing view as actual.\n",
      "  adata.uns[\"hvg\"] = {\"flavor\": flavor}\n",
      "/mnt/nas/user/yixuan/miniconda3/envs/py10_torch2/lib/python3.10/site-packages/scanpy/preprocessing/_highly_variable_genes.py:172: ImplicitModificationWarning: Trying to modify attribute `._uns` of view, initializing view as actual.\n",
      "  adata.uns[\"hvg\"] = {\"flavor\": flavor}\n",
      "/mnt/nas/user/yixuan/miniconda3/envs/py10_torch2/lib/python3.10/site-packages/scanpy/preprocessing/_highly_variable_genes.py:172: ImplicitModificationWarning: Trying to modify attribute `._uns` of view, initializing view as actual.\n",
      "  adata.uns[\"hvg\"] = {\"flavor\": flavor}\n",
      "/mnt/nas/user/yixuan/miniconda3/envs/py10_torch2/lib/python3.10/site-packages/scanpy/preprocessing/_highly_variable_genes.py:172: ImplicitModificationWarning: Trying to modify attribute `._uns` of view, initializing view as actual.\n",
      "  adata.uns[\"hvg\"] = {\"flavor\": flavor}\n",
      "/mnt/nas/user/yixuan/miniconda3/envs/py10_torch2/lib/python3.10/site-packages/scanpy/preprocessing/_highly_variable_genes.py:172: ImplicitModificationWarning: Trying to modify attribute `._uns` of view, initializing view as actual.\n",
      "  adata.uns[\"hvg\"] = {\"flavor\": flavor}\n",
      "/mnt/nas/user/yixuan/miniconda3/envs/py10_torch2/lib/python3.10/site-packages/scanpy/preprocessing/_highly_variable_genes.py:172: ImplicitModificationWarning: Trying to modify attribute `._uns` of view, initializing view as actual.\n",
      "  adata.uns[\"hvg\"] = {\"flavor\": flavor}\n",
      "/mnt/nas/user/yixuan/miniconda3/envs/py10_torch2/lib/python3.10/site-packages/scanpy/preprocessing/_highly_variable_genes.py:172: ImplicitModificationWarning: Trying to modify attribute `._uns` of view, initializing view as actual.\n",
      "  adata.uns[\"hvg\"] = {\"flavor\": flavor}\n",
      "/mnt/nas/user/yixuan/miniconda3/envs/py10_torch2/lib/python3.10/site-packages/scanpy/preprocessing/_highly_variable_genes.py:172: ImplicitModificationWarning: Trying to modify attribute `._uns` of view, initializing view as actual.\n",
      "  adata.uns[\"hvg\"] = {\"flavor\": flavor}\n"
     ]
    }
   ],
   "source": [
    "dic={'8c570254-4bef-48d8-bd79-c812f60835a5':'1', '5028f75a-8c09-4155-a232-ad7dbfa6042e':'2', '8213a3f7-2437-4e8a-b836-caec33df901d':'3', 'e0def004-9e30-4a3b-9a65-007110f3a1f2':'4', 'f6c0f811-2fb8-4989-b796-37c14b055517':'5'}\n",
    "for batch in ['8c570254-4bef-48d8-bd79-c812f60835a5', '5028f75a-8c09-4155-a232-ad7dbfa6042e', '8213a3f7-2437-4e8a-b836-caec33df901d', 'e0def004-9e30-4a3b-9a65-007110f3a1f2', 'f6c0f811-2fb8-4989-b796-37c14b055517']:\n",
    "    temp_rna=rna[rna.obs['batch']==batch]\n",
    "    temp_atac=atac[atac.obs['batch']==batch]\n",
    "    sc.pp.highly_variable_genes(\n",
    "        temp_atac,\n",
    "        flavor=\"seurat_v3\",\n",
    "        n_top_genes=80000,\n",
    "        subset=True,\n",
    "    )\n",
    "    sc.pp.highly_variable_genes(\n",
    "            temp_rna,\n",
    "            flavor=\"seurat_v3\",\n",
    "            n_top_genes=8000,\n",
    "            subset=True,\n",
    "        )\n",
    "\n",
    "    temp_atac.write_h5ad(os.path.abspath(os.path.join(os.getcwd(),'../download/Muto-2021/Muto-2021-batch-'+dic[batch]+'-small-ATAC.h5ad')))\n",
    "    temp_rna.write_h5ad(os.path.abspath(os.path.join(os.getcwd(),'../download/Muto-2021/Muto-2021-batch-'+dic[batch]+'-small-RNA.h5ad')))\n"
   ]
  },
  {
   "cell_type": "code",
   "execution_count": 6,
   "metadata": {},
   "outputs": [
    {
     "name": "stdout",
     "output_type": "stream",
     "text": [
      "(3683, 37)\n",
      "(4805, 33)\n",
      "(5464, 37)\n",
      "(6658, 33)\n",
      "(3804, 37)\n",
      "(5493, 33)\n",
      "(4114, 37)\n",
      "(3677, 33)\n",
      "(2920, 37)\n",
      "(3572, 33)\n",
      "10000 12500\n"
     ]
    }
   ],
   "source": [
    "import random\n",
    "selected_rna=[]\n",
    "selected_atac=[]\n",
    "for batch in ['8c570254-4bef-48d8-bd79-c812f60835a5', '5028f75a-8c09-4155-a232-ad7dbfa6042e', '8213a3f7-2437-4e8a-b836-caec33df901d', 'e0def004-9e30-4a3b-9a65-007110f3a1f2', 'f6c0f811-2fb8-4989-b796-37c14b055517']:\n",
    "    batch_list=rna[rna.obs['batch']==batch].obs.index.tolist()\n",
    "    selected_rna.extend(random.sample(batch_list, 2000))\n",
    "    print(rna[rna.obs['batch']==batch].obs.shape)\n",
    "    batch_list=atac[atac.obs['batch']==batch].obs.index.tolist()\n",
    "    selected_atac.extend(random.sample(batch_list, 2500))\n",
    "    print(atac[atac.obs['batch']==batch].obs.shape)\n",
    "print(len(selected_rna),len(selected_atac))"
   ]
  },
  {
   "cell_type": "code",
   "execution_count": 7,
   "metadata": {},
   "outputs": [
    {
     "name": "stdout",
     "output_type": "stream",
     "text": [
      "View of AnnData object with n_obs × n_vars = 12500 × 99019\n",
      "    obs: 'assay_ontology_term_id', 'development_stage_ontology_term_id', 'donor_uuid', 'ethnicity_ontology_term_id', 'library_uuid', 'organism_ontology_term_id', 'sample_preservation_method', 'sample_uuid', 'suspension_type', 'suspension_uuid', 'tissue_ontology_term_id', 'is_primary_data', 'author_cell_type', 'cell_type_category', 'cell_type_ontology_term_id', 'author_cluster', 'disease_ontology_term_id', 'reported_diseases', 'sex_ontology_term_id', 'nCount_RNA', 'nFeature_RNA', 'cell_type', 'assay', 'disease', 'organism', 'sex', 'tissue', 'ethnicity', 'development_stage', 'domain', 'protocol', 'dataset', 'batch'\n",
      "    var: 'chrom', 'chromStart', 'chromEnd', 'genome', 'n_counts'\n",
      "    uns: 'X_normalization', 'default_embedding', 'layer_descriptions', 'schema_version', 'title'\n",
      "    obsm: 'X_umap'\n",
      "View of AnnData object with n_obs × n_vars = 10000 × 27146\n",
      "    obs: 'assay_ontology_term_id', 'development_stage_ontology_term_id', 'donor_uuid', 'ethnicity_ontology_term_id', 'library_uuid', 'mapped_reference_annotation', 'organism_ontology_term_id', 'sample_preservation_method', 'sample_uuid', 'suspension_type', 'suspension_uuid', 'tissue_ontology_term_id', 'is_primary_data', 'author_cell_type', 'cell_type_category', 'cell_type_ontology_term_id', 'author_cluster', 'disease_ontology_term_id', 'reported_diseases', 'sex_ontology_term_id', 'percent.mt', 'percent.rpl', 'percent.rps', 'nCount_SCT', 'nFeature_SCT', 'cell_type', 'assay', 'disease', 'organism', 'sex', 'tissue', 'ethnicity', 'development_stage', 'domain', 'protocol', 'dataset', 'batch'\n",
      "    var: 'gene_ids', 'feature_types', 'genome', 'chrom', 'chromStart', 'chromEnd', 'name', 'score', 'strand', 'thickStart', 'thickEnd', 'itemRgb', 'blockCount', 'blockSizes', 'blockStarts', 'gene_type', 'gene_name', 'hgnc_id', 'havana_gene', 'tag', 'n_counts', 'highly_variable', 'highly_variable_rank', 'means', 'variances', 'variances_norm', 'highly_variable_nbatches'\n",
      "    uns: 'X_normalization', 'default_embedding', 'hvg', 'layer_descriptions', 'schema_version', 'title'\n",
      "    obsm: 'X_umap'\n"
     ]
    }
   ],
   "source": [
    "atac_small=atac[atac.obs.index.isin(selected_atac)]\n",
    "rna_small=rna[rna.obs.index.isin(selected_rna)]\n",
    "print(atac_small)\n",
    "print(rna_small)"
   ]
  },
  {
   "cell_type": "code",
   "execution_count": 8,
   "metadata": {},
   "outputs": [
    {
     "name": "stderr",
     "output_type": "stream",
     "text": [
      "/mnt/nas/user/yixuan/miniconda3/envs/py10_torch2/lib/python3.10/site-packages/scanpy/preprocessing/_highly_variable_genes.py:172: ImplicitModificationWarning: Trying to modify attribute `._uns` of view, initializing view as actual.\n",
      "  adata.uns[\"hvg\"] = {\"flavor\": flavor}\n",
      "/mnt/nas/user/yixuan/miniconda3/envs/py10_torch2/lib/python3.10/site-packages/scanpy/preprocessing/_highly_variable_genes.py:172: ImplicitModificationWarning: Trying to modify attribute `._uns` of view, initializing view as actual.\n",
      "  adata.uns[\"hvg\"] = {\"flavor\": flavor}\n"
     ]
    },
    {
     "name": "stdout",
     "output_type": "stream",
     "text": [
      "AnnData object with n_obs × n_vars = 12500 × 80000\n",
      "    obs: 'assay_ontology_term_id', 'development_stage_ontology_term_id', 'donor_uuid', 'ethnicity_ontology_term_id', 'library_uuid', 'organism_ontology_term_id', 'sample_preservation_method', 'sample_uuid', 'suspension_type', 'suspension_uuid', 'tissue_ontology_term_id', 'is_primary_data', 'author_cell_type', 'cell_type_category', 'cell_type_ontology_term_id', 'author_cluster', 'disease_ontology_term_id', 'reported_diseases', 'sex_ontology_term_id', 'nCount_RNA', 'nFeature_RNA', 'cell_type', 'assay', 'disease', 'organism', 'sex', 'tissue', 'ethnicity', 'development_stage', 'domain', 'protocol', 'dataset', 'batch'\n",
      "    var: 'chrom', 'chromStart', 'chromEnd', 'genome', 'n_counts', 'highly_variable', 'highly_variable_rank', 'means', 'variances', 'variances_norm'\n",
      "    uns: 'X_normalization', 'default_embedding', 'layer_descriptions', 'schema_version', 'title', 'hvg'\n",
      "    obsm: 'X_umap' AnnData object with n_obs × n_vars = 10000 × 8000\n",
      "    obs: 'assay_ontology_term_id', 'development_stage_ontology_term_id', 'donor_uuid', 'ethnicity_ontology_term_id', 'library_uuid', 'mapped_reference_annotation', 'organism_ontology_term_id', 'sample_preservation_method', 'sample_uuid', 'suspension_type', 'suspension_uuid', 'tissue_ontology_term_id', 'is_primary_data', 'author_cell_type', 'cell_type_category', 'cell_type_ontology_term_id', 'author_cluster', 'disease_ontology_term_id', 'reported_diseases', 'sex_ontology_term_id', 'percent.mt', 'percent.rpl', 'percent.rps', 'nCount_SCT', 'nFeature_SCT', 'cell_type', 'assay', 'disease', 'organism', 'sex', 'tissue', 'ethnicity', 'development_stage', 'domain', 'protocol', 'dataset', 'batch'\n",
      "    var: 'gene_ids', 'feature_types', 'genome', 'chrom', 'chromStart', 'chromEnd', 'name', 'score', 'strand', 'thickStart', 'thickEnd', 'itemRgb', 'blockCount', 'blockSizes', 'blockStarts', 'gene_type', 'gene_name', 'hgnc_id', 'havana_gene', 'tag', 'n_counts', 'highly_variable', 'highly_variable_rank', 'means', 'variances', 'variances_norm', 'highly_variable_nbatches'\n",
      "    uns: 'X_normalization', 'default_embedding', 'hvg', 'layer_descriptions', 'schema_version', 'title'\n",
      "    obsm: 'X_umap'\n"
     ]
    }
   ],
   "source": [
    "\n",
    "sc.pp.highly_variable_genes(\n",
    "        rna_small,\n",
    "        flavor=\"seurat_v3\",\n",
    "        n_top_genes=8000,\n",
    "        subset=True,\n",
    "    )\n",
    "sc.pp.highly_variable_genes(\n",
    "        atac_small,\n",
    "        flavor=\"seurat_v3\",\n",
    "        n_top_genes=80000,\n",
    "        subset=True,\n",
    "        span=0.9\n",
    "    )\n",
    "print(atac_small,rna_small)\n",
    "atac_small.write_h5ad(os.path.abspath(os.path.join(os.getcwd(),'../download/Muto-2021/Muto-2021-sampled-small-ATAC.h5ad')))\n",
    "rna_small.write_h5ad(os.path.abspath(os.path.join(os.getcwd(),'../download/Muto-2021/Muto-2021-sampled-small-RNA.h5ad')))"
   ]
  },
  {
   "cell_type": "markdown",
   "metadata": {},
   "source": [
    "### Ma-2020"
   ]
  },
  {
   "cell_type": "code",
   "execution_count": 9,
   "metadata": {},
   "outputs": [
    {
     "name": "stdout",
     "output_type": "stream",
     "text": [
      "cells\n",
      "R1.01.R2.01.R3.06.P1.55    55\n",
      "R1.01.R2.03.R3.68.P1.55    55\n",
      "R1.01.R2.05.R3.15.P1.53    53\n",
      "R1.01.R2.05.R3.40.P1.55    55\n",
      "R1.01.R2.05.R3.49.P1.55    55\n",
      "                           ..\n",
      "R1.92.R2.79.R3.05.P1.56    56\n",
      "R1.93.R2.20.R3.18.P1.53    53\n",
      "R1.93.R2.80.R3.62.P1.55    55\n",
      "R1.93.R2.91.R3.82.P1.56    56\n",
      "R1.94.R2.75.R3.40.P1.55    55\n",
      "Name: batch, Length: 32231, dtype: category\n",
      "Categories (4, object): ['53', '54', '55', '56']\n",
      "cells\n",
      "R1.01.R2.01.R3.06.P1.55    55\n",
      "R1.01.R2.03.R3.68.P1.55    55\n",
      "R1.01.R2.05.R3.15.P1.53    53\n",
      "R1.01.R2.05.R3.40.P1.55    55\n",
      "R1.01.R2.05.R3.49.P1.55    55\n",
      "                           ..\n",
      "R1.92.R2.79.R3.05.P1.56    56\n",
      "R1.93.R2.20.R3.18.P1.53    53\n",
      "R1.93.R2.80.R3.62.P1.55    55\n",
      "R1.93.R2.91.R3.82.P1.56    56\n",
      "R1.94.R2.75.R3.40.P1.55    55\n",
      "Name: batch, Length: 32231, dtype: category\n",
      "Categories (4, object): ['53', '54', '55', '56']\n"
     ]
    }
   ],
   "source": [
    "atac=sc.read_h5ad(os.path.abspath(os.path.join(os.getcwd(),'../download/Ma-2020/Ma-2020-ATAC.h5ad')))\n",
    "rna=sc.read_h5ad(os.path.abspath(os.path.join(os.getcwd(),'../download/Ma-2020/Ma-2020-RNA.h5ad')))\n",
    "print(rna.obs['batch'])\n",
    "print(atac.obs['batch'])"
   ]
  },
  {
   "cell_type": "code",
   "execution_count": 10,
   "metadata": {},
   "outputs": [
    {
     "name": "stderr",
     "output_type": "stream",
     "text": [
      "/mnt/nas/user/yixuan/miniconda3/envs/py10_torch2/lib/python3.10/site-packages/scanpy/preprocessing/_highly_variable_genes.py:172: ImplicitModificationWarning: Trying to modify attribute `._uns` of view, initializing view as actual.\n",
      "  adata.uns[\"hvg\"] = {\"flavor\": flavor}\n",
      "/mnt/nas/user/yixuan/miniconda3/envs/py10_torch2/lib/python3.10/site-packages/scanpy/preprocessing/_highly_variable_genes.py:172: ImplicitModificationWarning: Trying to modify attribute `._uns` of view, initializing view as actual.\n",
      "  adata.uns[\"hvg\"] = {\"flavor\": flavor}\n",
      "/mnt/nas/user/yixuan/miniconda3/envs/py10_torch2/lib/python3.10/site-packages/scanpy/preprocessing/_highly_variable_genes.py:172: ImplicitModificationWarning: Trying to modify attribute `._uns` of view, initializing view as actual.\n",
      "  adata.uns[\"hvg\"] = {\"flavor\": flavor}\n",
      "/mnt/nas/user/yixuan/miniconda3/envs/py10_torch2/lib/python3.10/site-packages/scanpy/preprocessing/_highly_variable_genes.py:172: ImplicitModificationWarning: Trying to modify attribute `._uns` of view, initializing view as actual.\n",
      "  adata.uns[\"hvg\"] = {\"flavor\": flavor}\n",
      "/mnt/nas/user/yixuan/miniconda3/envs/py10_torch2/lib/python3.10/site-packages/scanpy/preprocessing/_highly_variable_genes.py:172: ImplicitModificationWarning: Trying to modify attribute `._uns` of view, initializing view as actual.\n",
      "  adata.uns[\"hvg\"] = {\"flavor\": flavor}\n",
      "/mnt/nas/user/yixuan/miniconda3/envs/py10_torch2/lib/python3.10/site-packages/scanpy/preprocessing/_highly_variable_genes.py:172: ImplicitModificationWarning: Trying to modify attribute `._uns` of view, initializing view as actual.\n",
      "  adata.uns[\"hvg\"] = {\"flavor\": flavor}\n",
      "/mnt/nas/user/yixuan/miniconda3/envs/py10_torch2/lib/python3.10/site-packages/scanpy/preprocessing/_highly_variable_genes.py:172: ImplicitModificationWarning: Trying to modify attribute `._uns` of view, initializing view as actual.\n",
      "  adata.uns[\"hvg\"] = {\"flavor\": flavor}\n",
      "/mnt/nas/user/yixuan/miniconda3/envs/py10_torch2/lib/python3.10/site-packages/scanpy/preprocessing/_highly_variable_genes.py:172: ImplicitModificationWarning: Trying to modify attribute `._uns` of view, initializing view as actual.\n",
      "  adata.uns[\"hvg\"] = {\"flavor\": flavor}\n"
     ]
    }
   ],
   "source": [
    "for batch in ['53','54','55','56']:\n",
    "    temp_rna=rna[rna.obs['batch']==batch]\n",
    "    temp_atac=atac[atac.obs['batch']==batch]\n",
    "    sc.pp.highly_variable_genes(\n",
    "        temp_atac,\n",
    "        flavor=\"seurat_v3\",\n",
    "        n_top_genes=80000,\n",
    "        subset=True,\n",
    "    )\n",
    "    sc.pp.highly_variable_genes(\n",
    "            temp_rna,\n",
    "            flavor=\"seurat_v3\",\n",
    "            n_top_genes=8000,\n",
    "            subset=True,\n",
    "        )\n",
    "\n",
    "    temp_atac.write_h5ad(os.path.abspath(os.path.join(os.getcwd(),'../download/Ma-2020/Ma-2020-batch-'+batch+'-small-ATAC.h5ad')))\n",
    "    temp_rna.write_h5ad(os.path.abspath(os.path.join(os.getcwd(),'../download/Ma-2020/Ma-2020-batch-'+batch+'-small-RNA.h5ad')))\n"
   ]
  },
  {
   "cell_type": "code",
   "execution_count": 11,
   "metadata": {},
   "outputs": [
    {
     "name": "stdout",
     "output_type": "stream",
     "text": [
      "(5692, 5)\n",
      "(5692, 5)\n",
      "(10709, 5)\n",
      "(10709, 5)\n",
      "(9903, 5)\n",
      "(9903, 5)\n",
      "(5927, 5)\n",
      "(5927, 5)\n",
      "8000 10000\n"
     ]
    }
   ],
   "source": [
    "import random\n",
    "selected_rna=[]\n",
    "selected_atac=[]\n",
    "for batch in ['53','54','55','56']:\n",
    "    batch_list=rna[rna.obs['batch']==batch].obs.index.tolist()\n",
    "    selected_rna.extend(random.sample(batch_list, 2000))\n",
    "    print(rna[rna.obs['batch']==batch].obs.shape)\n",
    "    batch_list=atac[atac.obs['batch']==batch].obs.index.tolist()\n",
    "    selected_atac.extend(random.sample(batch_list, 2500))\n",
    "    print(atac[atac.obs['batch']==batch].obs.shape)\n",
    "print(len(selected_rna),len(selected_atac))"
   ]
  },
  {
   "cell_type": "code",
   "execution_count": 12,
   "metadata": {},
   "outputs": [
    {
     "name": "stdout",
     "output_type": "stream",
     "text": [
      "View of AnnData object with n_obs × n_vars = 10000 × 340341\n",
      "    obs: 'domain', 'protocol', 'dataset', 'cell_type', 'batch'\n",
      "    var: 'chrom', 'chromStart', 'chromEnd', 'genome', 'n_counts'\n",
      "View of AnnData object with n_obs × n_vars = 8000 × 21478\n",
      "    obs: 'domain', 'protocol', 'dataset', 'cell_type', 'batch'\n",
      "    var: 'chrom', 'chromStart', 'chromEnd', 'name', 'score', 'strand', 'thickStart', 'thickEnd', 'itemRgb', 'blockCount', 'blockSizes', 'blockStarts', 'gene_id', 'gene_type', 'mgi_id', 'havana_gene', 'tag', 'genome', 'n_counts', 'highly_variable', 'highly_variable_rank', 'means', 'variances', 'variances_norm'\n",
      "    uns: 'hvg'\n"
     ]
    }
   ],
   "source": [
    "atac_small=atac[atac.obs.index.isin(selected_atac)]\n",
    "rna_small=rna[rna.obs.index.isin(selected_rna)]\n",
    "print(atac_small)\n",
    "print(rna_small)"
   ]
  },
  {
   "cell_type": "code",
   "execution_count": 13,
   "metadata": {},
   "outputs": [
    {
     "name": "stderr",
     "output_type": "stream",
     "text": [
      "/mnt/nas/user/yixuan/miniconda3/envs/py10_torch2/lib/python3.10/site-packages/scanpy/preprocessing/_highly_variable_genes.py:172: ImplicitModificationWarning: Trying to modify attribute `._uns` of view, initializing view as actual.\n",
      "  adata.uns[\"hvg\"] = {\"flavor\": flavor}\n",
      "/mnt/nas/user/yixuan/miniconda3/envs/py10_torch2/lib/python3.10/site-packages/scanpy/preprocessing/_highly_variable_genes.py:172: ImplicitModificationWarning: Trying to modify attribute `._uns` of view, initializing view as actual.\n",
      "  adata.uns[\"hvg\"] = {\"flavor\": flavor}\n"
     ]
    },
    {
     "name": "stdout",
     "output_type": "stream",
     "text": [
      "AnnData object with n_obs × n_vars = 10000 × 80000\n",
      "    obs: 'domain', 'protocol', 'dataset', 'cell_type', 'batch'\n",
      "    var: 'chrom', 'chromStart', 'chromEnd', 'genome', 'n_counts', 'highly_variable', 'highly_variable_rank', 'means', 'variances', 'variances_norm'\n",
      "    uns: 'hvg' AnnData object with n_obs × n_vars = 8000 × 8000\n",
      "    obs: 'domain', 'protocol', 'dataset', 'cell_type', 'batch'\n",
      "    var: 'chrom', 'chromStart', 'chromEnd', 'name', 'score', 'strand', 'thickStart', 'thickEnd', 'itemRgb', 'blockCount', 'blockSizes', 'blockStarts', 'gene_id', 'gene_type', 'mgi_id', 'havana_gene', 'tag', 'genome', 'n_counts', 'highly_variable', 'highly_variable_rank', 'means', 'variances', 'variances_norm'\n",
      "    uns: 'hvg'\n"
     ]
    }
   ],
   "source": [
    "sc.pp.highly_variable_genes(\n",
    "        rna_small,\n",
    "        flavor=\"seurat_v3\",\n",
    "        n_top_genes=8000,\n",
    "        subset=True,\n",
    "    )\n",
    "sc.pp.highly_variable_genes(\n",
    "        atac_small,\n",
    "        flavor=\"seurat_v3\",\n",
    "        n_top_genes=80000,\n",
    "        subset=True,\n",
    "        span=0.9\n",
    "    )\n",
    "print(atac_small,rna_small)\n",
    "atac_small.write_h5ad(os.path.abspath(os.path.join(os.getcwd(),'../download/Ma-2020/Ma-2020-sampled-small-ATAC.h5ad')))\n",
    "rna_small.write_h5ad(os.path.abspath(os.path.join(os.getcwd(),'../download/Ma-2020/Ma-2020-sampled-small-RNA.h5ad')))\n"
   ]
  }
 ],
 "metadata": {
  "kernelspec": {
   "display_name": "Python 3",
   "language": "python",
   "name": "python3"
  },
  "language_info": {
   "codemirror_mode": {
    "name": "ipython",
    "version": 3
   },
   "file_extension": ".py",
   "mimetype": "text/x-python",
   "name": "python",
   "nbconvert_exporter": "python",
   "pygments_lexer": "ipython3",
   "version": "3.10.13"
  },
  "orig_nbformat": 4
 },
 "nbformat": 4,
 "nbformat_minor": 2
}
