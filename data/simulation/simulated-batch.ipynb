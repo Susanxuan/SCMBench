{
 "cells": [
  {
   "cell_type": "code",
   "execution_count": 2,
   "metadata": {
    "vscode": {
     "languageId": "r"
    }
   },
   "outputs": [],
   "source": [
    "library(\"scMultiSim\")\n",
    "library(anndata)\n",
    "library(ape)"
   ]
  },
  {
   "attachments": {},
   "cell_type": "markdown",
   "metadata": {},
   "source": [
    "https://zhanglabgt.github.io/scMultiSim/doc/basics.html"
   ]
  },
  {
   "cell_type": "code",
   "execution_count": 3,

   "metadata": {
    "vscode": {
     "languageId": "r"
    }
   },
   "outputs": [
    {
     "data": {
      "text/plain": [
       "\n",
       "Phylogenetic tree with 10 tips and 9 internal nodes.\n",
       "\n",
       "Tip labels:\n",
       "  1, 2, 3, 4, 5, 6, ...\n",
       "\n",
       "Rooted; includes branch lengths."
      ]
     },
     "metadata": {},
     "output_type": "display_data"
    },
    {
     "data": {
      "image/png": "[encoded data removed]",
      "text/plain": [
       "plot without title"
      ]
     },
     "metadata": {
      "image/png": {
       "height": 420,
       "width": 420
      }
     },
     "output_type": "display_data"
    }
   ],
   "source": [
    "#' Phyla10()\n",
    "Phyla10 <- function(plotting = FALSE) {\n",
    "  phyla <- rtree(2)\n",
    "  phyla <- compute.brlen(phyla, 1)\n",
    "  tip <- compute.brlen(phyla, 1)\n",
    "  phyla <- bind.tree(phyla, tip, 1)\n",
    "  phyla <- bind.tree(phyla, tip, 2)\n",
    "  phyla <- bind.tree(phyla, tip, 2)\n",
    "  phyla <- bind.tree(phyla, tip, 2)\n",
    "  phyla <- bind.tree(phyla, tip, 2)\n",
    "  phyla <- bind.tree(phyla, tip, 2)\n",
    "  phyla <- bind.tree(phyla, tip, 2)\n",
    "    phyla <- bind.tree(phyla, tip, 2)\n",
    "  phyla <- compute.brlen(phyla, c(rep(1, 7), 0.2, 3))\n",
    "  edges <- cbind(phyla$edge, phyla$edge.length)\n",
    "  edges <- cbind(seq_along(edges[, 1]), edges)\n",
    "  connections <- table(c(edges[, 2], edges[, 3]))\n",
    "  root <- as.numeric(names(connections)[connections == 2])\n",
    "  tips <- as.numeric(names(connections)[connections == 1])\n",
    "  phyla$tip.label <- as.character(tips)\n",
    "  if (plotting == TRUE) {\n",
    "    plot(phyla, show.tip.label = FALSE, lwd = 2)\n",
    "    tiplabels(cex = 2)\n",
    "    nodelabels(cex = 2)\n",
    "  }\n",
    "  return(phyla)\n",
    "}\n",
    "\n",
    "Phyla10(plotting = TRUE)"
   ]
  },
  {
   "cell_type": "code",
   "execution_count": 4,
   "metadata": {
    "vscode": {
     "languageId": "r"
    }
   },
   "outputs": [],
   "source": [
    "save_h5ad_wBatches <- function(results, path, rna_file, atac_file) {\n",
    "  # Create an AnnData object for RNA data\n",
    "  rna_data <- AnnData(X = t(results$counts_with_batches))\n",
    "  rna_data$obs_names <- results$cell_meta$cell_id\n",
    "  #rna_data$var_names <- NULL\n",
    "  rna_data$obs[['cell_type']] <- results$cell_meta$pop\n",
    "  rna_data$obs[['batch']] <- results$cell_meta$batch\n",
    "  rna_data$obs[['domain']] <- \"scRNA-seq\"\n",
    "  rna_data$obs[['protocol']] <- \"Simulated RNA\"\n",
    "  rna_data$obs[\"dataset\"] = rna_file\n",
    "  \n",
    "  # Create an AnnData object for ATAC data\n",
    "  atac_data <- AnnData(X = t(results$atac_with_batches))\n",
    "  atac_data$obs_names <- results$cell_meta$cell_id\n",
    "  #atac_data$var_names <- NULL\n",
    "  atac_data$obs[['cell_type']] <- results$cell_meta$pop\n",
    "  atac_data$obs[['batch']] <- results$cell_meta$batch\n",
    "  atac_data$obs[['domain']] <- \"scATAC-seq\"\n",
    "  atac_data$obs[['protocol']] <- \"Simulated ATAC\"\n",
    "  atac_data$obs[\"dataset\"] = atac_file\n",
    "\n",
    "  # Save RNA data to .h5ad file\n",
    "  write_h5ad(rna_data, filename = paste0(path, rna_file))\n",
    "\n",
    "  # Save ATAC data to .h5ad file\n",
    "  write_h5ad(atac_data, filename = paste0(path, atac_file))\n",
    "}\n"
   ]
  },
  {
   "cell_type": "code",
   "execution_count": 80,
   "metadata": {
    "vscode": {
     "languageId": "r"
    }
   },
   "outputs": [],
   "source": [
    "path <- \"../datasets/\"\n",
    "trees <- list(Phyla3(), Phyla5(), Phyla10())\n",
    "num_cells <- c(4000, 10000, 20000) # number of cells are the sum of RNA+ATAC\n",
    "num_batches <- c(2, 3, 5)\n",
    "num_genes <- c(1000, 2000, 3000)"
   ]
  },
  {
   "cell_type": "code",
   "execution_count": null,
   "metadata": {
    "vscode": {
     "languageId": "r"
    }
   },
   "outputs": [],
   "source": [
    "options_list <- list()\n",
    "\n",
    "# Loop through combinations\n",
    "for (tree in trees) {\n",
    "  for (num_cell in num_cells) {\n",
    "    for (num_batch in num_batches) {\n",
    "      for (num_gene in num_genes) {\n",
    "        options <- list(\n",
    "          rand.seed = 0,\n",
    "          GRN = NA,\n",
    "          num.genes = num_gene,\n",
    "          num.cells = num_cell,\n",
    "          num.cifs = 50,\n",
    "          cif.sigma = 0.5,\n",
    "          tree = tree,\n",
    "          discrete.cif = TRUE,\n",
    "          diff.cif.fraction = 0.8,\n",
    "          do.velocity = FALSE\n",
    "        )\n",
    "        \n",
    "        generated_data <- sim_true_counts(options)\n",
    "        add_expr_noise(generated_data)\n",
    "        divide_batches(generated_data, nbatch = num_batch)\n",
    "        rna_name <- paste0(\"simulated_num_cell_\", num_cell/2, \"_num_batch_\", num_batch, \"_num_gene_\", num_gene, \"-RNA.h5ad\")\n",
    "        atac_name <- paste0(\"simulated_num_cell_\", num_cell/2, \"_num_batch_\", num_batch, \"_num_gene_\", num_gene, \"-ATAC.h5ad\")\n",
    "        save_h5ad_wBatches(generated_data, path, rna_name, atac_name)\n",
    "      }\n",
    "    }\n",
    "  }\n",
    "}\n",
    "\n"
   ]
  },
  {
   "cell_type": "code",
   "execution_count": 10,
   "metadata": {
    "vscode": {
     "languageId": "r"
    }
   },
   "outputs": [
    {
     "data": {
      "text/html": [
       "<style>\n",
       ".list-inline {list-style: none; margin:0; padding: 0}\n",
       ".list-inline>li {display: inline-block}\n",
       ".list-inline>li:not(:last-child)::after {content: \"\\00b7\"; padding: 0 .5ex}\n",
       "</style>\n",
       "<ol class=list-inline><li>'.grn'</li><li>'.options'</li><li>'.n'</li><li>'region_to_gene'</li><li>'atacseq_data'</li><li>'giv'</li><li>'kinetic_params'</li><li>'counts_obs'</li><li>'num_genes'</li><li>'atacseq_obs'</li><li>'cif'</li><li>'counts_with_batches'</li><li>'hge_scale'</li><li>'counts'</li><li>'cell_meta'</li><li>'atac_counts'</li><li>'grn_params'</li><li>'atac_with_batches'</li></ol>\n"
      ],
      "text/latex": [
       "\\begin{enumerate*}\n",
       "\\item '.grn'\n",
       "\\item '.options'\n",
       "\\item '.n'\n",
       "\\item 'region\\_to\\_gene'\n",
       "\\item 'atacseq\\_data'\n",
       "\\item 'giv'\n",
       "\\item 'kinetic\\_params'\n",
       "\\item 'counts\\_obs'\n",
       "\\item 'num\\_genes'\n",
       "\\item 'atacseq\\_obs'\n",
       "\\item 'cif'\n",
       "\\item 'counts\\_with\\_batches'\n",
       "\\item 'hge\\_scale'\n",
       "\\item 'counts'\n",
       "\\item 'cell\\_meta'\n",
       "\\item 'atac\\_counts'\n",
       "\\item 'grn\\_params'\n",
       "\\item 'atac\\_with\\_batches'\n",
       "\\end{enumerate*}\n"
      ],
      "text/markdown": [
       "1. '.grn'\n",
       "2. '.options'\n",
       "3. '.n'\n",
       "4. 'region_to_gene'\n",
       "5. 'atacseq_data'\n",
       "6. 'giv'\n",
       "7. 'kinetic_params'\n",
       "8. 'counts_obs'\n",
       "9. 'num_genes'\n",
       "10. 'atacseq_obs'\n",
       "11. 'cif'\n",
       "12. 'counts_with_batches'\n",
       "13. 'hge_scale'\n",
       "14. 'counts'\n",
       "15. 'cell_meta'\n",
       "16. 'atac_counts'\n",
       "17. 'grn_params'\n",
       "18. 'atac_with_batches'\n",
       "\n",
       "\n"
      ],
      "text/plain": [
       " [1] \".grn\"                \".options\"            \".n\"                 \n",
       " [4] \"region_to_gene\"      \"atacseq_data\"        \"giv\"                \n",
       " [7] \"kinetic_params\"      \"counts_obs\"          \"num_genes\"          \n",
       "[10] \"atacseq_obs\"         \"cif\"                 \"counts_with_batches\"\n",
       "[13] \"hge_scale\"           \"counts\"              \"cell_meta\"          \n",
       "[16] \"atac_counts\"         \"grn_params\"          \"atac_with_batches\"  "
      ]
     },
     "metadata": {},
     "output_type": "display_data"
    }
   ],
   "source": [
    "names(generated_data)"
   ]
  },
  {
   "cell_type": "code",
   "execution_count": 16,
   "metadata": {
    "vscode": {
     "languageId": "r"
    }
   },
   "outputs": [
    {
     "data": {
      "text/html": [
       "<table class=\"dataframe\">\n",
       "<caption>A data.frame: 6 × 3</caption>\n",
       "<thead>\n",
       "\t<tr><th></th><th scope=col>cell_id</th><th scope=col>pop</th><th scope=col>batch</th></tr>\n",
       "\t<tr><th></th><th scope=col>&lt;chr&gt;</th><th scope=col>&lt;int&gt;</th><th scope=col>&lt;int&gt;</th></tr>\n",
       "</thead>\n",
       "<tbody>\n",
       "\t<tr><th scope=row>cell1</th><td>cell1</td><td>1</td><td>3</td></tr>\n",
       "\t<tr><th scope=row>cell2</th><td>cell2</td><td>1</td><td>1</td></tr>\n",
       "\t<tr><th scope=row>cell3</th><td>cell3</td><td>1</td><td>2</td></tr>\n",
       "\t<tr><th scope=row>cell4</th><td>cell4</td><td>1</td><td>2</td></tr>\n",
       "\t<tr><th scope=row>cell5</th><td>cell5</td><td>1</td><td>1</td></tr>\n",
       "\t<tr><th scope=row>cell6</th><td>cell6</td><td>1</td><td>3</td></tr>\n",
       "</tbody>\n",
       "</table>\n"
      ],
      "text/latex": [
       "A data.frame: 6 × 3\n",
       "\\begin{tabular}{r|lll}\n",
       "  & cell\\_id & pop & batch\\\\\n",
       "  & <chr> & <int> & <int>\\\\\n",
       "\\hline\n",
       "\tcell1 & cell1 & 1 & 3\\\\\n",
       "\tcell2 & cell2 & 1 & 1\\\\\n",
       "\tcell3 & cell3 & 1 & 2\\\\\n",
       "\tcell4 & cell4 & 1 & 2\\\\\n",
       "\tcell5 & cell5 & 1 & 1\\\\\n",
       "\tcell6 & cell6 & 1 & 3\\\\\n",
       "\\end{tabular}\n"
      ],
      "text/markdown": [
       "\n",
       "A data.frame: 6 × 3\n",
       "\n",
       "| <!--/--> | cell_id &lt;chr&gt; | pop &lt;int&gt; | batch &lt;int&gt; |\n",
       "|---|---|---|---|\n",
       "| cell1 | cell1 | 1 | 3 |\n",
       "| cell2 | cell2 | 1 | 1 |\n",
       "| cell3 | cell3 | 1 | 2 |\n",
       "| cell4 | cell4 | 1 | 2 |\n",
       "| cell5 | cell5 | 1 | 1 |\n",
       "| cell6 | cell6 | 1 | 3 |\n",
       "\n"
      ],
      "text/plain": [
       "      cell_id pop batch\n",
       "cell1 cell1   1   3    \n",
       "cell2 cell2   1   1    \n",
       "cell3 cell3   1   2    \n",
       "cell4 cell4   1   2    \n",
       "cell5 cell5   1   1    \n",
       "cell6 cell6   1   3    "
      ]
     },
     "metadata": {},
     "output_type": "display_data"
    }
   ],
   "source": [
    "head(generated_data$cell_meta)"
   ]
  }
 ],
 "metadata": {
  "kernelspec": {
   "display_name": "R",
   "language": "R",
   "name": "ir"
  },
  "language_info": {
   "codemirror_mode": "r",
   "file_extension": ".r",
   "mimetype": "text/x-r-source",
   "name": "R",
   "pygments_lexer": "r",
   "version": "4.3.1"
  },
  "orig_nbformat": 4
 },
 "nbformat": 4,
 "nbformat_minor": 2
}
