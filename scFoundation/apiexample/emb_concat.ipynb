{
 "cells": [
  {
   "cell_type": "code",
   "execution_count": 1,
   "metadata": {},
   "outputs": [],
   "source": [
    "import numpy as np\n",
    "import pandas as pd\n",
    "import scanpy as sc"
   ]
  },
  {
   "cell_type": "code",
   "execution_count": 15,
   "metadata": {},
   "outputs": [
    {
     "ename": "KeyboardInterrupt",
     "evalue": "",
     "output_type": "error",
     "traceback": [
      "\u001b[0;31m---------------------------------------------------------------------------\u001b[0m",
      "\u001b[0;31mKeyboardInterrupt\u001b[0m                         Traceback (most recent call last)",
      "Cell \u001b[0;32mIn[15], line 8\u001b[0m\n\u001b[1;32m      6\u001b[0m     chunk_array \u001b[38;5;241m=\u001b[39m np\u001b[38;5;241m.\u001b[39mload(file_path)\n\u001b[1;32m      7\u001b[0m     \u001b[38;5;66;03m# print(chunk_array.shape)\u001b[39;00m\n\u001b[0;32m----> 8\u001b[0m     concatenated_array \u001b[38;5;241m=\u001b[39m \u001b[43mnp\u001b[49m\u001b[38;5;241;43m.\u001b[39;49m\u001b[43mconcatenate\u001b[49m\u001b[43m(\u001b[49m\u001b[43m(\u001b[49m\u001b[43mconcatenated_array\u001b[49m\u001b[43m,\u001b[49m\u001b[43m \u001b[49m\u001b[43mchunk_array\u001b[49m\u001b[43m)\u001b[49m\u001b[43m)\u001b[49m\n\u001b[1;32m     10\u001b[0m \u001b[38;5;66;03m# Verify the shape of the concatenated array\u001b[39;00m\n\u001b[1;32m     11\u001b[0m \u001b[38;5;28mprint\u001b[39m(concatenated_array\u001b[38;5;241m.\u001b[39mshape)\n",
      "\u001b[0;31mKeyboardInterrupt\u001b[0m: "
     ]
    }
   ],
   "source": [
    "# Create an empty array to store the concatenated data\n",
    "concatenated_array = np.empty((0,3072))\n",
    "# Iterate through the ten files and concatenate the data\n",
    "for i in range(1, 123):\n",
    "    file_path = f'/mnt/nas/user/yixuan/scFoundation/apiexample/demo/Multiomics_demo/act/muto/{i}/result.npy'\n",
    "    chunk_array = np.load(file_path)\n",
    "    # print(chunk_array.shape)\n",
    "    concatenated_array = np.concatenate((concatenated_array, chunk_array))\n",
    "\n",
    "# Verify the shape of the concatenated array\n",
    "print(concatenated_array.shape)"
   ]
  },
  {
   "cell_type": "code",
   "execution_count": null,
   "metadata": {},
   "outputs": [],
   "source": [
    "data_name='Muto-2021-small'"
   ]
  },
  {
   "cell_type": "code",
   "execution_count": null,
   "metadata": {},
   "outputs": [],
   "source": [
    "# rna=sc.read_h5ad('/mnt/nas/user/yixuan/Multiomics-benchmark-main/data/download/'+data_name+'/'+data_name+'-RNA.h5ad')\n",
    "rna=sc.read_h5ad('/mnt/nas/user/yixuan/Multiomics-benchmark-main/data/download/'+data_name+'/'+data_name+'-ACTIVE.h5ad')\n",
    "rna_df=pd.DataFrame(rna.X.todense(),index=rna.obs_names,columns=rna.var_names)"
   ]
  },
  {
   "cell_type": "code",
   "execution_count": null,
   "metadata": {},
   "outputs": [],
   "source": [
    "emb=pd.DataFrame(concatenated_array,index=rna.obs_names)\n",
    "emb.to_csv('/mnt/nas/user/yixuan/Multiomics-benchmark-main/evaluation/workflow/scripts/scFoundation-output/'+data_name+'/'+data_name+'-atac.csv',header=False)"
   ]
  },
  {
   "cell_type": "code",
   "execution_count": null,
   "metadata": {},
   "outputs": [],
   "source": []
  },
  {
   "cell_type": "code",
   "execution_count": null,
   "metadata": {},
   "outputs": [],
   "source": []
  }
 ],
 "metadata": {
  "kernelspec": {
   "display_name": "Python 3",
   "language": "python",
   "name": "python3"
  },
  "language_info": {
   "codemirror_mode": {
    "name": "ipython",
    "version": 3
   },
   "file_extension": ".py",
   "mimetype": "text/x-python",
   "name": "python",
   "nbconvert_exporter": "python",
   "pygments_lexer": "ipython3",
   "version": "3.10.13"
  }
 },
 "nbformat": 4,
 "nbformat_minor": 2
}
