{
 "cells": [
  {
   "cell_type": "code",
   "execution_count": 1,
   "metadata": {},
   "outputs": [],
   "source": [
    "import statsmodels.api as sa\n",
    "import scikit_posthocs as sp\n",
    "import pandas as pd\n",
    "import numpy as np"
   ]
  },
  {
   "cell_type": "code",
   "execution_count": 21,
   "metadata": {},
   "outputs": [
    {
     "data": {
      "text/html": [
       "<div>\n",
       "<style scoped>\n",
       "    .dataframe tbody tr th:only-of-type {\n",
       "        vertical-align: middle;\n",
       "    }\n",
       "\n",
       "    .dataframe tbody tr th {\n",
       "        vertical-align: top;\n",
       "    }\n",
       "\n",
       "    .dataframe thead th {\n",
       "        text-align: right;\n",
       "    }\n",
       "</style>\n",
       "<table border=\"1\" class=\"dataframe\">\n",
       "  <thead>\n",
       "    <tr style=\"text-align: right;\">\n",
       "      <th></th>\n",
       "      <th>datasets</th>\n",
       "      <th>Cobolt</th>\n",
       "      <th>PCA</th>\n",
       "      <th>scJoint</th>\n",
       "      <th>scMoMaT</th>\n",
       "      <th>Seurat4</th>\n",
       "      <th>Glue</th>\n",
       "      <th>scVI</th>\n",
       "      <th>scFoundation</th>\n",
       "      <th>UCE</th>\n",
       "      <th>Pamona</th>\n",
       "      <th>scGPT_zero</th>\n",
       "      <th>bindSC</th>\n",
       "      <th>iNMF</th>\n",
       "      <th>LIGER</th>\n",
       "      <th>Geneformer</th>\n",
       "    </tr>\n",
       "  </thead>\n",
       "  <tbody>\n",
       "    <tr>\n",
       "      <th>0</th>\n",
       "      <td>Yao</td>\n",
       "      <td>0.8577</td>\n",
       "      <td>0.8225</td>\n",
       "      <td>0.7568</td>\n",
       "      <td>0.5072</td>\n",
       "      <td>0.6187</td>\n",
       "      <td>0.5809</td>\n",
       "      <td>0.6296</td>\n",
       "      <td>0.8964</td>\n",
       "      <td>0.7175</td>\n",
       "      <td>0.6711</td>\n",
       "      <td>0.7781</td>\n",
       "      <td>0.6803</td>\n",
       "      <td>0.5516</td>\n",
       "      <td>0.6286</td>\n",
       "      <td>0.6867</td>\n",
       "    </tr>\n",
       "    <tr>\n",
       "      <th>1</th>\n",
       "      <td>Muto-2021-batch-1</td>\n",
       "      <td>0.6592</td>\n",
       "      <td>0.6045</td>\n",
       "      <td>0.6277</td>\n",
       "      <td>0.8180</td>\n",
       "      <td>0.6188</td>\n",
       "      <td>0.7055</td>\n",
       "      <td>0.6467</td>\n",
       "      <td>0.8962</td>\n",
       "      <td>0.6066</td>\n",
       "      <td>0.5971</td>\n",
       "      <td>0.6629</td>\n",
       "      <td>0.5132</td>\n",
       "      <td>0.5086</td>\n",
       "      <td>0.3691</td>\n",
       "      <td>0.6854</td>\n",
       "    </tr>\n",
       "    <tr>\n",
       "      <th>2</th>\n",
       "      <td>Muto-2021-batch-2</td>\n",
       "      <td>0.8044</td>\n",
       "      <td>0.8309</td>\n",
       "      <td>0.7487</td>\n",
       "      <td>0.6064</td>\n",
       "      <td>0.7697</td>\n",
       "      <td>0.7231</td>\n",
       "      <td>0.7924</td>\n",
       "      <td>0.5006</td>\n",
       "      <td>0.7302</td>\n",
       "      <td>0.7999</td>\n",
       "      <td>0.5396</td>\n",
       "      <td>0.6628</td>\n",
       "      <td>0.4180</td>\n",
       "      <td>0.4431</td>\n",
       "      <td>0.1871</td>\n",
       "    </tr>\n",
       "    <tr>\n",
       "      <th>3</th>\n",
       "      <td>Muto-2021-batch-3</td>\n",
       "      <td>0.8211</td>\n",
       "      <td>0.7809</td>\n",
       "      <td>0.6697</td>\n",
       "      <td>0.7573</td>\n",
       "      <td>0.5802</td>\n",
       "      <td>0.6330</td>\n",
       "      <td>0.7580</td>\n",
       "      <td>0.6733</td>\n",
       "      <td>0.6754</td>\n",
       "      <td>0.7387</td>\n",
       "      <td>0.7750</td>\n",
       "      <td>0.5590</td>\n",
       "      <td>0.7714</td>\n",
       "      <td>0.4546</td>\n",
       "      <td>0.6379</td>\n",
       "    </tr>\n",
       "    <tr>\n",
       "      <th>4</th>\n",
       "      <td>Muto-2021-batch-4</td>\n",
       "      <td>0.8459</td>\n",
       "      <td>0.9123</td>\n",
       "      <td>0.7461</td>\n",
       "      <td>0.6943</td>\n",
       "      <td>0.8245</td>\n",
       "      <td>0.4933</td>\n",
       "      <td>0.5734</td>\n",
       "      <td>0.2567</td>\n",
       "      <td>0.2072</td>\n",
       "      <td>0.3831</td>\n",
       "      <td>0.2799</td>\n",
       "      <td>0.4327</td>\n",
       "      <td>0.4506</td>\n",
       "      <td>0.4950</td>\n",
       "      <td>0.2960</td>\n",
       "    </tr>\n",
       "    <tr>\n",
       "      <th>5</th>\n",
       "      <td>Muto-2021-batch-5</td>\n",
       "      <td>0.7165</td>\n",
       "      <td>0.6085</td>\n",
       "      <td>0.7913</td>\n",
       "      <td>NaN</td>\n",
       "      <td>0.5877</td>\n",
       "      <td>0.7817</td>\n",
       "      <td>0.4781</td>\n",
       "      <td>NaN</td>\n",
       "      <td>0.8950</td>\n",
       "      <td>NaN</td>\n",
       "      <td>NaN</td>\n",
       "      <td>NaN</td>\n",
       "      <td>0.3704</td>\n",
       "      <td>0.6691</td>\n",
       "      <td>NaN</td>\n",
       "    </tr>\n",
       "  </tbody>\n",
       "</table>\n",
       "</div>"
      ],
      "text/plain": [
       "            datasets  Cobolt     PCA  scJoint  scMoMaT  Seurat4    Glue  \\\n",
       "0                Yao  0.8577  0.8225   0.7568   0.5072   0.6187  0.5809   \n",
       "1  Muto-2021-batch-1  0.6592  0.6045   0.6277   0.8180   0.6188  0.7055   \n",
       "2  Muto-2021-batch-2  0.8044  0.8309   0.7487   0.6064   0.7697  0.7231   \n",
       "3  Muto-2021-batch-3  0.8211  0.7809   0.6697   0.7573   0.5802  0.6330   \n",
       "4  Muto-2021-batch-4  0.8459  0.9123   0.7461   0.6943   0.8245  0.4933   \n",
       "5  Muto-2021-batch-5  0.7165  0.6085   0.7913      NaN   0.5877  0.7817   \n",
       "\n",
       "     scVI  scFoundation     UCE  Pamona  scGPT_zero  bindSC    iNMF   LIGER  \\\n",
       "0  0.6296        0.8964  0.7175  0.6711      0.7781  0.6803  0.5516  0.6286   \n",
       "1  0.6467        0.8962  0.6066  0.5971      0.6629  0.5132  0.5086  0.3691   \n",
       "2  0.7924        0.5006  0.7302  0.7999      0.5396  0.6628  0.4180  0.4431   \n",
       "3  0.7580        0.6733  0.6754  0.7387      0.7750  0.5590  0.7714  0.4546   \n",
       "4  0.5734        0.2567  0.2072  0.3831      0.2799  0.4327  0.4506  0.4950   \n",
       "5  0.4781           NaN  0.8950     NaN         NaN     NaN  0.3704  0.6691   \n",
       "\n",
       "   Geneformer  \n",
       "0      0.6867  \n",
       "1      0.6854  \n",
       "2      0.1871  \n",
       "3      0.6379  \n",
       "4      0.2960  \n",
       "5         NaN  "
      ]
     },
     "execution_count": 21,
     "metadata": {},
     "output_type": "execute_result"
    }
   ],
   "source": [
    "# case='paired'\n",
    "case='unpaired'\n",
    "\n",
    "# raw_data=pd.read_excel('/mnt/nas/user/yixuan/Multiomics-benchmark-main/evaluation/workflow/scripts/graphs/'+case+'_inte.xlsx')\n",
    "raw_data=pd.read_excel('/mnt/nas/user/yixuan/Multiomics-benchmark-main/evaluation/workflow/scripts/graphs/'+case+'_traj.xlsx')\n",
    "raw_data"
   ]
  },
  {
   "cell_type": "code",
   "execution_count": 22,
   "metadata": {},
   "outputs": [
    {
     "data": {
      "text/plain": [
       "Index(['Cobolt', 'PCA', 'scJoint', 'scMoMaT', 'Seurat4', 'Glue', 'scVI',\n",
       "       'scFoundation', 'UCE', 'Pamona', 'scGPT_zero', 'bindSC', 'iNMF',\n",
       "       'LIGER', 'Geneformer'],\n",
       "      dtype='object')"
      ]
     },
     "execution_count": 22,
     "metadata": {},
     "output_type": "execute_result"
    }
   ],
   "source": [
    "raw_data.columns[1:]"
   ]
  },
  {
   "cell_type": "code",
   "execution_count": 23,
   "metadata": {},
   "outputs": [],
   "source": [
    "dict_data={}\n",
    "for i in raw_data.columns[1:]:\n",
    "    dict_data[i]=raw_data[i].values"
   ]
  },
  {
   "cell_type": "code",
   "execution_count": 24,
   "metadata": {},
   "outputs": [
    {
     "data": {
      "text/html": [
       "<div>\n",
       "<style scoped>\n",
       "    .dataframe tbody tr th:only-of-type {\n",
       "        vertical-align: middle;\n",
       "    }\n",
       "\n",
       "    .dataframe tbody tr th {\n",
       "        vertical-align: top;\n",
       "    }\n",
       "\n",
       "    .dataframe thead th {\n",
       "        text-align: right;\n",
       "    }\n",
       "</style>\n",
       "<table border=\"1\" class=\"dataframe\">\n",
       "  <thead>\n",
       "    <tr style=\"text-align: right;\">\n",
       "      <th></th>\n",
       "      <th>fold</th>\n",
       "      <th>datasets</th>\n",
       "      <th>score</th>\n",
       "    </tr>\n",
       "  </thead>\n",
       "  <tbody>\n",
       "    <tr>\n",
       "      <th>0</th>\n",
       "      <td>0</td>\n",
       "      <td>Cobolt</td>\n",
       "      <td>0.8577</td>\n",
       "    </tr>\n",
       "    <tr>\n",
       "      <th>1</th>\n",
       "      <td>1</td>\n",
       "      <td>Cobolt</td>\n",
       "      <td>0.6592</td>\n",
       "    </tr>\n",
       "    <tr>\n",
       "      <th>2</th>\n",
       "      <td>2</td>\n",
       "      <td>Cobolt</td>\n",
       "      <td>0.8044</td>\n",
       "    </tr>\n",
       "    <tr>\n",
       "      <th>3</th>\n",
       "      <td>3</td>\n",
       "      <td>Cobolt</td>\n",
       "      <td>0.8211</td>\n",
       "    </tr>\n",
       "    <tr>\n",
       "      <th>4</th>\n",
       "      <td>4</td>\n",
       "      <td>Cobolt</td>\n",
       "      <td>0.8459</td>\n",
       "    </tr>\n",
       "    <tr>\n",
       "      <th>...</th>\n",
       "      <td>...</td>\n",
       "      <td>...</td>\n",
       "      <td>...</td>\n",
       "    </tr>\n",
       "    <tr>\n",
       "      <th>85</th>\n",
       "      <td>1</td>\n",
       "      <td>Geneformer</td>\n",
       "      <td>0.6854</td>\n",
       "    </tr>\n",
       "    <tr>\n",
       "      <th>86</th>\n",
       "      <td>2</td>\n",
       "      <td>Geneformer</td>\n",
       "      <td>0.1871</td>\n",
       "    </tr>\n",
       "    <tr>\n",
       "      <th>87</th>\n",
       "      <td>3</td>\n",
       "      <td>Geneformer</td>\n",
       "      <td>0.6379</td>\n",
       "    </tr>\n",
       "    <tr>\n",
       "      <th>88</th>\n",
       "      <td>4</td>\n",
       "      <td>Geneformer</td>\n",
       "      <td>0.2960</td>\n",
       "    </tr>\n",
       "    <tr>\n",
       "      <th>89</th>\n",
       "      <td>5</td>\n",
       "      <td>Geneformer</td>\n",
       "      <td>NaN</td>\n",
       "    </tr>\n",
       "  </tbody>\n",
       "</table>\n",
       "<p>90 rows × 3 columns</p>\n",
       "</div>"
      ],
      "text/plain": [
       "    fold    datasets   score\n",
       "0      0      Cobolt  0.8577\n",
       "1      1      Cobolt  0.6592\n",
       "2      2      Cobolt  0.8044\n",
       "3      3      Cobolt  0.8211\n",
       "4      4      Cobolt  0.8459\n",
       "..   ...         ...     ...\n",
       "85     1  Geneformer  0.6854\n",
       "86     2  Geneformer  0.1871\n",
       "87     3  Geneformer  0.6379\n",
       "88     4  Geneformer  0.2960\n",
       "89     5  Geneformer     NaN\n",
       "\n",
       "[90 rows x 3 columns]"
      ]
     },
     "execution_count": 24,
     "metadata": {},
     "output_type": "execute_result"
    }
   ],
   "source": [
    "\n",
    "data = (\n",
    "  pd.DataFrame(dict_data)\n",
    "  .rename_axis('fold')\n",
    "  .melt(\n",
    "      var_name='datasets',\n",
    "      value_name='score',\n",
    "      ignore_index=False,\n",
    "  )\n",
    "  .reset_index()\n",
    ")\n",
    "data"
   ]
  },
  {
   "cell_type": "code",
   "execution_count": 25,
   "metadata": {},
   "outputs": [
    {
     "data": {
      "text/plain": [
       "datasets\n",
       "Cobolt          0.855556\n",
       "Geneformer      0.413333\n",
       "Glue            0.529630\n",
       "LIGER           0.303704\n",
       "PCA             0.762963\n",
       "Pamona          0.506667\n",
       "Seurat4         0.477778\n",
       "UCE             0.544444\n",
       "bindSC          0.346667\n",
       "iNMF            0.296296\n",
       "scFoundation    0.573333\n",
       "scGPT_zero      0.586667\n",
       "scJoint         0.670370\n",
       "scMoMaT         0.560000\n",
       "scVI            0.570370\n",
       "Name: score, dtype: float64"
      ]
     },
     "execution_count": 25,
     "metadata": {},
     "output_type": "execute_result"
    }
   ],
   "source": [
    "avg_rank = data.groupby('fold').score.rank(pct=True).groupby(data.datasets).mean()\n",
    "avg_rank"
   ]
  },
  {
   "cell_type": "code",
   "execution_count": 26,
   "metadata": {},
   "outputs": [
    {
     "data": {
      "text/plain": [
       "FriedmanchisquareResult(statistic=nan, pvalue=nan)"
      ]
     },
     "execution_count": 26,
     "metadata": {},
     "output_type": "execute_result"
    }
   ],
   "source": [
    "import scipy.stats as ss\n",
    "import matplotlib.pyplot as plt\n",
    "ss.friedmanchisquare(*dict_data.values())"
   ]
  },
  {
   "cell_type": "code",
   "execution_count": 27,
   "metadata": {},
   "outputs": [
    {
     "data": {
      "text/plain": [
       "(<AxesSubplot: >, <matplotlib.colorbar.Colorbar at 0x7f67718a00d0>)"
      ]
     },
     "execution_count": 27,
     "metadata": {},
     "output_type": "execute_result"
    },
    {
     "data": {
      "image/png": "[encoded data removed]",
      "text/plain": [
       "<Figure size 432x288 with 2 Axes>"
      ]
     },
     "metadata": {
      "needs_background": "light"
     },
     "output_type": "display_data"
    }
   ],
   "source": [
    "test_results = sp.posthoc_conover_friedman(\n",
    "    data,\n",
    "    melted=True,\n",
    "    block_col='fold',\n",
    "    group_col='datasets',\n",
    "    y_col='score',\n",
    ")\n",
    "sp.sign_plot(test_results)"
   ]
  },
  {
   "cell_type": "code",
   "execution_count": 29,
   "metadata": {},
   "outputs": [
    {
     "data": {
      "image/png": "[encoded data removed]",
      "text/plain": [
       "<Figure size 600x400 with 1 Axes>"
      ]
     },
     "metadata": {
      "needs_background": "light"
     },
     "output_type": "display_data"
    }
   ],
   "source": [
    "plt.figure(figsize=(6, 4), dpi=100)\n",
    "# plt.title('Critical difference diagram of average score ranks')\n",
    "sp.critical_difference_diagram(avg_rank, test_results)\n",
    "plt.savefig('/mnt/nas/user/yixuan/Multiomics-benchmark-main/evaluation/workflow/scripts/graphs/cdgraph_traj_'+case+'.eps', bbox_inches = 'tight')\n",
    "# plt.savefig('/mnt/nas/user/yixuan/Multiomics-benchmark-main/evaluation/workflow/scripts/graphs/cdgraph_traj_'+case+'.png',dpi=300, bbox_inches = 'tight')"
   ]
  },
  {
   "cell_type": "code",
   "execution_count": null,
   "metadata": {},
   "outputs": [],
   "source": []
  },
  {
   "cell_type": "code",
   "execution_count": null,
   "metadata": {},
   "outputs": [],
   "source": []
  },
  {
   "cell_type": "code",
   "execution_count": null,
   "metadata": {},
   "outputs": [],
   "source": []
  }
 ],
 "metadata": {
  "kernelspec": {
   "display_name": "biotools",
   "language": "python",
   "name": "python3"
  },
  "language_info": {
   "codemirror_mode": {
    "name": "ipython",
    "version": 3
   },
   "file_extension": ".py",
   "mimetype": "text/x-python",
   "name": "python",
   "nbconvert_exporter": "python",
   "pygments_lexer": "ipython3",
   "version": "3.8.13"
  }
 },
 "nbformat": 4,
 "nbformat_minor": 2
}
