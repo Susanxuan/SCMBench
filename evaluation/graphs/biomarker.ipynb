{
 "cells": [
  {
   "cell_type": "code",
   "execution_count": 2,
   "metadata": {},
   "outputs": [],
   "source": [
    "import scanpy as sc\n",
    "import seaborn as sns\n",
    "import os \n",
    "from matplotlib import rcParams\n",
    "import matplotlib.pyplot as plt\n",
    "\n",
    "import argparse\n",
    "import functools\n",
    "import pathlib\n",
    "import warnings\n",
    "from itertools import compress\n",
    "\n",
    "import anndata\n",
    "import numpy as np\n",
    "import pandas as pd\n",
    "import yaml"
   ]
  },
  {
   "cell_type": "code",
   "execution_count": 3,
   "metadata": {},
   "outputs": [],
   "source": [
    "from typing import Tuple\n",
    "\n",
    "import numpy as np\n",
    "import pandas as pd\n",
    "import scanpy as sc\n",
    "import scipy.spatial\n",
    "import sklearn.metrics\n",
    "import sklearn.neighbors\n",
    "from anndata import AnnData\n",
    "from scipy.sparse.csgraph import connected_components\n",
    "from sklearn.neighbors import KNeighborsClassifier\n",
    "from sklearn.model_selection import train_test_split\n",
    "from sklearn.cluster import KMeans\n",
    "from sklearn.metrics import adjusted_rand_score\n",
    "\n",
    "def classifer_knn(\n",
    "        x: np.ndarray, y: np.ndarray, neighbor_frac: float = 0.01, test_size: float = 0.8, **kwargs\n",
    ") -> float:\n",
    "    k = max(round(y.shape[0] * neighbor_frac), 1)\n",
    "    DATA_tr, DATA_te, tr_LABEL, te_LABEL = train_test_split(x, y, test_size=test_size, random_state=42)\n",
    "    clf = KNeighborsClassifier(n_neighbors=k)\n",
    "    clf.fit(DATA_tr, tr_LABEL)\n",
    "    L_pred = clf.predict(x)\n",
    "    return L_pred\n"
   ]
  },
  {
   "cell_type": "code",
   "execution_count": 4,
   "metadata": {},
   "outputs": [],
   "source": [
    "main_type = 'ENDO'\n",
    "method = [\n",
    "            'GLUE', 'LIGER',\n",
    "            'scMoMaT', \n",
    "            'bindsc', 'Cobolt',\n",
    "            'Pamona', 'PCA', 'scJoint', 'seurat4',\n",
    "            'iNMF', 'scVI',\n",
    "            ]\n"
   ]
  },
  {
   "cell_type": "code",
   "execution_count": 5,
   "metadata": {},
   "outputs": [],
   "source": [
    "input_datasets = ['/mnt/nas/user/yixuan/Multiomics-benchmark-main/data/download/Muto-2021-batch-1-small/Muto-2021-batch-1-small-RNA.h5ad']"
   ]
  },
  {
   "cell_type": "code",
   "execution_count": 6,
   "metadata": {},
   "outputs": [],
   "source": [
    "datasets = [anndata.read_h5ad(item) for item in input_datasets]\n",
    "cell_types = [dataset.obs[\"cell_type\"].to_numpy() for dataset in datasets]\n",
    "domains = [dataset.obs[\"domain\"].to_numpy() for dataset in datasets]\n",
    "vars = [dataset.var_names for dataset in datasets]\n",
    "unis = [np.array(dataset.X.todense()) for dataset in datasets]"
   ]
  },
  {
   "cell_type": "code",
   "execution_count": 7,
   "metadata": {},
   "outputs": [
    {
     "data": {
      "text/plain": [
       "array(['CNT', 'DCT', 'ENDO', 'ICA', 'ICB', 'LEUK', 'MES_FIB', 'PC', 'PEC',\n",
       "       'PODO', 'PT', 'PT_VCAM1', 'TAL'], dtype=object)"
      ]
     },
     "execution_count": 7,
     "metadata": {},
     "output_type": "execute_result"
    }
   ],
   "source": [
    "np.unique(cell_types[0])"
   ]
  },
  {
   "cell_type": "code",
   "execution_count": 8,
   "metadata": {},
   "outputs": [],
   "source": [
    "marker_dict = {}"
   ]
  },
  {
   "cell_type": "code",
   "execution_count": 9,
   "metadata": {},
   "outputs": [
    {
     "name": "stderr",
     "output_type": "stream",
     "text": [
      "/tmp/ipykernel_31997/1969389028.py:28: ImplicitModificationWarning: Trying to modify attribute `.obs` of view, initializing view as actual.\n",
      "  adata.obs['cell_type'] = np.array(cell_types[0])\n"
     ]
    },
    {
     "name": "stdout",
     "output_type": "stream",
     "text": [
      "Finish:  GLUE\n"
     ]
    },
    {
     "name": "stderr",
     "output_type": "stream",
     "text": [
      "/tmp/ipykernel_31997/1969389028.py:28: ImplicitModificationWarning: Trying to modify attribute `.obs` of view, initializing view as actual.\n",
      "  adata.obs['cell_type'] = np.array(cell_types[0])\n"
     ]
    },
    {
     "name": "stdout",
     "output_type": "stream",
     "text": [
      "Finish:  LIGER\n"
     ]
    },
    {
     "name": "stderr",
     "output_type": "stream",
     "text": [
      "/tmp/ipykernel_31997/1969389028.py:28: ImplicitModificationWarning: Trying to modify attribute `.obs` of view, initializing view as actual.\n",
      "  adata.obs['cell_type'] = np.array(cell_types[0])\n"
     ]
    },
    {
     "name": "stdout",
     "output_type": "stream",
     "text": [
      "Finish:  scMoMaT\n"
     ]
    },
    {
     "name": "stderr",
     "output_type": "stream",
     "text": [
      "/tmp/ipykernel_31997/1969389028.py:28: ImplicitModificationWarning: Trying to modify attribute `.obs` of view, initializing view as actual.\n",
      "  adata.obs['cell_type'] = np.array(cell_types[0])\n"
     ]
    },
    {
     "name": "stdout",
     "output_type": "stream",
     "text": [
      "Finish:  bindsc\n"
     ]
    },
    {
     "name": "stderr",
     "output_type": "stream",
     "text": [
      "/tmp/ipykernel_31997/1969389028.py:28: ImplicitModificationWarning: Trying to modify attribute `.obs` of view, initializing view as actual.\n",
      "  adata.obs['cell_type'] = np.array(cell_types[0])\n"
     ]
    },
    {
     "name": "stdout",
     "output_type": "stream",
     "text": [
      "Finish:  Cobolt\n"
     ]
    },
    {
     "name": "stderr",
     "output_type": "stream",
     "text": [
      "/tmp/ipykernel_31997/1969389028.py:28: ImplicitModificationWarning: Trying to modify attribute `.obs` of view, initializing view as actual.\n",
      "  adata.obs['cell_type'] = np.array(cell_types[0])\n"
     ]
    },
    {
     "name": "stdout",
     "output_type": "stream",
     "text": [
      "Finish:  Pamona\n"
     ]
    },
    {
     "name": "stderr",
     "output_type": "stream",
     "text": [
      "/tmp/ipykernel_31997/1969389028.py:28: ImplicitModificationWarning: Trying to modify attribute `.obs` of view, initializing view as actual.\n",
      "  adata.obs['cell_type'] = np.array(cell_types[0])\n"
     ]
    },
    {
     "name": "stdout",
     "output_type": "stream",
     "text": [
      "Finish:  PCA\n"
     ]
    },
    {
     "name": "stderr",
     "output_type": "stream",
     "text": [
      "/tmp/ipykernel_31997/1969389028.py:28: ImplicitModificationWarning: Trying to modify attribute `.obs` of view, initializing view as actual.\n",
      "  adata.obs['cell_type'] = np.array(cell_types[0])\n"
     ]
    },
    {
     "name": "stdout",
     "output_type": "stream",
     "text": [
      "Finish:  scJoint\n"
     ]
    },
    {
     "name": "stderr",
     "output_type": "stream",
     "text": [
      "/tmp/ipykernel_31997/1969389028.py:28: ImplicitModificationWarning: Trying to modify attribute `.obs` of view, initializing view as actual.\n",
      "  adata.obs['cell_type'] = np.array(cell_types[0])\n"
     ]
    },
    {
     "name": "stdout",
     "output_type": "stream",
     "text": [
      "Finish:  seurat4\n"
     ]
    },
    {
     "name": "stderr",
     "output_type": "stream",
     "text": [
      "/tmp/ipykernel_31997/1969389028.py:28: ImplicitModificationWarning: Trying to modify attribute `.obs` of view, initializing view as actual.\n",
      "  adata.obs['cell_type'] = np.array(cell_types[0])\n"
     ]
    },
    {
     "name": "stdout",
     "output_type": "stream",
     "text": [
      "Finish:  iNMF\n"
     ]
    },
    {
     "name": "stderr",
     "output_type": "stream",
     "text": [
      "/tmp/ipykernel_31997/1969389028.py:28: ImplicitModificationWarning: Trying to modify attribute `.obs` of view, initializing view as actual.\n",
      "  adata.obs['cell_type'] = np.array(cell_types[0])\n"
     ]
    },
    {
     "name": "stdout",
     "output_type": "stream",
     "text": [
      "Finish:  scVI\n"
     ]
    }
   ],
   "source": [
    "for item in method:\n",
    "    input_latents = [f'/mnt/nas/user/yixuan/Multiomics-benchmark-main/results/Muto-2021-batch-1-small/{item}_rna.csv']\n",
    "    latents = [pd.read_csv(item, header=None, index_col=0).to_numpy() for item in input_latents]\n",
    "    masks = [np.apply_along_axis(lambda x: ~np.any(np.isnan(x)), 1, latent) for latent in latents]\n",
    "    for i, mask in enumerate(masks):\n",
    "        rm_pct = 100 * (1 - mask.sum() / mask.size)\n",
    "        if rm_pct:\n",
    "            print(f\"Ignoring {rm_pct:.1f}% cells in dataset {i} due to missing values!\")\n",
    "    combined_cell_type = np.concatenate([cell_type[mask] for cell_type, mask in zip(cell_types, masks)])\n",
    "    combined_domain = np.concatenate([domain[mask] for domain, mask in zip(domains, masks)])\n",
    "    combined_var = np.concatenate([var for var in vars])\n",
    "    combined_uni = np.concatenate([uni[mask] for uni, mask in zip(unis, masks)], axis=1)\n",
    "    combined_latent = np.concatenate([latent[mask] for latent, mask in zip(latents, masks)], axis=1)\n",
    "    combined_predicted_cell_type = classifer_knn(combined_latent, cell_types[0])\n",
    "    adata = sc.AnnData(X=combined_uni,\n",
    "                        obs=list(domains[0]),\n",
    "                        var=list(combined_var))\n",
    "    adata.var_names = combined_var\n",
    "    sc.pp.normalize_total(adata)\n",
    "    sc.pp.log1p(adata)\n",
    "    sc.pp.highly_variable_genes(\n",
    "        adata,\n",
    "        n_top_genes=5000,\n",
    "        flavor=\"seurat\",\n",
    "        batch_key=None,\n",
    "    )\n",
    "    adata = adata[:, adata.var.highly_variable]\n",
    "    adata.obs['cell_type'] = np.array(cell_types[0])\n",
    "    adata.obs['predicted_cell_type'] = np.array(combined_predicted_cell_type)\n",
    "    sc.tl.rank_genes_groups(\n",
    "        adata, \n",
    "        groupby = 'predicted_cell_type', \n",
    "        groups = [main_type],\n",
    "        method = 't-test',\n",
    "        n_genes = 100,\n",
    "        )\n",
    "    md = ( \n",
    "        sc.get.rank_genes_groups_df(adata, group=main_type) \n",
    "        .set_index('names', drop=True) \n",
    "    ) \n",
    "    marker_dict[item] = md.index\n",
    "    print(\"Finish: \", item)\n",
    "\n"
   ]
  },
  {
   "cell_type": "code",
   "execution_count": 14,
   "metadata": {},
   "outputs": [],
   "source": [
    "# def jaccard(first, second):\n",
    "#     return len(set(first).intersection(second)) / len(set(first).union(second))\n",
    "def jaccard(first, second):\n",
    "    print(type(first))    \n",
    "    # Check and convert first input\n",
    "    if isinstance(first, set):\n",
    "        first_set = first\n",
    "    elif isinstance(first, pd.Index):\n",
    "        first_set = set(first) if not first.empty else set()\n",
    "    else:\n",
    "        first_set = set()\n",
    "\n",
    "    # Check and convert second input\n",
    "    if isinstance(second, set):\n",
    "        second_set = second\n",
    "    elif isinstance(second, pd.Index):\n",
    "        second_set = set(second) if not second.empty else set()\n",
    "    else:\n",
    "        second_set = set()\n",
    "    # Check if both indices are empty\n",
    "    if not first_set and not second_set:\n",
    "        print('**')\n",
    "        # Handle the case where both sets are empty\n",
    "        # Return 1 or 0 based on your convention for similarity of empty sets\n",
    "        return 1.0\n",
    "    print('##')\n",
    "    return len(first_set.intersection(second_set)) / len(first_set.union(second_set))"
   ]
  },
  {
   "cell_type": "code",
   "execution_count": 15,
   "metadata": {},
   "outputs": [
    {
     "data": {
      "text/plain": [
       "11"
      ]
     },
     "execution_count": 15,
     "metadata": {},
     "output_type": "execute_result"
    }
   ],
   "source": [
    "keys = list(marker_dict.keys())\n",
    "result_dict = {}\n",
    "len(keys)"
   ]
  },
  {
   "cell_type": "code",
   "execution_count": 16,
   "metadata": {},
   "outputs": [
    {
     "name": "stdout",
     "output_type": "stream",
     "text": [
      "<class 'pandas.core.indexes.base.Index'>\n",
      "##\n",
      "<class 'pandas.core.indexes.base.Index'>\n",
      "##\n",
      "<class 'pandas.core.indexes.base.Index'>\n",
      "##\n",
      "<class 'pandas.core.indexes.base.Index'>\n",
      "##\n",
      "<class 'pandas.core.indexes.base.Index'>\n",
      "##\n",
      "<class 'pandas.core.indexes.base.Index'>\n",
      "##\n",
      "<class 'pandas.core.indexes.base.Index'>\n",
      "##\n",
      "<class 'pandas.core.indexes.base.Index'>\n",
      "##\n",
      "<class 'pandas.core.indexes.base.Index'>\n",
      "##\n",
      "<class 'pandas.core.indexes.base.Index'>\n",
      "##\n",
      "<class 'pandas.core.indexes.base.Index'>\n",
      "##\n",
      "<class 'pandas.core.indexes.base.Index'>\n",
      "##\n",
      "<class 'pandas.core.indexes.base.Index'>\n",
      "##\n",
      "<class 'pandas.core.indexes.base.Index'>\n",
      "##\n",
      "<class 'pandas.core.indexes.base.Index'>\n",
      "##\n",
      "<class 'pandas.core.indexes.base.Index'>\n",
      "##\n",
      "<class 'pandas.core.indexes.base.Index'>\n",
      "##\n",
      "<class 'pandas.core.indexes.base.Index'>\n",
      "##\n",
      "<class 'pandas.core.indexes.base.Index'>\n",
      "##\n",
      "<class 'pandas.core.indexes.base.Index'>\n",
      "##\n",
      "<class 'pandas.core.indexes.base.Index'>\n",
      "##\n",
      "<class 'pandas.core.indexes.base.Index'>\n",
      "##\n",
      "<class 'pandas.core.indexes.base.Index'>\n",
      "##\n",
      "<class 'pandas.core.indexes.base.Index'>\n",
      "##\n",
      "<class 'pandas.core.indexes.base.Index'>\n",
      "##\n",
      "<class 'pandas.core.indexes.base.Index'>\n",
      "##\n",
      "<class 'pandas.core.indexes.base.Index'>\n",
      "##\n",
      "<class 'pandas.core.indexes.base.Index'>\n",
      "##\n",
      "<class 'pandas.core.indexes.base.Index'>\n",
      "##\n",
      "<class 'pandas.core.indexes.base.Index'>\n",
      "##\n",
      "<class 'pandas.core.indexes.base.Index'>\n",
      "##\n",
      "<class 'pandas.core.indexes.base.Index'>\n",
      "##\n",
      "<class 'pandas.core.indexes.base.Index'>\n",
      "##\n",
      "<class 'pandas.core.indexes.base.Index'>\n",
      "##\n",
      "<class 'pandas.core.indexes.base.Index'>\n",
      "##\n",
      "<class 'pandas.core.indexes.base.Index'>\n",
      "##\n",
      "<class 'pandas.core.indexes.base.Index'>\n",
      "##\n",
      "<class 'pandas.core.indexes.base.Index'>\n",
      "##\n",
      "<class 'pandas.core.indexes.base.Index'>\n",
      "##\n",
      "<class 'pandas.core.indexes.base.Index'>\n",
      "##\n",
      "<class 'pandas.core.indexes.base.Index'>\n",
      "##\n",
      "<class 'pandas.core.indexes.base.Index'>\n",
      "##\n",
      "<class 'pandas.core.indexes.base.Index'>\n",
      "##\n",
      "<class 'pandas.core.indexes.base.Index'>\n",
      "##\n",
      "<class 'pandas.core.indexes.base.Index'>\n",
      "##\n",
      "<class 'pandas.core.indexes.base.Index'>\n",
      "##\n",
      "<class 'pandas.core.indexes.base.Index'>\n",
      "##\n",
      "<class 'pandas.core.indexes.base.Index'>\n",
      "##\n",
      "<class 'pandas.core.indexes.base.Index'>\n",
      "##\n",
      "<class 'pandas.core.indexes.base.Index'>\n",
      "##\n",
      "<class 'pandas.core.indexes.base.Index'>\n",
      "##\n",
      "<class 'pandas.core.indexes.base.Index'>\n",
      "##\n",
      "<class 'pandas.core.indexes.base.Index'>\n",
      "##\n",
      "<class 'pandas.core.indexes.base.Index'>\n",
      "##\n",
      "<class 'pandas.core.indexes.base.Index'>\n",
      "##\n",
      "<class 'pandas.core.indexes.base.Index'>\n",
      "##\n",
      "<class 'pandas.core.indexes.base.Index'>\n",
      "##\n",
      "<class 'pandas.core.indexes.base.Index'>\n",
      "##\n",
      "<class 'pandas.core.indexes.base.Index'>\n",
      "##\n",
      "<class 'pandas.core.indexes.base.Index'>\n",
      "##\n",
      "<class 'pandas.core.indexes.base.Index'>\n",
      "##\n",
      "<class 'pandas.core.indexes.base.Index'>\n",
      "##\n",
      "<class 'pandas.core.indexes.base.Index'>\n",
      "##\n",
      "<class 'pandas.core.indexes.base.Index'>\n",
      "##\n",
      "<class 'pandas.core.indexes.base.Index'>\n",
      "##\n",
      "<class 'pandas.core.indexes.base.Index'>\n",
      "##\n",
      "<class 'pandas.core.indexes.base.Index'>\n",
      "##\n",
      "<class 'pandas.core.indexes.base.Index'>\n",
      "##\n",
      "<class 'pandas.core.indexes.base.Index'>\n",
      "##\n",
      "<class 'pandas.core.indexes.base.Index'>\n",
      "##\n",
      "<class 'pandas.core.indexes.base.Index'>\n",
      "##\n",
      "<class 'pandas.core.indexes.base.Index'>\n",
      "##\n",
      "<class 'pandas.core.indexes.base.Index'>\n",
      "##\n",
      "<class 'pandas.core.indexes.base.Index'>\n",
      "##\n",
      "<class 'pandas.core.indexes.base.Index'>\n",
      "##\n",
      "<class 'pandas.core.indexes.base.Index'>\n",
      "##\n",
      "<class 'pandas.core.indexes.base.Index'>\n",
      "##\n",
      "<class 'pandas.core.indexes.base.Index'>\n",
      "##\n",
      "<class 'pandas.core.indexes.base.Index'>\n",
      "##\n",
      "<class 'pandas.core.indexes.base.Index'>\n",
      "##\n",
      "<class 'pandas.core.indexes.base.Index'>\n",
      "##\n",
      "<class 'pandas.core.indexes.base.Index'>\n",
      "##\n",
      "<class 'pandas.core.indexes.base.Index'>\n",
      "##\n",
      "<class 'pandas.core.indexes.base.Index'>\n",
      "##\n",
      "<class 'pandas.core.indexes.base.Index'>\n",
      "##\n",
      "<class 'pandas.core.indexes.base.Index'>\n",
      "##\n",
      "<class 'pandas.core.indexes.base.Index'>\n",
      "##\n",
      "<class 'pandas.core.indexes.base.Index'>\n",
      "##\n",
      "<class 'pandas.core.indexes.base.Index'>\n",
      "##\n",
      "<class 'pandas.core.indexes.base.Index'>\n",
      "##\n",
      "<class 'pandas.core.indexes.base.Index'>\n",
      "##\n",
      "<class 'pandas.core.indexes.base.Index'>\n",
      "##\n",
      "<class 'pandas.core.indexes.base.Index'>\n",
      "##\n",
      "<class 'pandas.core.indexes.base.Index'>\n",
      "##\n",
      "<class 'pandas.core.indexes.base.Index'>\n",
      "##\n",
      "<class 'pandas.core.indexes.base.Index'>\n",
      "##\n",
      "<class 'pandas.core.indexes.base.Index'>\n",
      "##\n",
      "<class 'pandas.core.indexes.base.Index'>\n",
      "##\n",
      "<class 'pandas.core.indexes.base.Index'>\n",
      "##\n",
      "<class 'pandas.core.indexes.base.Index'>\n",
      "##\n",
      "<class 'pandas.core.indexes.base.Index'>\n",
      "##\n",
      "<class 'pandas.core.indexes.base.Index'>\n",
      "##\n",
      "<class 'pandas.core.indexes.base.Index'>\n",
      "##\n",
      "<class 'pandas.core.indexes.base.Index'>\n",
      "##\n",
      "<class 'pandas.core.indexes.base.Index'>\n",
      "##\n",
      "<class 'pandas.core.indexes.base.Index'>\n",
      "##\n",
      "<class 'pandas.core.indexes.base.Index'>\n",
      "##\n",
      "<class 'pandas.core.indexes.base.Index'>\n",
      "##\n",
      "<class 'pandas.core.indexes.base.Index'>\n",
      "##\n",
      "<class 'pandas.core.indexes.base.Index'>\n",
      "##\n",
      "<class 'pandas.core.indexes.base.Index'>\n",
      "##\n",
      "<class 'pandas.core.indexes.base.Index'>\n",
      "##\n",
      "<class 'pandas.core.indexes.base.Index'>\n",
      "##\n",
      "<class 'pandas.core.indexes.base.Index'>\n",
      "##\n",
      "<class 'pandas.core.indexes.base.Index'>\n",
      "##\n",
      "<class 'pandas.core.indexes.base.Index'>\n",
      "##\n",
      "<class 'pandas.core.indexes.base.Index'>\n",
      "##\n",
      "<class 'pandas.core.indexes.base.Index'>\n",
      "##\n",
      "<class 'pandas.core.indexes.base.Index'>\n",
      "##\n",
      "<class 'pandas.core.indexes.base.Index'>\n",
      "##\n",
      "<class 'pandas.core.indexes.base.Index'>\n",
      "##\n"
     ]
    }
   ],
   "source": [
    "for k in keys:\n",
    "    for l in keys:\n",
    "        result_dict[(k,l)] = marker_dict.get((l,k), jaccard(marker_dict[k], marker_dict[l]))"
   ]
  },
  {
   "cell_type": "code",
   "execution_count": 13,
   "metadata": {},
   "outputs": [
    {
     "data": {
      "text/plain": [
       "{('GLUE', 'GLUE'): 1.0,\n",
       " ('GLUE', 'LIGER'): 0.6666666666666666,\n",
       " ('GLUE', 'scMoMaT'): 0.639344262295082,\n",
       " ('GLUE', 'bindsc'): 0.7543859649122807,\n",
       " ('GLUE', 'Cobolt'): 0.6260162601626016,\n",
       " ('GLUE', 'Pamona'): 0.639344262295082,\n",
       " ('GLUE', 'PCA'): 0.680672268907563,\n",
       " ('GLUE', 'scJoint'): 0.6528925619834711,\n",
       " ('GLUE', 'seurat4'): 0.6260162601626016,\n",
       " ('GLUE', 'iNMF'): 0.7094017094017094,\n",
       " ('GLUE', 'scVI'): 0.7094017094017094,\n",
       " ('LIGER', 'GLUE'): 0.6666666666666666,\n",
       " ('LIGER', 'LIGER'): 1.0,\n",
       " ('LIGER', 'scMoMaT'): 0.7857142857142857,\n",
       " ('LIGER', 'bindsc'): 0.8518518518518519,\n",
       " ('LIGER', 'Cobolt'): 0.7094017094017094,\n",
       " ('LIGER', 'Pamona'): 0.5748031496062992,\n",
       " ('LIGER', 'PCA'): 0.7543859649122807,\n",
       " ('LIGER', 'scJoint'): 0.6528925619834711,\n",
       " ('LIGER', 'seurat4'): 0.7094017094017094,\n",
       " ('LIGER', 'iNMF'): 0.7543859649122807,\n",
       " ('LIGER', 'scVI'): 0.6260162601626016,\n",
       " ('scMoMaT', 'GLUE'): 0.639344262295082,\n",
       " ('scMoMaT', 'LIGER'): 0.7857142857142857,\n",
       " ('scMoMaT', 'scMoMaT'): 1.0,\n",
       " ('scMoMaT', 'bindsc'): 0.7699115044247787,\n",
       " ('scMoMaT', 'Cobolt'): 0.680672268907563,\n",
       " ('scMoMaT', 'Pamona'): 0.5503875968992248,\n",
       " ('scMoMaT', 'PCA'): 0.7543859649122807,\n",
       " ('scMoMaT', 'scJoint'): 0.680672268907563,\n",
       " ('scMoMaT', 'seurat4'): 0.8348623853211009,\n",
       " ('scMoMaT', 'iNMF'): 0.7391304347826086,\n",
       " ('scMoMaT', 'scVI'): 0.6528925619834711,\n",
       " ('bindsc', 'GLUE'): 0.7543859649122807,\n",
       " ('bindsc', 'LIGER'): 0.8518518518518519,\n",
       " ('bindsc', 'scMoMaT'): 0.7699115044247787,\n",
       " ('bindsc', 'bindsc'): 1.0,\n",
       " ('bindsc', 'Cobolt'): 0.6949152542372882,\n",
       " ('bindsc', 'Pamona'): 0.6,\n",
       " ('bindsc', 'PCA'): 0.8181818181818182,\n",
       " ('bindsc', 'scJoint'): 0.7241379310344828,\n",
       " ('bindsc', 'seurat4'): 0.7241379310344828,\n",
       " ('bindsc', 'iNMF'): 0.7543859649122807,\n",
       " ('bindsc', 'scVI'): 0.6949152542372882,\n",
       " ('Cobolt', 'GLUE'): 0.6260162601626016,\n",
       " ('Cobolt', 'LIGER'): 0.7094017094017094,\n",
       " ('Cobolt', 'scMoMaT'): 0.680672268907563,\n",
       " ('Cobolt', 'bindsc'): 0.6949152542372882,\n",
       " ('Cobolt', 'Cobolt'): 1.0,\n",
       " ('Cobolt', 'Pamona'): 0.6129032258064516,\n",
       " ('Cobolt', 'PCA'): 0.7543859649122807,\n",
       " ('Cobolt', 'scJoint'): 0.7241379310344828,\n",
       " ('Cobolt', 'seurat4'): 0.5873015873015873,\n",
       " ('Cobolt', 'iNMF'): 0.6949152542372882,\n",
       " ('Cobolt', 'scVI'): 0.6129032258064516,\n",
       " ('Pamona', 'GLUE'): 0.639344262295082,\n",
       " ('Pamona', 'LIGER'): 0.5748031496062992,\n",
       " ('Pamona', 'scMoMaT'): 0.5503875968992248,\n",
       " ('Pamona', 'bindsc'): 0.6,\n",
       " ('Pamona', 'Cobolt'): 0.6129032258064516,\n",
       " ('Pamona', 'Pamona'): 1.0,\n",
       " ('Pamona', 'PCA'): 0.6129032258064516,\n",
       " ('Pamona', 'scJoint'): 0.6260162601626016,\n",
       " ('Pamona', 'seurat4'): 0.5151515151515151,\n",
       " ('Pamona', 'iNMF'): 0.639344262295082,\n",
       " ('Pamona', 'scVI'): 0.6,\n",
       " ('PCA', 'GLUE'): 0.680672268907563,\n",
       " ('PCA', 'LIGER'): 0.7543859649122807,\n",
       " ('PCA', 'scMoMaT'): 0.7543859649122807,\n",
       " ('PCA', 'bindsc'): 0.8181818181818182,\n",
       " ('PCA', 'Cobolt'): 0.7543859649122807,\n",
       " ('PCA', 'Pamona'): 0.6129032258064516,\n",
       " ('PCA', 'PCA'): 1.0,\n",
       " ('PCA', 'scJoint'): 0.8518518518518519,\n",
       " ('PCA', 'seurat4'): 0.680672268907563,\n",
       " ('PCA', 'iNMF'): 0.7699115044247787,\n",
       " ('PCA', 'scVI'): 0.7094017094017094,\n",
       " ('scJoint', 'GLUE'): 0.6528925619834711,\n",
       " ('scJoint', 'LIGER'): 0.6528925619834711,\n",
       " ('scJoint', 'scMoMaT'): 0.680672268907563,\n",
       " ('scJoint', 'bindsc'): 0.7241379310344828,\n",
       " ('scJoint', 'Cobolt'): 0.7241379310344828,\n",
       " ('scJoint', 'Pamona'): 0.6260162601626016,\n",
       " ('scJoint', 'PCA'): 0.8518518518518519,\n",
       " ('scJoint', 'scJoint'): 1.0,\n",
       " ('scJoint', 'seurat4'): 0.6129032258064516,\n",
       " ('scJoint', 'iNMF'): 0.7241379310344828,\n",
       " ('scJoint', 'scVI'): 0.639344262295082,\n",
       " ('seurat4', 'GLUE'): 0.6260162601626016,\n",
       " ('seurat4', 'LIGER'): 0.7094017094017094,\n",
       " ('seurat4', 'scMoMaT'): 0.8348623853211009,\n",
       " ('seurat4', 'bindsc'): 0.7241379310344828,\n",
       " ('seurat4', 'Cobolt'): 0.5873015873015873,\n",
       " ('seurat4', 'Pamona'): 0.5151515151515151,\n",
       " ('seurat4', 'PCA'): 0.680672268907563,\n",
       " ('seurat4', 'scJoint'): 0.6129032258064516,\n",
       " ('seurat4', 'seurat4'): 1.0,\n",
       " ('seurat4', 'iNMF'): 0.6949152542372882,\n",
       " ('seurat4', 'scVI'): 0.6129032258064516,\n",
       " ('iNMF', 'GLUE'): 0.7094017094017094,\n",
       " ('iNMF', 'LIGER'): 0.7543859649122807,\n",
       " ('iNMF', 'scMoMaT'): 0.7391304347826086,\n",
       " ('iNMF', 'bindsc'): 0.7543859649122807,\n",
       " ('iNMF', 'Cobolt'): 0.6949152542372882,\n",
       " ('iNMF', 'Pamona'): 0.639344262295082,\n",
       " ('iNMF', 'PCA'): 0.7699115044247787,\n",
       " ('iNMF', 'scJoint'): 0.7241379310344828,\n",
       " ('iNMF', 'seurat4'): 0.6949152542372882,\n",
       " ('iNMF', 'iNMF'): 1.0,\n",
       " ('iNMF', 'scVI'): 0.6528925619834711,\n",
       " ('scVI', 'GLUE'): 0.7094017094017094,\n",
       " ('scVI', 'LIGER'): 0.6260162601626016,\n",
       " ('scVI', 'scMoMaT'): 0.6528925619834711,\n",
       " ('scVI', 'bindsc'): 0.6949152542372882,\n",
       " ('scVI', 'Cobolt'): 0.6129032258064516,\n",
       " ('scVI', 'Pamona'): 0.6,\n",
       " ('scVI', 'PCA'): 0.7094017094017094,\n",
       " ('scVI', 'scJoint'): 0.639344262295082,\n",
       " ('scVI', 'seurat4'): 0.6129032258064516,\n",
       " ('scVI', 'iNMF'): 0.6528925619834711,\n",
       " ('scVI', 'scVI'): 1.0}"
      ]
     },
     "execution_count": 13,
     "metadata": {},
     "output_type": "execute_result"
    }
   ],
   "source": [
    "result_dict"
   ]
  },
  {
   "cell_type": "code",
   "execution_count": 12,
   "metadata": {},
   "outputs": [],
   "source": [
    "data = np.array(list(result_dict.values()) ).reshape(len(keys),len(keys))"
   ]
  },
  {
   "cell_type": "code",
   "execution_count": 15,
   "metadata": {},
   "outputs": [
    {
     "data": {
      "text/plain": [
       "array([[1.        , 0.66666667, 0.63934426, 0.75438596, 0.62601626,\n",
       "        0.63934426, 0.68067227, 0.65289256, 0.62601626, 0.70940171,\n",
       "        0.70940171],\n",
       "       [0.66666667, 1.        , 0.78571429, 0.85185185, 0.70940171,\n",
       "        0.57480315, 0.75438596, 0.65289256, 0.70940171, 0.75438596,\n",
       "        0.62601626],\n",
       "       [0.63934426, 0.78571429, 1.        , 0.7699115 , 0.68067227,\n",
       "        0.5503876 , 0.75438596, 0.68067227, 0.83486239, 0.73913043,\n",
       "        0.65289256],\n",
       "       [0.75438596, 0.85185185, 0.7699115 , 1.        , 0.69491525,\n",
       "        0.6       , 0.81818182, 0.72413793, 0.72413793, 0.75438596,\n",
       "        0.69491525],\n",
       "       [0.62601626, 0.70940171, 0.68067227, 0.69491525, 1.        ,\n",
       "        0.61290323, 0.75438596, 0.72413793, 0.58730159, 0.69491525,\n",
       "        0.61290323],\n",
       "       [0.63934426, 0.57480315, 0.5503876 , 0.6       , 0.61290323,\n",
       "        1.        , 0.61290323, 0.62601626, 0.51515152, 0.63934426,\n",
       "        0.6       ],\n",
       "       [0.68067227, 0.75438596, 0.75438596, 0.81818182, 0.75438596,\n",
       "        0.61290323, 1.        , 0.85185185, 0.68067227, 0.7699115 ,\n",
       "        0.70940171],\n",
       "       [0.65289256, 0.65289256, 0.68067227, 0.72413793, 0.72413793,\n",
       "        0.62601626, 0.85185185, 1.        , 0.61290323, 0.72413793,\n",
       "        0.63934426],\n",
       "       [0.62601626, 0.70940171, 0.83486239, 0.72413793, 0.58730159,\n",
       "        0.51515152, 0.68067227, 0.61290323, 1.        , 0.69491525,\n",
       "        0.61290323],\n",
       "       [0.70940171, 0.75438596, 0.73913043, 0.75438596, 0.69491525,\n",
       "        0.63934426, 0.7699115 , 0.72413793, 0.69491525, 1.        ,\n",
       "        0.65289256],\n",
       "       [0.70940171, 0.62601626, 0.65289256, 0.69491525, 0.61290323,\n",
       "        0.6       , 0.70940171, 0.63934426, 0.61290323, 0.65289256,\n",
       "        1.        ]])"
      ]
     },
     "execution_count": 15,
     "metadata": {},
     "output_type": "execute_result"
    }
   ],
   "source": [
    "data"
   ]
  },
  {
   "cell_type": "code",
   "execution_count": 13,
   "metadata": {},
   "outputs": [],
   "source": [
    "methods = keys"
   ]
  },
  {
   "cell_type": "code",
   "execution_count": 14,
   "metadata": {},
   "outputs": [
    {
     "data": {
      "image/png": "[encoded data removed]",
      "text/plain": [
       "<Figure size 648x648 with 1 Axes>"
      ]
     },
     "metadata": {
      "needs_background": "light"
     },
     "output_type": "display_data"
    },
    {
     "data": {
      "image/png": "[encoded data removed]",
      "text/plain": [
       "<Figure size 504x288 with 1 Axes>"
      ]
     },
     "metadata": {
      "needs_background": "light"
     },
     "output_type": "display_data"
    }
   ],
   "source": [
    "import numpy as np\n",
    "import matplotlib.pyplot as plt\n",
    "import seaborn as sns\n",
    "\n",
    "# Assuming 'data' and 'keys' variables are already defined\n",
    "mask = np.tril(np.ones_like(data, dtype=bool))\n",
    "medians = np.median(data, axis=1)  # Calculate medians\n",
    "\n",
    "# Sorting medians and keys from high to low\n",
    "sorted_indices = np.argsort(medians)[::-1]\n",
    "sorted_medians = medians[sorted_indices]\n",
    "sorted_keys = np.array(keys)[sorted_indices]\n",
    "\n",
    "# Plotting the heatmap separately\n",
    "fig, ax = plt.subplots(figsize=(9, 9))\n",
    "sns.heatmap(data, mask=mask, annot=True, cmap=sns.diverging_palette(220, 20, as_cmap=True), ax=ax, cbar=False)\n",
    "ax.set_xticklabels(keys, rotation=45, fontsize=14)\n",
    "ax.set_yticks([]) \n",
    "ax.xaxis.tick_top()\n",
    "plt.tight_layout()\n",
    "plt.savefig(f'/mnt/nas/user/yixuan/Multiomics-benchmark-main/evaluation/workflow/scripts/graphs/{main_type}_heatmap.pdf', transparent=True)\n",
    "\n",
    "# Plotting the sorted histogram separately with color coding\n",
    "fig, ax = plt.subplots(figsize=(7, 4))\n",
    "bar_width = 0.35\n",
    "x = np.arange(len(sorted_keys))\n",
    "\n",
    "# Color coding based on intervals\n",
    "for i, median in enumerate(sorted_medians):\n",
    "    color = sns.diverging_palette(220, 20)[4] if median >= 0.7 else (sns.diverging_palette(220, 20)[1] if median >= 0.6 else sns.diverging_palette(220, 20)[0])\n",
    "    ax.bar(i, median, width=bar_width, color=color)\n",
    "\n",
    "ax.set_xticks(x)\n",
    "ax.set_xticklabels(sorted_keys, rotation=60, fontsize=12)\n",
    "ax.set_ylim(0.2, 1)\n",
    "ax.set_ylabel('Median', fontsize=16)  # Label changed to 'Median'\n",
    "plt.tight_layout()\n",
    "plt.savefig(f'/mnt/nas/user/yixuan/Multiomics-benchmark-main/evaluation/workflow/scripts/graphs/{main_type}_histogram.pdf', transparent=True)\n"
   ]
  },
  {
   "cell_type": "code",
   "execution_count": null,
   "metadata": {},
   "outputs": [],
   "source": []
  }
 ],
 "metadata": {
  "kernelspec": {
   "display_name": "midi",
   "language": "python",
   "name": "python3"
  },
  "language_info": {
   "codemirror_mode": {
    "name": "ipython",
    "version": 3
   },
   "file_extension": ".py",
   "mimetype": "text/x-python",
   "name": "python",
   "nbconvert_exporter": "python",
   "pygments_lexer": "ipython3",
   "version": "3.8.13"
  }
 },
 "nbformat": 4,
 "nbformat_minor": 2
}
